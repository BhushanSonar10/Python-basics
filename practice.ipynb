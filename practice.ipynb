{
  "cells": [
    {
      "cell_type": "markdown",
      "metadata": {
        "id": "view-in-github",
        "colab_type": "text"
      },
      "source": [
        "<a href=\"https://colab.research.google.com/github/BhushanSonar10/Python-basics/blob/main/practice.ipynb\" target=\"_parent\"><img src=\"https://colab.research.google.com/assets/colab-badge.svg\" alt=\"Open In Colab\"/></a>"
      ]
    },
    {
      "cell_type": "code",
      "execution_count": null,
      "metadata": {
        "colab": {
          "base_uri": "https://localhost:8080/"
        },
        "id": "R1svU4P0m8YV",
        "outputId": "6b398bc3-1d9b-47be-a9c4-05e7a33bd9fd"
      },
      "outputs": [
        {
          "name": "stdout",
          "output_type": "stream",
          "text": [
            "Bro\n"
          ]
        }
      ],
      "source": [
        "first_name=\"Bro\"\n",
        "print(first_name)"
      ]
    },
    {
      "cell_type": "code",
      "execution_count": null,
      "metadata": {
        "colab": {
          "base_uri": "https://localhost:8080/"
        },
        "id": "b-UqhrAanzSa",
        "outputId": "036cca8b-1aaa-4717-c4d1-63ad17e0937b"
      },
      "outputs": [
        {
          "name": "stdout",
          "output_type": "stream",
          "text": [
            "HelloBro\n"
          ]
        }
      ],
      "source": [
        "print(f\"Hello{first_name}\")\n"
      ]
    },
    {
      "cell_type": "code",
      "execution_count": null,
      "metadata": {
        "colab": {
          "base_uri": "https://localhost:8080/"
        },
        "id": "wP3WsKbRoXDE",
        "outputId": "afc16cf8-56ba-44f3-981e-2d99d32425f4"
      },
      "outputs": [
        {
          "name": "stdout",
          "output_type": "stream",
          "text": [
            "you hate pizza\n"
          ]
        }
      ],
      "source": [
        "food=\"pizza\"\n",
        "print(f\"you hate {food}\")"
      ]
    },
    {
      "cell_type": "markdown",
      "metadata": {
        "id": "pwVIz5jNo_pE"
      },
      "source": [
        "Integers\n"
      ]
    },
    {
      "cell_type": "code",
      "execution_count": null,
      "metadata": {
        "colab": {
          "base_uri": "https://localhost:8080/"
        },
        "id": "q7gLQQZ8pC-Z",
        "outputId": "60e1a836-d881-48d9-cebf-0c4c5f2b42c9"
      },
      "outputs": [
        {
          "name": "stdout",
          "output_type": "stream",
          "text": [
            "you are 25 years old \n",
            "you are buying3 items\n"
          ]
        }
      ],
      "source": [
        "age=25\n",
        "print(f\"you are {age} years old \")\n",
        "quantity=3\n",
        "print(f\"you are buying {quantity} items\")"
      ]
    },
    {
      "cell_type": "code",
      "execution_count": null,
      "metadata": {
        "colab": {
          "base_uri": "https://localhost:8080/"
        },
        "id": "hZRE7_AbsuHZ",
        "outputId": "fed86f69-96d5-4b27-d062-b3a8ddda5f1d"
      },
      "outputs": [
        {
          "name": "stdout",
          "output_type": "stream",
          "text": [
            " the price is 10.99\n"
          ]
        }
      ],
      "source": [
        "#float\n",
        "price=10.99\n",
        "print(f\" the price is {price}\")"
      ]
    },
    {
      "cell_type": "code",
      "execution_count": null,
      "metadata": {
        "colab": {
          "base_uri": "https://localhost:8080/"
        },
        "id": "XNNda3VUwlJ-",
        "outputId": "5d0b4edc-ba8b-4085-e765-ef8013767140"
      },
      "outputs": [
        {
          "name": "stdout",
          "output_type": "stream",
          "text": [
            "are you student True  \n"
          ]
        }
      ],
      "source": [
        "#Boolean\n",
        "is_student= True\n",
        "print(f\"are you student {is_student}  \")"
      ]
    },
    {
      "cell_type": "code",
      "execution_count": null,
      "metadata": {
        "colab": {
          "base_uri": "https://localhost:8080/"
        },
        "id": "NEG8Q__gIhCj",
        "outputId": "6c182f57-474c-4f99-8c68-45b7ac39b03e"
      },
      "outputs": [
        {
          "name": "stdout",
          "output_type": "stream",
          "text": [
            "221\n",
            "True\n"
          ]
        }
      ],
      "source": [
        "name=\"xyz\"\n",
        "age=\"22\"\n",
        "age= str(age)\n",
        "age +=\"1\"\n",
        "print(age)\n",
        "name=bool(name)\n",
        "print(name)\n"
      ]
    },
    {
      "cell_type": "code",
      "execution_count": null,
      "metadata": {
        "colab": {
          "base_uri": "https://localhost:8080/"
        },
        "id": "zz_9rZqUJb6W",
        "outputId": "57b84669-0807-43ff-c6a2-ca783d044cbc"
      },
      "outputs": [
        {
          "name": "stdout",
          "output_type": "stream",
          "text": [
            "what is your nameBhushan\n",
            "what is your age22\n",
            "Hello Bhushan\n",
            "22\n"
          ]
        }
      ],
      "source": [
        "  name=input(\"what is your name\")\n",
        "  age=int(input(\"what is your age:\"))\n",
        "  print(f\"Hello {name}\")\n",
        "  print(age)"
      ]
    },
    {
      "cell_type": "code",
      "execution_count": null,
      "metadata": {
        "colab": {
          "base_uri": "https://localhost:8080/"
        },
        "id": "Th5qNNtPMQaQ",
        "outputId": "93ee990a-fe96-4fd1-93c0-5d5ef2fc988b"
      },
      "outputs": [
        {
          "name": "stdout",
          "output_type": "stream",
          "text": [
            "length of the rectangle5\n",
            "width of the rectangle3\n",
            "the area of the rectangle is 15.0\n"
          ]
        }
      ],
      "source": [
        "#area of the rectangle\n",
        "length=float(input(\"length of the rectangle\"))\n",
        "width=float(input(\"width of the rectangle\"))\n",
        "area=length*width\n",
        "print(f\"the area of the rectangle is {area}\")"
      ]
    },
    {
      "cell_type": "code",
      "execution_count": null,
      "metadata": {
        "colab": {
          "base_uri": "https://localhost:8080/"
        },
        "id": "-eT_9_QMBiED",
        "outputId": "06a880d7-66cb-4f61-c081-777f8187d35d"
      },
      "outputs": [
        {
          "name": "stdout",
          "output_type": "stream",
          "text": [
            "What item you like to buy:pizza\n",
            "What is the price of the item:4\n",
            "How many items you want?78\n",
            "you have bought78xpizza\n",
            "the total price is 312.0\n"
          ]
        }
      ],
      "source": [
        "#shopping cart program\n",
        "item=input(\"What item you like to buy:\")\n",
        "price=float(input(\"What is the price of the item:\"))\n",
        "quantity=int(input(\"How many items you want?\" ))\n",
        "total=price*quantity\n",
        "print(f\"you have bought{quantity}x{item}\")\n",
        "print(f\"the total price is {total}\")"
      ]
    },
    {
      "cell_type": "markdown",
      "metadata": {
        "id": "Y3dLPtC6H7H7"
      },
      "source": []
    },
    {
      "cell_type": "code",
      "execution_count": null,
      "metadata": {
        "colab": {
          "base_uri": "https://localhost:8080/",
          "height": 356
        },
        "id": "YrvM5gqJDPRM",
        "outputId": "86f827b6-3f19-4c22-ef06-a77bc81d3090"
      },
      "outputs": [
        {
          "ename": "KeyboardInterrupt",
          "evalue": "Interrupted by user",
          "output_type": "error",
          "traceback": [
            "\u001b[0;31m---------------------------------------------------------------------------\u001b[0m",
            "\u001b[0;31mKeyboardInterrupt\u001b[0m                         Traceback (most recent call last)",
            "\u001b[0;32m<ipython-input-10-229f5c3b2e17>\u001b[0m in \u001b[0;36m<cell line: 2>\u001b[0;34m()\u001b[0m\n\u001b[1;32m      1\u001b[0m \u001b[0;31m#madlibs game\u001b[0m\u001b[0;34m\u001b[0m\u001b[0;34m\u001b[0m\u001b[0m\n\u001b[0;32m----> 2\u001b[0;31m \u001b[0madj1\u001b[0m\u001b[0;34m=\u001b[0m\u001b[0minput\u001b[0m\u001b[0;34m(\u001b[0m\u001b[0;34m\"Adjective:\"\u001b[0m\u001b[0;34m)\u001b[0m\u001b[0;34m\u001b[0m\u001b[0;34m\u001b[0m\u001b[0m\n\u001b[0m\u001b[1;32m      3\u001b[0m \u001b[0mnoun\u001b[0m\u001b[0;34m=\u001b[0m\u001b[0minput\u001b[0m\u001b[0;34m(\u001b[0m\u001b[0;34m\"Noun:\"\u001b[0m\u001b[0;34m)\u001b[0m\u001b[0;34m\u001b[0m\u001b[0;34m\u001b[0m\u001b[0m\n\u001b[1;32m      4\u001b[0m \u001b[0madj2\u001b[0m\u001b[0;34m=\u001b[0m\u001b[0minput\u001b[0m\u001b[0;34m(\u001b[0m\u001b[0;34m\"Adjective:\"\u001b[0m\u001b[0;34m)\u001b[0m\u001b[0;34m\u001b[0m\u001b[0;34m\u001b[0m\u001b[0m\n\u001b[1;32m      5\u001b[0m \u001b[0mverb\u001b[0m\u001b[0;34m=\u001b[0m\u001b[0minput\u001b[0m\u001b[0;34m(\u001b[0m\u001b[0;34m\"Verb:\"\u001b[0m\u001b[0;34m)\u001b[0m\u001b[0;34m\u001b[0m\u001b[0;34m\u001b[0m\u001b[0m\n",
            "\u001b[0;32m/usr/local/lib/python3.10/dist-packages/ipykernel/kernelbase.py\u001b[0m in \u001b[0;36mraw_input\u001b[0;34m(self, prompt)\u001b[0m\n\u001b[1;32m    849\u001b[0m                 \u001b[0;34m\"raw_input was called, but this frontend does not support input requests.\"\u001b[0m\u001b[0;34m\u001b[0m\u001b[0;34m\u001b[0m\u001b[0m\n\u001b[1;32m    850\u001b[0m             )\n\u001b[0;32m--> 851\u001b[0;31m         return self._input_request(str(prompt),\n\u001b[0m\u001b[1;32m    852\u001b[0m             \u001b[0mself\u001b[0m\u001b[0;34m.\u001b[0m\u001b[0m_parent_ident\u001b[0m\u001b[0;34m,\u001b[0m\u001b[0;34m\u001b[0m\u001b[0;34m\u001b[0m\u001b[0m\n\u001b[1;32m    853\u001b[0m             \u001b[0mself\u001b[0m\u001b[0;34m.\u001b[0m\u001b[0m_parent_header\u001b[0m\u001b[0;34m,\u001b[0m\u001b[0;34m\u001b[0m\u001b[0;34m\u001b[0m\u001b[0m\n",
            "\u001b[0;32m/usr/local/lib/python3.10/dist-packages/ipykernel/kernelbase.py\u001b[0m in \u001b[0;36m_input_request\u001b[0;34m(self, prompt, ident, parent, password)\u001b[0m\n\u001b[1;32m    893\u001b[0m             \u001b[0;32mexcept\u001b[0m \u001b[0mKeyboardInterrupt\u001b[0m\u001b[0;34m:\u001b[0m\u001b[0;34m\u001b[0m\u001b[0;34m\u001b[0m\u001b[0m\n\u001b[1;32m    894\u001b[0m                 \u001b[0;31m# re-raise KeyboardInterrupt, to truncate traceback\u001b[0m\u001b[0;34m\u001b[0m\u001b[0;34m\u001b[0m\u001b[0m\n\u001b[0;32m--> 895\u001b[0;31m                 \u001b[0;32mraise\u001b[0m \u001b[0mKeyboardInterrupt\u001b[0m\u001b[0;34m(\u001b[0m\u001b[0;34m\"Interrupted by user\"\u001b[0m\u001b[0;34m)\u001b[0m \u001b[0;32mfrom\u001b[0m \u001b[0;32mNone\u001b[0m\u001b[0;34m\u001b[0m\u001b[0;34m\u001b[0m\u001b[0m\n\u001b[0m\u001b[1;32m    896\u001b[0m             \u001b[0;32mexcept\u001b[0m \u001b[0mException\u001b[0m \u001b[0;32mas\u001b[0m \u001b[0me\u001b[0m\u001b[0;34m:\u001b[0m\u001b[0;34m\u001b[0m\u001b[0;34m\u001b[0m\u001b[0m\n\u001b[1;32m    897\u001b[0m                 \u001b[0mself\u001b[0m\u001b[0;34m.\u001b[0m\u001b[0mlog\u001b[0m\u001b[0;34m.\u001b[0m\u001b[0mwarning\u001b[0m\u001b[0;34m(\u001b[0m\u001b[0;34m\"Invalid Message:\"\u001b[0m\u001b[0;34m,\u001b[0m \u001b[0mexc_info\u001b[0m\u001b[0;34m=\u001b[0m\u001b[0;32mTrue\u001b[0m\u001b[0;34m)\u001b[0m\u001b[0;34m\u001b[0m\u001b[0;34m\u001b[0m\u001b[0m\n",
            "\u001b[0;31mKeyboardInterrupt\u001b[0m: Interrupted by user"
          ]
        }
      ],
      "source": [
        "#madlibs game\n",
        "adj1=input(\"Adjective:\")\n",
        "noun=input(\"Noun:\")\n",
        "adj2=input(\"Adjective:\")\n",
        "verb=input(\"Verb:\")\n",
        "print(f\"today I went to {adj1}zoo\")\n",
        "#madlibs game\n",
        "adj1=input(\"Adjective:\")\n",
        "noun =input(\"Noun:\")\n",
        "adj2=input(\"Adjective:\")\n",
        "verb=input(\"Verb:\")\n",
        "adj3=input(\"Adjective:\")\n",
        "print(f\"today I went to the {adj1} zoo\")\n",
        "print(f\"I saw a {noun}\")\n",
        "print(f\"The {noun} was {adj2}\")\n",
        "print(f\"I {verb} with the {noun}\")\n",
        "print(f\"I was {adj3}\")"
      ]
    },
    {
      "cell_type": "code",
      "execution_count": null,
      "metadata": {
        "colab": {
          "base_uri": "https://localhost:8080/"
        },
        "id": "UAffWlxucbIa",
        "outputId": "a7e68c90-d15a-43d8-dee5-9388d35995ff"
      },
      "outputs": [
        {
          "name": "stdout",
          "output_type": "stream",
          "text": [
            "50.0\n"
          ]
        }
      ],
      "source": [
        "friends=5\n",
        "#friends+=1\n",
        "#friends-=1\n",
        "friends*=2\n",
        "friends**=2\n",
        "friends/=2\n",
        "print(friends)\n"
      ]
    },
    {
      "cell_type": "code",
      "execution_count": null,
      "metadata": {
        "colab": {
          "base_uri": "https://localhost:8080/"
        },
        "id": "EP9DecYVfUC8",
        "outputId": "6c1e5675-9780-40a4-b094-62337bcd579c"
      },
      "outputs": [
        {
          "name": "stdout",
          "output_type": "stream",
          "text": [
            "3\n",
            "3.142\n",
            "16\n",
            "4\n",
            "2\n"
          ]
        }
      ],
      "source": [
        "x=3.142\n",
        "y=2\n",
        "z=4\n",
        "result=round(x)\n",
        "print(result)\n",
        "result=abs(x)\n",
        "print(result)\n",
        "result=pow(y,z)\n",
        "print(result)\n",
        "result=max(x,y,z)\n",
        "print(result)\n",
        "result=min(x,y,z)\n",
        "print(result)"
      ]
    },
    {
      "cell_type": "code",
      "execution_count": null,
      "metadata": {
        "colab": {
          "base_uri": "https://localhost:8080/"
        },
        "id": "NHvNvkd6ihr4",
        "outputId": "0f5343ba-8b74-4f63-eb2d-1336b84c159d"
      },
      "outputs": [
        {
          "name": "stdout",
          "output_type": "stream",
          "text": [
            "3.141592653589793\n",
            "2.718281828459045\n",
            "3\n",
            "2\n",
            "1.70293863659264\n",
            "3\n"
          ]
        }
      ],
      "source": [
        "import math\n",
        "x=2.9\n",
        "print(math.pi)\n",
        "print(math.e)\n",
        "print(math.ceil(x))\n",
        "print(math.floor(x))\n",
        "print(math.sqrt(x))\n",
        "print(round(x))"
      ]
    },
    {
      "cell_type": "code",
      "execution_count": null,
      "metadata": {
        "colab": {
          "base_uri": "https://localhost:8080/"
        },
        "id": "_5Nnk4pjj0EH",
        "outputId": "fd33d988-e904-4f9e-88f4-bd4825ca679d"
      },
      "outputs": [
        {
          "name": "stdout",
          "output_type": "stream",
          "text": [
            "what is the radius of the circle5\n",
            "the area of the circle is 79\n"
          ]
        }
      ],
      "source": [
        "import math\n",
        "radius=float(input(\"what is the radius of the circle\"))\n",
        "area=math.pi*radius**2\n",
        "print(f\"the area of the circle is {round(area)}\")"
      ]
    },
    {
      "cell_type": "code",
      "execution_count": null,
      "metadata": {
        "colab": {
          "base_uri": "https://localhost:8080/"
        },
        "id": "AyoHcDMrkSfs",
        "outputId": "e3a3ffc8-651b-4d3b-f562-91ddc7c487be"
      },
      "outputs": [
        {
          "name": "stdout",
          "output_type": "stream",
          "text": [
            "what is the radius of the circle5\n",
            "the cicumference of the circle is 31\n"
          ]
        }
      ],
      "source": [
        "import math\n",
        "radius=float(input(\"what is the radius of the circle\"))\n",
        "cicumference=math.pi*radius*2\n",
        "print(f\"the cicumference of the circle is {round(cicumference)}\")"
      ]
    },
    {
      "cell_type": "code",
      "execution_count": null,
      "metadata": {
        "colab": {
          "base_uri": "https://localhost:8080/"
        },
        "id": "19tvoUScmVu3",
        "outputId": "3600e0b8-88c7-456d-8ecd-3af5ca3c4a3f"
      },
      "outputs": [
        {
          "name": "stdout",
          "output_type": "stream",
          "text": [
            "enter side a:3\n",
            "enter side b:4\n",
            "the value of c is 5.0\n"
          ]
        }
      ],
      "source": [
        "\n",
        "import math\n",
        "a=float(input(\"enter side a:\"))\n",
        "b=float(input(\"enter side b:\"))\n",
        "c=math.sqrt(pow(a,2)+pow(b,2))\n",
        "print(f\"the value of c is {(c)}\")"
      ]
    },
    {
      "cell_type": "code",
      "execution_count": null,
      "metadata": {
        "colab": {
          "base_uri": "https://localhost:8080/"
        },
        "id": "3qtOPdvRvq55",
        "outputId": "16a5e78e-ee20-458b-a38b-9430f0970c5d"
      },
      "outputs": [
        {
          "name": "stdout",
          "output_type": "stream",
          "text": [
            "what is your age:5\n",
            "you are not an adult\n"
          ]
        }
      ],
      "source": [
        "age=int(input(\"what is your age:\"))\n",
        "if age>=18:\n",
        "    print(\"you are an adult\")\n",
        "elif age < 0:\n",
        "    print(\"you are not born yet\")\n",
        "\n",
        "else:\n",
        "    print(\"you are not an adult\")"
      ]
    },
    {
      "cell_type": "code",
      "execution_count": null,
      "metadata": {
        "colab": {
          "base_uri": "https://localhost:8080/"
        },
        "id": "p5jFfQXRwK8H",
        "outputId": "37c0d636-3e2e-40a9-d45d-cf2e8dd92651"
      },
      "outputs": [
        {
          "name": "stdout",
          "output_type": "stream",
          "text": [
            "the item is for sale\n"
          ]
        }
      ],
      "source": [
        "for_sale= True\n",
        "if for_sale:\n",
        "    print(\"the item is for sale\")\n",
        "else:\n",
        "    print(\"the item is not for sale\")"
      ]
    },
    {
      "cell_type": "code",
      "execution_count": null,
      "metadata": {
        "colab": {
          "base_uri": "https://localhost:8080/"
        },
        "id": "8ivy_hQI5D4Y",
        "outputId": "9bda9dbf-3c66-4434-edf0-b6d196ae748f"
      },
      "outputs": [
        {
          "name": "stdout",
          "output_type": "stream",
          "text": [
            "enter an operator(+,-,*,/):+\n",
            "enter first number:1\n",
            "enter second number:5\n",
            "6.0\n"
          ]
        }
      ],
      "source": [
        "operator=input(\"enter an operator(+,-,*,/):\")\n",
        "num1=float(input(\"enter first number:\"))\n",
        "num2=float(input(\"enter second number:\"))\n",
        "if operator==\"+\":\n",
        "    print(num1+num2)\n",
        "elif operator==\"-\":\n",
        "    print(num1-num2)"
      ]
    },
    {
      "cell_type": "code",
      "execution_count": null,
      "metadata": {
        "colab": {
          "base_uri": "https://localhost:8080/"
        },
        "id": "3e6ockCGbg0b",
        "outputId": "26d3d3d2-e9d7-40c9-b1d5-088895564bd0"
      },
      "outputs": [
        {
          "name": "stdout",
          "output_type": "stream",
          "text": [
            "eneter your weight45\n",
            "kilograms or pounds?(kgs or lbs):kgs\n",
            "your weight is 99.22500000000001 lbs\n"
          ]
        }
      ],
      "source": [
        "#weight converter\n",
        "weight=float(input(\"eneter your weight\"))\n",
        "unit=input(\"kilograms or pounds?(kgs or lbs):\")\n",
        "if unit==\"kgs\":\n",
        "    converted=weight*2.205\n",
        "    unit=\"lbs\"\n",
        "\n",
        "elif unit==\"lbs\":\n",
        "    converted=weight/2.205\n",
        "    unit=\"kgs\"\n",
        "else:\n",
        "    print(\"invalid unit\")\n",
        "print(f\"your weight is {converted} {unit}\")"
      ]
    },
    {
      "cell_type": "code",
      "execution_count": null,
      "metadata": {
        "colab": {
          "base_uri": "https://localhost:8080/"
        },
        "id": "vgut_HsedSj-",
        "outputId": "97d79e81-5f9c-4921-bed7-f7f67f88e606"
      },
      "outputs": [
        {
          "name": "stdout",
          "output_type": "stream",
          "text": [
            "is this temperature is in celsious or fahrenheit(C?E):c\n",
            "eneter the temp32\n",
            "invalid unit\n",
            "the temperature is 99.22500000000001 c\n"
          ]
        }
      ],
      "source": [
        "unit=input(\"is this temperature is in celsious or fahrenheit(C?E):\")\n",
        "temp=float(input(\"eneter the temp\"))\n",
        "if unit==\"C\":\n",
        "    converted=(temp*9)/5+32\n",
        "    unit=\"F\"\n",
        "elif unit==\"E\":\n",
        "    converted=(temp-32)*5/9\n",
        "    unit=\"C\"\n",
        "else:\n",
        "    print(\"invalid unit\")\n",
        "print(f\"the temperature is {converted} {unit}\")"
      ]
    },
    {
      "cell_type": "code",
      "execution_count": null,
      "metadata": {
        "colab": {
          "base_uri": "https://localhost:8080/"
        },
        "id": "BrjCDBYUrda0",
        "outputId": "5e7a2f88-fbc6-4d9c-b0ba-26498ece8fac"
      },
      "outputs": [
        {
          "name": "stdout",
          "output_type": "stream",
          "text": [
            "the outdoor event isconducted\n"
          ]
        }
      ],
      "source": [
        "temp=25\n",
        "is_raining=False\n",
        "if temp > 35 or temp < 0 or is_raining:\n",
        "    print(\"the outdoor event is cancelled\")\n",
        "else:\n",
        "    print(\"the outdoor event isconducted\")"
      ]
    },
    {
      "cell_type": "code",
      "execution_count": null,
      "metadata": {
        "colab": {
          "base_uri": "https://localhost:8080/"
        },
        "id": "doieHlSQ8a1R",
        "outputId": "65e002db-dfe6-42d5-f441-162a3a835973"
      },
      "outputs": [
        {
          "name": "stdout",
          "output_type": "stream",
          "text": [
            "even\n"
          ]
        }
      ],
      "source": [
        "# x if condition else y\n",
        "num=6\n",
        "result=\"even\" if num%2==0 else \"odd\"\n",
        "print(result)"
      ]
    },
    {
      "cell_type": "code",
      "execution_count": null,
      "metadata": {
        "colab": {
          "base_uri": "https://localhost:8080/"
        },
        "id": "n0Qm-fH79zLQ",
        "outputId": "c452ec63-53e2-4eec-c7a3-7bf2797c9bd5"
      },
      "outputs": [
        {
          "name": "stdout",
          "output_type": "stream",
          "text": [
            "enter your name:bushan\n",
            "False\n",
            "True\n"
          ]
        }
      ],
      "source": [
        "name=input(\"enter your name:\")\n",
        "#result=len(name)\n",
        "#print(result)\n",
        "#result=name.find(\"u\")\n",
        "#result=name.rfind(\"u\")\n",
        "#name=name.capitalize()\n",
        "#name=name.upper()\n",
        "#name=name.lower()\n",
        "#print(name)\n",
        "result=name.isdigit()\n",
        "print(result)\n",
        "result=name.isalpha()\n",
        "print(result)"
      ]
    },
    {
      "cell_type": "code",
      "execution_count": null,
      "metadata": {
        "colab": {
          "base_uri": "https://localhost:8080/"
        },
        "id": "QHN_lBjGO-p7",
        "outputId": "85ac9b44-f10d-40a3-aeab-eaf3c4bf0542"
      },
      "outputs": [
        {
          "name": "stdout",
          "output_type": "stream",
          "text": [
            "enter your phone number:123-23-435-6\n",
            "123234356\n"
          ]
        }
      ],
      "source": [
        "phone_number=input(\"enter your phone number:\")\n",
        "#result= phone_number.count(\"-\")\n",
        "phone_number=phone_number.replace(\"-\",\"\")\n",
        "print(phone_number)\n",
        "#print(result)\n"
      ]
    },
    {
      "cell_type": "code",
      "execution_count": null,
      "metadata": {
        "colab": {
          "base_uri": "https://localhost:8080/"
        },
        "id": "WfXvV3cdROLY",
        "outputId": "56855c1d-940e-44e0-9621-d497193fb8e7"
      },
      "outputs": [
        {
          "name": "stdout",
          "output_type": "stream",
          "text": [
            "enter your username:ghj-fgh\n",
            "invalid username\n"
          ]
        }
      ],
      "source": [
        "username=input(\"enter your username:\")\n",
        "if len(username)>12:\n",
        "    print(\"invalid username\")\n",
        "elif not username.find(\"\")== -1:\n",
        "    print(\"invalid username\")\n",
        "\n",
        "else:\n",
        "    print(f\"Welcome {username}\")"
      ]
    },
    {
      "cell_type": "code",
      "execution_count": null,
      "metadata": {
        "colab": {
          "base_uri": "https://localhost:8080/"
        },
        "id": "eVgGBBt0go_v",
        "outputId": "8f1fe120-5cf7-4b07-c337-ddcd639c08dd"
      },
      "outputs": [
        {
          "name": "stdout",
          "output_type": "stream",
          "text": [
            "1234\n",
            "56\n",
            "678-0912-4567\n",
            "4\n",
            "13-6801-57\n",
            "4567\n"
          ]
        }
      ],
      "source": [
        "credit_num= \"1234-5678-0912-4567\"\n",
        "print(credit_num[0:4])\n",
        "print(credit_num[5:7])\n",
        "print(credit_num[6:])\n",
        "print(credit_num[- 4])\n",
        "print(credit_num[::2])\n",
        "last_digits=credit_num[-4:]\n",
        "print(last_digits)"
      ]
    },
    {
      "cell_type": "code",
      "execution_count": null,
      "metadata": {
        "id": "Pz6bb_pix97B"
      },
      "outputs": [],
      "source": [
        " #format specifiers= {value: flags}"
      ]
    },
    {
      "cell_type": "code",
      "execution_count": 2,
      "metadata": {
        "colab": {
          "base_uri": "https://localhost:8080/"
        },
        "id": "hpwsFPTp0VLk",
        "outputId": "589baa10-e660-4e0f-9849-769975ef0870"
      },
      "outputs": [
        {
          "output_type": "stream",
          "name": "stdout",
          "text": [
            "1\n",
            "2\n",
            "3\n",
            "4\n",
            "5\n",
            "6\n",
            "7\n",
            "8\n",
            "9\n",
            "10\n"
          ]
        }
      ],
      "source": [
        "i=1\n",
        "while(i<=10):\n",
        "    print(i)\n",
        "    i+=1\n",
        ""
      ]
    },
    {
      "cell_type": "code",
      "execution_count": null,
      "metadata": {
        "colab": {
          "base_uri": "https://localhost:8080/"
        },
        "id": "G1tS_yes-5Uz",
        "outputId": "d5812688-0dea-4541-c442-06f3511ff7cd"
      },
      "outputs": [
        {
          "name": "stdout",
          "output_type": "stream",
          "text": [
            "1\n",
            "2\n",
            "3\n",
            "4\n"
          ]
        }
      ],
      "source": [
        "i=1\n",
        "while(i<5):\n",
        "    print(i)\n",
        "    i+=1"
      ]
    },
    {
      "cell_type": "code",
      "execution_count": null,
      "metadata": {
        "colab": {
          "base_uri": "https://localhost:8080/"
        },
        "id": "rVk_4B2uBRaY",
        "outputId": "ca9ea613-3648-4339-f406-01e1c432b956"
      },
      "outputs": [
        {
          "name": "stdout",
          "output_type": "stream",
          "text": [
            "11\n",
            "13\n",
            "15\n",
            "17\n",
            "19\n",
            "21\n",
            "23\n",
            "25\n",
            "27\n",
            "29\n",
            "31\n",
            "33\n"
          ]
        }
      ],
      "source": [
        "for i in range(11,34,2):\n",
        "    print(i)"
      ]
    },
    {
      "cell_type": "code",
      "execution_count": null,
      "metadata": {
        "colab": {
          "base_uri": "https://localhost:8080/"
        },
        "id": "uiVrZa8UBtTU",
        "outputId": "48540866-2767-4f67-fa7b-f81be0534955"
      },
      "outputs": [
        {
          "name": "stdout",
          "output_type": "stream",
          "text": [
            "1\n",
            "2\n",
            "3\n",
            "56\n",
            "78\n",
            "done\n"
          ]
        }
      ],
      "source": [
        "l= [1,2,3,56,78]\n",
        "for hii in l:\n",
        "    print(hii)\n",
        "else:\n",
        "  print(\"done\")\n"
      ]
    },
    {
      "cell_type": "code",
      "execution_count": null,
      "metadata": {
        "colab": {
          "base_uri": "https://localhost:8080/"
        },
        "id": "6B6ga3RMCUQM",
        "outputId": "6e97a9ce-bb73-4767-fb5c-a7e960afb8a9"
      },
      "outputs": [
        {
          "name": "stdout",
          "output_type": "stream",
          "text": [
            "12\n",
            "4\n",
            "67\n",
            "8\n",
            "789\n"
          ]
        }
      ],
      "source": [
        "t=(12,4,67,8,789)\n",
        "for i in t:\n",
        "  print(i)"
      ]
    },
    {
      "cell_type": "code",
      "execution_count": null,
      "metadata": {
        "id": "NM-awf83FDhh"
      },
      "outputs": [],
      "source": []
    },
    {
      "cell_type": "code",
      "execution_count": null,
      "metadata": {
        "id": "LRZxJjrJLXEh"
      },
      "outputs": [],
      "source": [
        "for i in range(100):\n",
        "  if(i==34):\n",
        "      break #exit the loop right now\n",
        "      print(i)\n",
        "for i in range(100):\n",
        "  if(i==34):\n",
        "      continue #skip\n",
        "      print(i)\n"
      ]
    },
    {
      "cell_type": "code",
      "execution_count": null,
      "metadata": {
        "colab": {
          "base_uri": "https://localhost:8080/"
        },
        "id": "gdfRPBKpMS0A",
        "outputId": "48e87f01-2cb4-4fee-effa-b90c8ed27db6"
      },
      "outputs": [
        {
          "name": "stdout",
          "output_type": "stream",
          "text": [
            "enter a number:5\n",
            "5X 1=5\n",
            "5X 2=55\n",
            "5X 3=555\n",
            "5X 4=5555\n",
            "5X 5=55555\n",
            "5X 6=555555\n",
            "5X 7=5555555\n",
            "5X 8=55555555\n",
            "5X 9=555555555\n",
            "5X 10=5555555555\n"
          ]
        }
      ],
      "source": [
        "n= input(\"enter a number:\")\n",
        "for i in range(1,11):\n",
        "    print(f\"{n }X {i}={n*i}\")"
      ]
    },
    {
      "cell_type": "code",
      "execution_count": null,
      "metadata": {
        "colab": {
          "base_uri": "https://localhost:8080/"
        },
        "id": "uUNV7HBfRjlg",
        "outputId": "99a03b02-4a4d-4e22-8cbf-20df947e3a33"
      },
      "outputs": [
        {
          "name": "stdout",
          "output_type": "stream",
          "text": [
            "hello sahil\n",
            "hello sohan\n"
          ]
        }
      ],
      "source": [
        "l=[\"harry\",\"sahil\", \"sohan\"]\n",
        "for name in l:\n",
        "     if name.startswith(\"s\"):\n",
        "        print(f\"hello {name}\")"
      ]
    },
    {
      "cell_type": "code",
      "execution_count": null,
      "metadata": {
        "colab": {
          "base_uri": "https://localhost:8080/"
        },
        "id": "bklYlXJvTYu3",
        "outputId": "4b8a39e7-1bd3-4ce6-f50c-311798d649fe"
      },
      "outputs": [
        {
          "name": "stdout",
          "output_type": "stream",
          "text": [
            "enter a number:5\n",
            "prime\n"
          ]
        }
      ],
      "source": [
        "n=int(input(\"enter a number:\"))\n",
        "for i in range(2, n):\n",
        "    if n%i==0:\n",
        "        print(\"not prime\")\n",
        "        break\n",
        "else:\n",
        "    print(\"prime\")"
      ]
    },
    {
      "cell_type": "code",
      "execution_count": null,
      "metadata": {
        "colab": {
          "base_uri": "https://localhost:8080/"
        },
        "id": "Z1rBMAjhp-bF",
        "outputId": "4bfc835f-2097-4819-d194-fcbbd77019cf"
      },
      "outputs": [
        {
          "name": "stdout",
          "output_type": "stream",
          "text": [
            "eneter the num:8\n",
            "36\n"
          ]
        }
      ],
      "source": [
        "n = int(input(\"eneter the num:\"))\n",
        "i=1\n",
        "sum=0\n",
        "while (i<=n):\n",
        "    sum += i\n",
        "    i+=1\n",
        "print(sum)"
      ]
    },
    {
      "cell_type": "code",
      "execution_count": null,
      "metadata": {
        "colab": {
          "base_uri": "https://localhost:8080/"
        },
        "id": "BpOEosr7qW2J",
        "outputId": "ac987e05-7bc8-42bf-c6de-882f0f126d8a"
      },
      "outputs": [
        {
          "name": "stdout",
          "output_type": "stream",
          "text": [
            "eneter the number:5\n",
            "the factorial of 5 is 120\n"
          ]
        }
      ],
      "source": [
        "n=int(input(\"eneter the number:\"))\n",
        "product=1\n",
        "for i in range(1,n+1):\n",
        "    product*=i\n",
        "print(f\"the factorial of {n} is {product}\")"
      ]
    },
    {
      "cell_type": "markdown",
      "metadata": {
        "id": "ou569TYcuY_P"
      },
      "source": [
        "Lists\n"
      ]
    },
    {
      "cell_type": "code",
      "execution_count": null,
      "metadata": {
        "colab": {
          "base_uri": "https://localhost:8080/"
        },
        "id": "NQW27cXducBI",
        "outputId": "0f9922ac-4a4f-42b0-dbea-10c99eb7b51b"
      },
      "outputs": [
        {
          "name": "stdout",
          "output_type": "stream",
          "text": [
            "apple\n",
            "['apple', 'banana', 5, 345.6]\n",
            "['banana', 5]\n"
          ]
        }
      ],
      "source": [
        "friends=[\"apple\", \"orange\",5,345.6]\n",
        "print(friends[0])\n",
        "friends[1]=\"banana\"\n",
        "print(friends)\n",
        "print(friends[1:3])"
      ]
    },
    {
      "cell_type": "code",
      "execution_count": null,
      "metadata": {
        "colab": {
          "base_uri": "https://localhost:8080/"
        },
        "id": "zBiQzt1z0oCM",
        "outputId": "decaaf0d-0ab1-48c5-e65d-b05586f82a79"
      },
      "outputs": [
        {
          "name": "stdout",
          "output_type": "stream",
          "text": [
            "65\n",
            "[1, 23, 45, 8, 99]\n"
          ]
        }
      ],
      "source": [
        "l1=[1,23,45,65,8,99]\n",
        "print(l1.pop(3))\n",
        "#x=sorted(l1[1:4])\n",
        "print(l1)"
      ]
    },
    {
      "cell_type": "markdown",
      "metadata": {
        "id": "NEy2ifq1BMy9"
      },
      "source": [
        "tuples\n"
      ]
    },
    {
      "cell_type": "code",
      "execution_count": null,
      "metadata": {
        "colab": {
          "base_uri": "https://localhost:8080/"
        },
        "id": "d74ng5mjBOVm",
        "outputId": "febf1f6f-9934-4dbb-f8bc-df8fadeea90a"
      },
      "outputs": [
        {
          "name": "stdout",
          "output_type": "stream",
          "text": [
            "<class 'int'>\n"
          ]
        }
      ],
      "source": [
        "a=(1)\n",
        "print(type(a))"
      ]
    },
    {
      "cell_type": "code",
      "execution_count": null,
      "metadata": {
        "colab": {
          "base_uri": "https://localhost:8080/"
        },
        "id": "awmglOEuCtaN",
        "outputId": "13dae87b-284e-4a79-c058-a67b47d36c41"
      },
      "outputs": [
        {
          "name": "stdout",
          "output_type": "stream",
          "text": [
            "(1, 45, 345, 34, 87, False, 'dgg')\n",
            "1\n"
          ]
        }
      ],
      "source": [
        "a=(1,45,345,34,87,False, \"dgg\"  )\n",
        "print(a)\n",
        "no=a.count(45)\n",
        "print(no)\n"
      ]
    },
    {
      "cell_type": "code",
      "execution_count": null,
      "metadata": {
        "colab": {
          "base_uri": "https://localhost:8080/"
        },
        "id": "j3Ic1NXk2RHM",
        "outputId": "73248e87-3f28-4108-bcd9-feb724cdad15"
      },
      "outputs": [
        {
          "name": "stdout",
          "output_type": "stream",
          "text": [
            "enter fruit name:banana\n",
            "enter fruit name:mango\n",
            "enter fruit name:apple\n",
            "enter fruit name:papaya\n"
          ]
        }
      ],
      "source": [
        "fruits=[]\n",
        "f1=input(\"enter fruit name:\")\n",
        "fruits.append(f1)\n",
        "f2=input(\"enter fruit name:\")\n",
        "fruits.append(f2)\n",
        "f3=input(\"enter fruit name:\")\n",
        "fruits.append(f3)\n",
        "f4=input(\"enter fruit name:\")\n",
        "fruits.append(f4)"
      ]
    },
    {
      "cell_type": "code",
      "execution_count": null,
      "metadata": {
        "colab": {
          "base_uri": "https://localhost:8080/"
        },
        "id": "D4MnH7dg5Go3",
        "outputId": "abb7eab9-66cb-4e6d-da07-f19ed2861c72"
      },
      "outputs": [
        {
          "name": "stdout",
          "output_type": "stream",
          "text": [
            "enter marks here:456\n",
            "enter marks here:22\n",
            "enter marks here :822\n",
            "enter marks here :10\n",
            "[10, 22, 456, 822]\n"
          ]
        }
      ],
      "source": [
        "marks=[]\n",
        "f1=int(input(\"enter marks here:\"))\n",
        "marks.append(f1)\n",
        "f2=int(input(\"enter marks here:\"))\n",
        "marks.append(f2)\n",
        "f3=int(input(\"enter marks here :\"))\n",
        "marks.append(f3)\n",
        "f4=int(input(\"enter marks here :\"))\n",
        "marks.append(f4)\n",
        "marks.sort()\n",
        "print(marks)"
      ]
    },
    {
      "cell_type": "code",
      "execution_count": null,
      "metadata": {
        "colab": {
          "base_uri": "https://localhost:8080/"
        },
        "id": "GR4wnjGK6cxB",
        "outputId": "46a291f7-2f6c-4746-c70a-fb98ec3cd5e0"
      },
      "outputs": [
        {
          "name": "stdout",
          "output_type": "stream",
          "text": [
            "[29, 29, 56, 58, 64, 100]\n"
          ]
        }
      ],
      "source": [
        "marks=[100,29,64,58,29]\n",
        "marks.append(56)\n",
        "marks.sort()\n",
        "print(marks)"
      ]
    },
    {
      "cell_type": "code",
      "execution_count": null,
      "metadata": {
        "colab": {
          "base_uri": "https://localhost:8080/"
        },
        "id": "qpCQXHca691E",
        "outputId": "c8d58b00-2859-4612-cc29-62627d9d2fd1"
      },
      "outputs": [
        {
          "name": "stdout",
          "output_type": "stream",
          "text": [
            "168\n"
          ]
        }
      ],
      "source": [
        "l=[32,45,23,68]\n",
        "print(sum(l))"
      ]
    },
    {
      "cell_type": "code",
      "execution_count": null,
      "metadata": {
        "colab": {
          "base_uri": "https://localhost:8080/"
        },
        "id": "0OXzs6Rf9RqG",
        "outputId": "ae2242a3-f0cb-4cc5-fad7-9e335bf8be91"
      },
      "outputs": [
        {
          "name": "stdout",
          "output_type": "stream",
          "text": [
            "2\n"
          ]
        }
      ],
      "source": [
        "a=(2,4,89,0,0)\n",
        "print(a.count(0))"
      ]
    },
    {
      "cell_type": "code",
      "execution_count": null,
      "metadata": {
        "colab": {
          "base_uri": "https://localhost:8080/"
        },
        "id": "Y2twArE_9oa8",
        "outputId": "20c26915-50d3-4e11-f1c7-f710ce5be6f0"
      },
      "outputs": [
        {
          "name": "stdout",
          "output_type": "stream",
          "text": [
            "{'harry': 100, 'ert': 89, 'uio': 78} <class 'dict'>\n",
            "100\n",
            "dict_keys(['harry', 'ert', 'uio'])\n",
            "dict_values([100, 89, 78])\n",
            "{'harry': 100, 'ert': 89, 'uio': 78, 'erty': 90}\n"
          ]
        }
      ],
      "source": [
        "marks={\"harry\":100,\n",
        "       \"ert\":89,\n",
        "       \"uio\":78}\n",
        "print(marks, type(marks))\n",
        "print(marks[\"harry\"])\n",
        "#print(marks.item())\n",
        "print(marks.keys())\n",
        "print(marks.values())\n",
        "marks.update({\"erty\":90})\n",
        "marks.get(\"harry\")\n",
        "print(marks)"
      ]
    },
    {
      "cell_type": "code",
      "execution_count": null,
      "metadata": {
        "colab": {
          "base_uri": "https://localhost:8080/"
        },
        "id": "rozYRCc7CcYb",
        "outputId": "8de3d5e0-b392-45b9-d0db-0c1427ced51d"
      },
      "outputs": [
        {
          "name": "stdout",
          "output_type": "stream",
          "text": [
            "{}\n",
            "{1, 2, 3, 4, 5, 22, 7}\n"
          ]
        }
      ],
      "source": [
        "s={1,2,3}\n",
        "\n",
        "e=set()\n",
        "s={} # empty set\n",
        "print(s)\n",
        "s={1,2,2,4,5,3,3,7}\n",
        "s.add(22)\n",
        "print(s)"
      ]
    },
    {
      "cell_type": "code",
      "execution_count": null,
      "metadata": {
        "colab": {
          "base_uri": "https://localhost:8080/"
        },
        "id": "vSQ5eXsTmcaY",
        "outputId": "78823bec-02af-4242-83cf-babdeff7eddd"
      },
      "outputs": [
        {
          "name": "stdout",
          "output_type": "stream",
          "text": [
            "{1, 2, 3}\n"
          ]
        }
      ],
      "source": [
        "s={1,8,2,3}\n",
        "len(s)\n",
        "s.remove(8)\n",
        "print(s)\n",
        "s.pop()\n",
        "#s.clear()"
      ]
    },
    {
      "cell_type": "code",
      "execution_count": null,
      "metadata": {
        "colab": {
          "base_uri": "https://localhost:8080/"
        },
        "id": "zzpBN2fqyU5z",
        "outputId": "20ed7844-ce99-4215-ff2e-d63ba276094a"
      },
      "outputs": [
        {
          "name": "stdout",
          "output_type": "stream",
          "text": [
            "{1, 34, 243, 5, 55, 7, 89}\n",
            "set()\n"
          ]
        }
      ],
      "source": [
        "s1={1,34,5,7}\n",
        "s2={243,55,89}\n",
        "print(s1.union(s2))\n",
        "print(s1.intersection(s2))"
      ]
    },
    {
      "cell_type": "code",
      "execution_count": null,
      "metadata": {
        "colab": {
          "base_uri": "https://localhost:8080/"
        },
        "id": "E7TtllcM3JJn",
        "outputId": "14373185-790d-40b9-cc9f-34b391d4f679"
      },
      "outputs": [
        {
          "name": "stdout",
          "output_type": "stream",
          "text": [
            "eneter the word for meaningbilli\n",
            "cat\n"
          ]
        }
      ],
      "source": [
        "words={\"madad\":\"help\",\n",
        "       \"kursi\":\"chair\",\n",
        "       \"billi\": \"cat\"}\n",
        "word = input(\"eneter the word for meaning\")\n",
        "print(words[word])\n"
      ]
    },
    {
      "cell_type": "code",
      "execution_count": null,
      "metadata": {
        "colab": {
          "base_uri": "https://localhost:8080/"
        },
        "id": "-MhrT2UX3s_o",
        "outputId": "c4dc2b0f-340b-49e9-ff3c-387f4071a75e"
      },
      "outputs": [
        {
          "name": "stdout",
          "output_type": "stream",
          "text": [
            "enter a number:5\n",
            "enter a number:6\n",
            "enter a number:3\n",
            "enter a number:88\n",
            "enter a number:45\n"
          ]
        }
      ],
      "source": [
        "s=set()\n",
        "n=input(\"enter a number:\")\n",
        "s.add(int(n))\n",
        "n6=input(\"enter a number:\")\n",
        "s.add(int(n))\n",
        "n=input(\"enter a number:\")\n",
        "s.add(int(n))\n",
        "n=input(\"enter a number:\")\n",
        "s.add(int(n))\n",
        "n=input(\"enter a number:\")\n"
      ]
    },
    {
      "cell_type": "code",
      "execution_count": null,
      "metadata": {
        "colab": {
          "base_uri": "https://localhost:8080/"
        },
        "id": "Aska6a5MEvmF",
        "outputId": "cb4fe59b-ba48-44e0-968c-eaa4ae967eb0"
      },
      "outputs": [
        {
          "name": "stdout",
          "output_type": "stream",
          "text": [
            "{18, '18'}\n"
          ]
        }
      ],
      "source": [
        "s=set()\n",
        "s.add(18)\n",
        "s.add('18')\n",
        "print(s)"
      ]
    },
    {
      "cell_type": "code",
      "execution_count": null,
      "metadata": {
        "colab": {
          "base_uri": "https://localhost:8080/"
        },
        "id": "1xxtqZd3E5wr",
        "outputId": "12e94f90-73f7-44c0-9b63-044d2743e23b"
      },
      "outputs": [
        {
          "name": "stdout",
          "output_type": "stream",
          "text": [
            "{20, '20'}\n"
          ]
        },
        {
          "data": {
            "text/plain": [
              "2"
            ]
          },
          "execution_count": 28,
          "metadata": {},
          "output_type": "execute_result"
        }
      ],
      "source": [
        "s=set()\n",
        "s.add(20)\n",
        "s.add('20')\n",
        "s.add(20.0)\n",
        "print(s)\n",
        "len(s)"
      ]
    },
    {
      "cell_type": "code",
      "execution_count": null,
      "metadata": {
        "colab": {
          "base_uri": "https://localhost:8080/"
        },
        "id": "dpUjyvEBFaCA",
        "outputId": "92fa24d1-fb9f-4112-d862-4a8550437ace"
      },
      "outputs": [
        {
          "data": {
            "text/plain": [
              "dict"
            ]
          },
          "execution_count": 29,
          "metadata": {},
          "output_type": "execute_result"
        }
      ],
      "source": [
        "s={}\n",
        "type(s)"
      ]
    },
    {
      "cell_type": "code",
      "execution_count": null,
      "metadata": {
        "colab": {
          "base_uri": "https://localhost:8080/"
        },
        "id": "57JSrSlQFevY",
        "outputId": "aabb88c0-9955-4c6b-c6af-005b2fe69e07"
      },
      "outputs": [
        {
          "name": "stdout",
          "output_type": "stream",
          "text": [
            "eneter friends name:hj\n",
            "enter friends language:wef\n",
            "eneter friends name:fg\n",
            "enter friends language:fdgf\n",
            "eneter friends name:eyrgd\n",
            "enter friends language:iyutjf\n",
            "eneter friends name:ytrht\n",
            "enter friends language:eqdgf\n",
            "{'hj': 'wef', 'fg': 'fdgf', 'eyrgd': 'iyutjf', 'ytrht': 'eqdgf'}\n"
          ]
        }
      ],
      "source": [
        " d={\n",
        " }\n",
        " name=input(\"eneter friends name:\")\n",
        " lang =input(\"enter friends language:\")\n",
        " d.update({name: lang})\n",
        "\n",
        " name=input(\"eneter friends name:\")\n",
        " lang =input(\"enter friends language:\")\n",
        " d.update({name: lang})\n",
        "\n",
        " name=input(\"eneter friends name:\")\n",
        " lang =input(\"enter friends language:\")\n",
        " d.update({name: lang})\n",
        "\n",
        "name=input(\"eneter friends name:\")\n",
        " lang =input(\"enter friends language:\")\n",
        " d.update({name: lang})\n",
        " print(d)"
      ]
    },
    {
      "cell_type": "code",
      "execution_count": null,
      "metadata": {
        "colab": {
          "base_uri": "https://localhost:8080/"
        },
        "id": "r60MRFM6RZEf",
        "outputId": "181d9bad-1c78-476e-b456-ad3b32d1b6ce"
      },
      "outputs": [
        {
          "name": "stdout",
          "output_type": "stream",
          "text": [
            "enter number:1\n",
            "enter number:1\n",
            "enter number:1\n",
            "1.0\n",
            "Thank you\n",
            "enter number:55\n",
            "enter number:46\n",
            "enter number:63\n",
            "54.666666666666664\n",
            "Thank you\n"
          ]
        }
      ],
      "source": [
        "def avg():\n",
        "  a=int(input(\"enter number:\"))\n",
        "  b=int(input(\"enter number:\"))\n",
        "  c=int(input(\"enter number:\"))\n",
        "\n",
        "  average=(a+b+c)/3\n",
        "  print(average)\n",
        "avg()\n",
        "print(\"Thank you\")\n",
        "avg()\n",
        "\n",
        "print(\"Thank you\")"
      ]
    },
    {
      "cell_type": "code",
      "execution_count": null,
      "metadata": {
        "colab": {
          "base_uri": "https://localhost:8080/",
          "height": 70
        },
        "id": "BPyjSmSFTPk9",
        "outputId": "736068f4-92ea-4e3a-8a10-f4d0db140e34"
      },
      "outputs": [
        {
          "name": "stdout",
          "output_type": "stream",
          "text": [
            "good day harry GN\n",
            "good day sohan GN\n"
          ]
        },
        {
          "data": {
            "application/vnd.google.colaboratory.intrinsic+json": {
              "type": "string"
            },
            "text/plain": [
              "'hello'"
            ]
          },
          "execution_count": 50,
          "metadata": {},
          "output_type": "execute_result"
        }
      ],
      "source": [
        "def goodDay(name, end):\n",
        "    print(f\"good day {name} {end}\")\n",
        "    return \"hello\"\n",
        "goodDay(\"harry\",\"GN\")\n",
        "\n",
        "goodDay(\"sohan\",\"GN\")\n"
      ]
    },
    {
      "cell_type": "code",
      "execution_count": null,
      "metadata": {
        "colab": {
          "base_uri": "https://localhost:8080/"
        },
        "id": "yX42UwlxLFMJ",
        "outputId": "930dae4a-8db8-4593-d87b-1d84b2f3af02"
      },
      "outputs": [
        {
          "name": "stdout",
          "output_type": "stream",
          "text": [
            "enter the number:5\n",
            "factorial is 120\n"
          ]
        }
      ],
      "source": [
        "def factorial(n):\n",
        "  if(n==0 or n==1):\n",
        "    return 1\n",
        "  else:\n",
        "    return n*factorial(n-1)\n",
        "n=int(input(\"enter the number:\"))\n",
        "print(f\"factorial is {factorial(n)}\")"
      ]
    },
    {
      "cell_type": "code",
      "execution_count": null,
      "metadata": {
        "id": "6rmETI7QNH9R"
      },
      "outputs": [],
      "source": [
        "def greatest(a,b,c):\n",
        "    if(a>b and a>c):\n",
        "        return a\n",
        "    elif(b>a and b>c):\n",
        "        return b\n",
        "    elif (c>a and c>b):\n",
        "        return c\n",
        "    a=1\n",
        "    b=2\n",
        "    c=3\n",
        "    print(greatest(a,b,c))"
      ]
    },
    {
      "cell_type": "code",
      "execution_count": null,
      "metadata": {
        "colab": {
          "base_uri": "https://localhost:8080/"
        },
        "id": "79WN6XuQQKxu",
        "outputId": "5814f391-7779-4211-9090-b89eeb63bd89"
      },
      "outputs": [
        {
          "name": "stdout",
          "output_type": "stream",
          "text": [
            "enter temp:100\n",
            "37.77777777777778\n"
          ]
        }
      ],
      "source": [
        "def f_to_c(f):\n",
        "    return 5*(f-32)/9\n",
        "\n",
        "f=int(input(\"enter temp:\"))\n",
        "print(f_to_c(f))\n"
      ]
    },
    {
      "cell_type": "code",
      "execution_count": null,
      "metadata": {
        "colab": {
          "base_uri": "https://localhost:8080/"
        },
        "id": "3KInGV_zYXyl",
        "outputId": "d03b6b32-4d7c-40e9-ec24-1a2a39ec782e"
      },
      "outputs": [
        {
          "name": "stdout",
          "output_type": "stream",
          "text": [
            "a\n",
            "b\n",
            "c d\n"
          ]
        }
      ],
      "source": [
        "print(\"a\")\n",
        "print(\"b\")\n",
        "print(\"c\", end=\" \")\n",
        "print(\"d\")"
      ]
    },
    {
      "cell_type": "code",
      "execution_count": null,
      "metadata": {
        "colab": {
          "base_uri": "https://localhost:8080/"
        },
        "id": "2yx1VcuDZqtr",
        "outputId": "f4277518-0be2-4697-9389-a870e01330d6"
      },
      "outputs": [
        {
          "name": "stdout",
          "output_type": "stream",
          "text": [
            "enter the number:3\n",
            "6\n"
          ]
        }
      ],
      "source": [
        "def sum(n):\n",
        "    if(n==1):\n",
        "        return 1\n",
        "    else:\n",
        "        return n+sum(n-1)\n",
        "n=int(input(\"enter the number:\"))\n",
        "print(sum(n))"
      ]
    },
    {
      "cell_type": "code",
      "execution_count": null,
      "metadata": {
        "colab": {
          "base_uri": "https://localhost:8080/"
        },
        "id": "Wz-PXVe5bwGX",
        "outputId": "8d6e684f-d5f7-495a-a8f9-898d9ef5e537"
      },
      "outputs": [
        {
          "name": "stdout",
          "output_type": "stream",
          "text": [
            "***\n",
            "**\n",
            "*\n"
          ]
        }
      ],
      "source": [
        "def pattern(n):\n",
        "    if(n==0):\n",
        "        return\n",
        "    print(\"*\" * n)\n",
        "    pattern(n-1)\n",
        "\n",
        "pattern(n)"
      ]
    },
    {
      "cell_type": "code",
      "execution_count": null,
      "metadata": {
        "colab": {
          "base_uri": "https://localhost:8080/"
        },
        "id": "f-aLOGqHdctR",
        "outputId": "f135fce1-f8cd-4353-8e88-ccac75b96ab6"
      },
      "outputs": [
        {
          "name": "stdout",
          "output_type": "stream",
          "text": [
            "enter value in inches:1\n",
            "<function inch_cm at 0x7f6d35891fc0>\n"
          ]
        }
      ],
      "source": [
        "def inch_cm(inch):\n",
        "    return inch*2.54\n",
        "\n",
        "n=int(input(\"enter value in inches:\"))\n",
        "print(inch_cm)"
      ]
    },
    {
      "cell_type": "code",
      "execution_count": null,
      "metadata": {
        "colab": {
          "base_uri": "https://localhost:8080/"
        },
        "id": "pao_nrbreuCo",
        "outputId": "5033b698-18d7-43bb-bfbc-d1e28623b402"
      },
      "outputs": [
        {
          "name": "stdout",
          "output_type": "stream",
          "text": [
            "['we', 'an']\n"
          ]
        }
      ],
      "source": [
        "def rem(l, word):\n",
        "    for item in l:\n",
        "        l.remove(word)\n",
        "        return l\n",
        "\n",
        "l=[\"we\", \"are\", \"an\"]\n",
        "print(rem(l,\"are\"))"
      ]
    },
    {
      "cell_type": "code",
      "execution_count": null,
      "metadata": {
        "colab": {
          "base_uri": "https://localhost:8080/"
        },
        "id": "g04rcbROgDSo",
        "outputId": "6138698a-f980-4543-d154-44770c39b9c3"
      },
      "outputs": [
        {
          "name": "stdout",
          "output_type": "stream",
          "text": [
            "enter the number:5\n",
            "5X1=5\n",
            "5X2=10\n",
            "5X3=15\n",
            "5X4=20\n",
            "5X5=25\n",
            "5X6=30\n",
            "5X7=35\n",
            "5X8=40\n",
            "5X9=45\n",
            "5X10=50\n"
          ]
        }
      ],
      "source": [
        "def multiply(n):\n",
        "    for i in range(1, 11):\n",
        "        print(f\"{n}X{i}={n*i}\")\n",
        "n=int(input(\"enter the number:\"))\n",
        "multiply(n)"
      ]
    },
    {
      "cell_type": "code",
      "execution_count": null,
      "metadata": {
        "colab": {
          "base_uri": "https://localhost:8080/"
        },
        "id": "ESQBfI30g6bz",
        "outputId": "eeb7138b-7d8f-4d4a-8ec6-aa2f2d09c34f"
      },
      "outputs": [
        {
          "name": "stdout",
          "output_type": "stream",
          "text": [
            "enter your choice:s\n",
            "you won!\n"
          ]
        }
      ],
      "source": [
        "computer= -1\n",
        "youstr = input(\"enter your choice:\")\n",
        "youDict = {\"s\": 1, \"h\": -1, \"g\": 0  }\n",
        "you = youDict[youstr]\n",
        "\n",
        "if (you == computer):\n",
        "    print(\"draw\")\n",
        "\n",
        "else:\n",
        "    if(computer==-1 and you==1):\n",
        "        print(\"you won!\")\n",
        "    elif(computer==-1 and you==0):\n",
        "        print(\"you lose!\")\n",
        "    elif(computer==1 and you==0):\n",
        "        print(\"you won!\")\n",
        "    elif(computer==1 and you==-1):\n",
        "        print(\"you lose!\")\n",
        "    elif(computer==0 and you==-1):\n",
        "        print(\"you won!\")\n",
        "    elif(computer==0 and you==1):\n",
        "        print(\"you lose!\")\n",
        "    else:\n",
        "        print(\"something went wrong!\")"
      ]
    },
    {
      "cell_type": "code",
      "execution_count": null,
      "metadata": {
        "colab": {
          "base_uri": "https://localhost:8080/"
        },
        "id": "FWK2yVBsfr0f",
        "outputId": "60c4b2d3-4437-4db4-d4f4-da99ed40f23b"
      },
      "outputs": [
        {
          "name": "stdout",
          "output_type": "stream",
          "text": [
            "yrdtfyguhlk\n"
          ]
        }
      ],
      "source": [
        "f=open(\"file,txt.txt\")\n",
        "data=f.read()\n",
        "print(data)\n",
        "f.close()\n"
      ]
    },
    {
      "cell_type": "code",
      "execution_count": null,
      "metadata": {
        "id": "1QNZt9Cbix0q"
      },
      "outputs": [],
      "source": [
        "st=(\"Hello, Good morning\")\n",
        "f=open(\"file.txt\",\"w\")\n",
        "f.write(st)\n",
        "f.close()"
      ]
    },
    {
      "cell_type": "code",
      "execution_count": null,
      "metadata": {
        "colab": {
          "base_uri": "https://localhost:8080/"
        },
        "id": "DmrGkojhjGps",
        "outputId": "ea13180f-2e29-43e4-e1c5-4c74ac0daa6c"
      },
      "outputs": [
        {
          "name": "stdout",
          "output_type": "stream",
          "text": [
            "rt\n",
            " <class 'str'>\n"
          ]
        }
      ],
      "source": [
        "f=open(\"f1.txt\",\"r\")\n",
        "#lines=f.readlines()\n",
        "#print(lines, type(lines))\n",
        "line1=f.readline()\n",
        "print(line1, type(line1))\n",
        "f.close()"
      ]
    },
    {
      "cell_type": "code",
      "execution_count": null,
      "metadata": {
        "colab": {
          "base_uri": "https://localhost:8080/"
        },
        "id": "l7Rdup-_lyT2",
        "outputId": "b09c94bc-2c09-4644-faa3-bdd7f6ad8616"
      },
      "outputs": [
        {
          "name": "stdout",
          "output_type": "stream",
          "text": [
            "5\n"
          ]
        },
        {
          "data": {
            "text/plain": [
              "<function TextIOWrapper.close()>"
            ]
          },
          "execution_count": 19,
          "metadata": {},
          "output_type": "execute_result"
        }
      ],
      "source": [
        "st=(\"hello\")\n",
        "f= open(\"f1.txt\",\"a\")\n",
        "f.write(st)\n",
        "f.close"
      ]
    },
    {
      "cell_type": "code",
      "execution_count": null,
      "metadata": {
        "colab": {
          "base_uri": "https://localhost:8080/"
        },
        "id": "jX9P4NhJl06F",
        "outputId": "712893f2-1a92-4ee7-8d1d-112c1d181e67"
      },
      "outputs": [
        {
          "name": "stdout",
          "output_type": "stream",
          "text": [
            "no\n"
          ]
        }
      ],
      "source": [
        "f=open(\"f1.txt\",\"r\")\n",
        "data=f.read()\n",
        "if (\"hello\" in data):\n",
        "    print(\"yes\")\n",
        "else:\n",
        "    print(\"no\")\n",
        "    f.close()"
      ]
    },
    {
      "cell_type": "code",
      "execution_count": null,
      "metadata": {
        "colab": {
          "base_uri": "https://localhost:8080/"
        },
        "id": "hDoAK8hh3wiF",
        "outputId": "8f0ea7cd-a0b4-4ab8-fb77-f11243fa0a88"
      },
      "outputs": [
        {
          "name": "stdout",
          "output_type": "stream",
          "text": [
            "yes\n"
          ]
        }
      ],
      "source": [
        "is_student= True\n",
        "#print(f\"are you a student?:{is_student}\")\n",
        "if is_student:\n",
        "    print(\"yes\")\n",
        "else:\n",
        "    print(\"no\")"
      ]
    },
    {
      "cell_type": "code",
      "execution_count": null,
      "metadata": {
        "colab": {
          "base_uri": "https://localhost:8080/"
        },
        "id": "NWJZayMBK5Pi",
        "outputId": "a178f6fb-e309-4c0d-a0aa-6638e457ce20"
      },
      "outputs": [
        {
          "name": "stdout",
          "output_type": "stream",
          "text": [
            "2\n"
          ]
        }
      ],
      "source": [
        "friends=5\n",
        "friends%=3\n",
        "print(friends)"
      ]
    },
    {
      "cell_type": "code",
      "execution_count": null,
      "metadata": {
        "colab": {
          "base_uri": "https://localhost:8080/"
        },
        "id": "YRGwZV7SPnc9",
        "outputId": "da89b04c-caab-436b-85fd-1b3b0d8328e6"
      },
      "outputs": [
        {
          "name": "stdout",
          "output_type": "stream",
          "text": [
            "3\n"
          ]
        }
      ],
      "source": [
        "name= \"hello\"\n",
        "age=25\n",
        "gpa=3.2\n",
        "is_student =True\n",
        "gpa=(int(3.2))\n",
        "print(gpa)"
      ]
    },
    {
      "cell_type": "code",
      "execution_count": null,
      "metadata": {
        "colab": {
          "base_uri": "https://localhost:8080/"
        },
        "id": "gr4nF1ylSN18",
        "outputId": "4d26ab76-f4b9-4f87-ef24-c29dbb465d77"
      },
      "outputs": [
        {
          "name": "stdout",
          "output_type": "stream",
          "text": [
            "251\n"
          ]
        }
      ],
      "source": [
        "age=25\n",
        "age=str(age)\n",
        "age += \"1\"\n",
        "print(age)"
      ]
    },
    {
      "cell_type": "code",
      "execution_count": null,
      "metadata": {
        "colab": {
          "base_uri": "https://localhost:8080/"
        },
        "id": "msFHV4hAUR4v",
        "outputId": "8cb3a4cc-80b9-4b94-fcb3-0b57a6d6ec97"
      },
      "outputs": [
        {
          "name": "stdout",
          "output_type": "stream",
          "text": [
            "H-a-r-r-y- -p-o-t-t-e-r- -"
          ]
        }
      ],
      "source": [
        " name=\"Harry potter \"\n",
        " for letter in name:\n",
        "    print(letter, end= '-')"
      ]
    },
    {
      "cell_type": "code",
      "execution_count": null,
      "metadata": {
        "colab": {
          "base_uri": "https://localhost:8080/"
        },
        "id": "gUzZRfYYqyHz",
        "outputId": "f64601cc-1fbb-44c6-fb33-c37b3d79bf16"
      },
      "outputs": [
        {
          "name": "stdout",
          "output_type": "stream",
          "text": [
            "10\n",
            "9\n",
            "8\n",
            "7\n",
            "6\n",
            "5\n",
            "4\n",
            "3\n",
            "2\n",
            "1\n",
            "Happy New Year\n"
          ]
        }
      ],
      "source": [
        "import time\n",
        "for i in range(10,0,-1):\n",
        "    print(i)\n",
        "    time.sleep(.5)\n",
        "print(\"Happy New Year\")"
      ]
    },
    {
      "cell_type": "code",
      "execution_count": null,
      "metadata": {
        "colab": {
          "base_uri": "https://localhost:8080/"
        },
        "id": "3ziTTqL25oBR",
        "outputId": "06d3471f-1895-4b4f-d774-6f2eb759a33b"
      },
      "outputs": [
        {
          "name": "stdout",
          "output_type": "stream",
          "text": [
            "apple orange banana coconut mango "
          ]
        }
      ],
      "source": [
        "fruits=[\"apple\",\"orange\",\"banana\",\"coconut\"]\n",
        "fruits.append(\"mango\")\n",
        "for fruit in fruits:\n",
        " #  fruits[3]= \"mango\"\n",
        "\n",
        "   print(fruit, end=\" \")"
      ]
    },
    {
      "cell_type": "code",
      "execution_count": null,
      "metadata": {
        "colab": {
          "base_uri": "https://localhost:8080/"
        },
        "id": "PPbgWCy-68xY",
        "outputId": "337183bd-4bb6-466f-9c51-6036247afc2b"
      },
      "outputs": [
        {
          "name": "stdout",
          "output_type": "stream",
          "text": [
            "enter number5\n",
            "odd\n"
          ]
        }
      ],
      "source": [
        "num=int(input(\"enter number\"))\n",
        "if num%2==0:\n",
        "    print(\"even\")\n",
        "else:\n",
        "    print(\"odd\")"
      ]
    },
    {
      "cell_type": "code",
      "execution_count": null,
      "metadata": {
        "id": "fwTw51EdeqNB"
      },
      "outputs": [],
      "source": []
    },
    {
      "cell_type": "code",
      "execution_count": null,
      "metadata": {
        "colab": {
          "base_uri": "https://localhost:8080/"
        },
        "id": "EIE4SubFfyzj",
        "outputId": "533f4694-86e6-4807-c228-1f81ff126fde"
      },
      "outputs": [
        {
          "name": "stdout",
          "output_type": "stream",
          "text": [
            "         *\n",
            "        ***\n",
            "       *****\n",
            "      *******\n",
            "     *********\n",
            "    ***********\n",
            "   *************\n",
            "  ***************\n",
            " *****************\n",
            "*******************\n"
          ]
        }
      ],
      "source": [
        "rows = 10  # Number of rows for the triangle\n",
        "\n",
        "for i in range(1, rows + 1):\n",
        "    # Print spaces to center the stars\n",
        "    print(\" \" * (rows - i), end=\"\")\n",
        "    # Print stars for the current row\n",
        "    print(\"*\" * (2 * i - 1))\n"
      ]
    },
    {
      "cell_type": "code",
      "execution_count": null,
      "metadata": {
        "colab": {
          "base_uri": "https://localhost:8080/"
        },
        "id": "sr7dAcaxjBtX",
        "outputId": "891dbec9-624c-4f1b-e768-a17009b97e02"
      },
      "outputs": [
        {
          "name": "stdout",
          "output_type": "stream",
          "text": [
            "Enter first number: 55\n",
            "Enter second number: 66\n",
            "The sum is: 121\n"
          ]
        }
      ],
      "source": [
        "def add():\n",
        "    # Take two numbers as input from the user\n",
        "    a = int(input(\"Enter first number: \"))\n",
        "    b = int(input(\"Enter second number: \"))\n",
        "    # Calculate the sum\n",
        "    return a + b\n",
        "\n",
        "# Call the function and print the result\n",
        "result = add()\n",
        "print(\"The sum is:\", result)\n"
      ]
    },
    {
      "cell_type": "code",
      "execution_count": null,
      "metadata": {
        "colab": {
          "base_uri": "https://localhost:8080/"
        },
        "id": "-VxMBo5ukyYc",
        "outputId": "6cc4fd44-3e16-402b-f580-d2734569601c"
      },
      "outputs": [
        {
          "name": "stdout",
          "output_type": "stream",
          "text": [
            "olleH\n"
          ]
        }
      ],
      "source": [
        "original_string=\"Hello\"\n",
        "reversed_string=original_string[::-1]\n",
        "print(reversed_string)"
      ]
    },
    {
      "cell_type": "code",
      "execution_count": null,
      "metadata": {
        "colab": {
          "base_uri": "https://localhost:8080/"
        },
        "id": "8N42Jdlxp0dK",
        "outputId": "43849bc2-e55c-473f-aef8-e8cd0446afd3"
      },
      "outputs": [
        {
          "name": "stdout",
          "output_type": "stream",
          "text": [
            "bring it\n",
            "99\n",
            "None\n",
            "{'Harry': '100', 'Lorry': '85', 'Harri': '100'}\n"
          ]
        }
      ],
      "source": [
        "dict1={\"good\": \"bring it\" , \"better\": \"do it\"}\n",
        "marks={\"Harry\":\"99\", \"Lorry\":\"85\" }\n",
        "print(dict1[\"good\"])\n",
        "print(marks[\"Harry\"])\n",
        "print(marks.get(\"harry\"))\n",
        "marks.update({\"Harry\":\"100\"})\n",
        "marks.update({\"Harri\":\"100\"})\n",
        "print(marks)\n"
      ]
    },
    {
      "cell_type": "markdown",
      "metadata": {
        "id": "S6u4CLznSPla"
      },
      "source": [
        "Robospeaker\n"
      ]
    },
    {
      "cell_type": "code",
      "execution_count": null,
      "metadata": {
        "colab": {
          "base_uri": "https://localhost:8080/"
        },
        "id": "IhK8dbpkPIFU",
        "outputId": "abf45e3d-be38-4065-c367-3950e4124444"
      },
      "outputs": [
        {
          "name": "stdout",
          "output_type": "stream",
          "text": [
            "welcome to robospeaker\n",
            "eneter what you want to speak:hello\n",
            "eneter what you want to speak:q\n"
          ]
        }
      ],
      "source": [
        "import os\n",
        "\n",
        "\n",
        "if __name__ == \"__main__\":\n",
        "    print(\"welcome to robospeaker\")\n",
        "    while True:\n",
        "        x= input(\"eneter what you want to speak:\")\n",
        "        if x==\"q\":\n",
        "            os.system(\"bye\")\n",
        "            break\n",
        "    command = f\"espeak {x}\"\n",
        "    os.system(command)\n"
      ]
    },
    {
      "cell_type": "code",
      "execution_count": null,
      "metadata": {
        "colab": {
          "base_uri": "https://localhost:8080/"
        },
        "id": "8JfZ_k0YT1op",
        "outputId": "65766986-5864-4ff7-e10b-a916100bb83c"
      },
      "outputs": [
        {
          "name": "stdout",
          "output_type": "stream",
          "text": [
            "\r0% [Working]\r            \rGet:1 https://cloud.r-project.org/bin/linux/ubuntu jammy-cran40/ InRelease [3,626 B]\n",
            "\r            \rGet:2 https://developer.download.nvidia.com/compute/cuda/repos/ubuntu2204/x86_64  InRelease [1,581 B]\n",
            "Get:3 http://security.ubuntu.com/ubuntu jammy-security InRelease [129 kB]\n",
            "Get:4 https://developer.download.nvidia.com/compute/cuda/repos/ubuntu2204/x86_64  Packages [1,234 kB]\n",
            "Get:5 https://r2u.stat.illinois.edu/ubuntu jammy InRelease [6,555 B]\n",
            "Hit:6 http://archive.ubuntu.com/ubuntu jammy InRelease\n",
            "Get:7 http://archive.ubuntu.com/ubuntu jammy-updates InRelease [128 kB]\n",
            "Get:8 https://r2u.stat.illinois.edu/ubuntu jammy/main all Packages [8,619 kB]\n",
            "Hit:9 https://ppa.launchpadcontent.net/deadsnakes/ppa/ubuntu jammy InRelease\n",
            "Get:10 http://security.ubuntu.com/ubuntu jammy-security/main amd64 Packages [2,561 kB]\n",
            "Get:11 https://ppa.launchpadcontent.net/graphics-drivers/ppa/ubuntu jammy InRelease [24.3 kB]\n",
            "Hit:12 https://ppa.launchpadcontent.net/ubuntugis/ppa/ubuntu jammy InRelease\n",
            "Get:13 http://archive.ubuntu.com/ubuntu jammy-backports InRelease [127 kB]\n",
            "Get:14 http://security.ubuntu.com/ubuntu jammy-security/universe amd64 Packages [1,228 kB]\n",
            "Get:15 https://r2u.stat.illinois.edu/ubuntu jammy/main amd64 Packages [2,646 kB]\n",
            "Get:16 https://ppa.launchpadcontent.net/graphics-drivers/ppa/ubuntu jammy/main amd64 Packages [53.6 kB]\n",
            "Get:17 http://archive.ubuntu.com/ubuntu jammy-updates/main amd64 Packages [2,861 kB]\n",
            "Get:18 http://archive.ubuntu.com/ubuntu jammy-updates/universe amd64 Packages [1,519 kB]\n",
            "Get:19 http://archive.ubuntu.com/ubuntu jammy-backports/universe amd64 Packages [35.2 kB]\n",
            "Fetched 21.2 MB in 3s (7,646 kB/s)\n",
            "Reading package lists... Done\n",
            "W: Skipping acquire of configured file 'main/source/Sources' as repository 'https://r2u.stat.illinois.edu/ubuntu jammy InRelease' does not seem to provide it (sources.list entry misspelt?)\n",
            "Reading package lists... Done\n",
            "Building dependency tree... Done\n",
            "Reading state information... Done\n",
            "ffmpeg is already the newest version (7:4.4.2-0ubuntu0.22.04.1).\n",
            "The following additional packages will be installed:\n",
            "  espeak-data libespeak1 libportaudio2 libsonic0\n",
            "The following NEW packages will be installed:\n",
            "  espeak espeak-data libespeak1 libportaudio2 libsonic0\n",
            "0 upgraded, 5 newly installed, 0 to remove and 57 not upgraded.\n",
            "Need to get 1,382 kB of archives.\n",
            "After this operation, 3,178 kB of additional disk space will be used.\n",
            "Get:1 http://archive.ubuntu.com/ubuntu jammy/universe amd64 libportaudio2 amd64 19.6.0-1.1 [65.3 kB]\n",
            "Get:2 http://archive.ubuntu.com/ubuntu jammy/main amd64 libsonic0 amd64 0.2.0-11build1 [10.3 kB]\n",
            "Get:3 http://archive.ubuntu.com/ubuntu jammy/universe amd64 espeak-data amd64 1.48.15+dfsg-3 [1,085 kB]\n",
            "Get:4 http://archive.ubuntu.com/ubuntu jammy/universe amd64 libespeak1 amd64 1.48.15+dfsg-3 [156 kB]\n",
            "Get:5 http://archive.ubuntu.com/ubuntu jammy/universe amd64 espeak amd64 1.48.15+dfsg-3 [64.2 kB]\n",
            "Fetched 1,382 kB in 1s (986 kB/s)\n",
            "Selecting previously unselected package libportaudio2:amd64.\n",
            "(Reading database ... 124561 files and directories currently installed.)\n",
            "Preparing to unpack .../libportaudio2_19.6.0-1.1_amd64.deb ...\n",
            "Unpacking libportaudio2:amd64 (19.6.0-1.1) ...\n",
            "Selecting previously unselected package libsonic0:amd64.\n",
            "Preparing to unpack .../libsonic0_0.2.0-11build1_amd64.deb ...\n",
            "Unpacking libsonic0:amd64 (0.2.0-11build1) ...\n",
            "Selecting previously unselected package espeak-data:amd64.\n",
            "Preparing to unpack .../espeak-data_1.48.15+dfsg-3_amd64.deb ...\n",
            "Unpacking espeak-data:amd64 (1.48.15+dfsg-3) ...\n",
            "Selecting previously unselected package libespeak1:amd64.\n",
            "Preparing to unpack .../libespeak1_1.48.15+dfsg-3_amd64.deb ...\n",
            "Unpacking libespeak1:amd64 (1.48.15+dfsg-3) ...\n",
            "Selecting previously unselected package espeak.\n",
            "Preparing to unpack .../espeak_1.48.15+dfsg-3_amd64.deb ...\n",
            "Unpacking espeak (1.48.15+dfsg-3) ...\n",
            "Setting up libportaudio2:amd64 (19.6.0-1.1) ...\n",
            "Setting up libsonic0:amd64 (0.2.0-11build1) ...\n",
            "Setting up espeak-data:amd64 (1.48.15+dfsg-3) ...\n",
            "Setting up libespeak1:amd64 (1.48.15+dfsg-3) ...\n",
            "Setting up espeak (1.48.15+dfsg-3) ...\n",
            "Processing triggers for man-db (2.10.2-1) ...\n",
            "Processing triggers for libc-bin (2.35-0ubuntu3.4) ...\n",
            "/sbin/ldconfig.real: /usr/local/lib/libumf.so.0 is not a symbolic link\n",
            "\n",
            "/sbin/ldconfig.real: /usr/local/lib/libhwloc.so.15 is not a symbolic link\n",
            "\n",
            "/sbin/ldconfig.real: /usr/local/lib/libur_adapter_opencl.so.0 is not a symbolic link\n",
            "\n",
            "/sbin/ldconfig.real: /usr/local/lib/libur_adapter_level_zero.so.0 is not a symbolic link\n",
            "\n",
            "/sbin/ldconfig.real: /usr/local/lib/libtcm.so.1 is not a symbolic link\n",
            "\n",
            "/sbin/ldconfig.real: /usr/local/lib/libtbb.so.12 is not a symbolic link\n",
            "\n",
            "/sbin/ldconfig.real: /usr/local/lib/libtbbbind_2_5.so.3 is not a symbolic link\n",
            "\n",
            "/sbin/ldconfig.real: /usr/local/lib/libur_loader.so.0 is not a symbolic link\n",
            "\n",
            "/sbin/ldconfig.real: /usr/local/lib/libtcm_debug.so.1 is not a symbolic link\n",
            "\n",
            "/sbin/ldconfig.real: /usr/local/lib/libtbbbind_2_0.so.3 is not a symbolic link\n",
            "\n",
            "/sbin/ldconfig.real: /usr/local/lib/libtbbmalloc_proxy.so.2 is not a symbolic link\n",
            "\n",
            "/sbin/ldconfig.real: /usr/local/lib/libtbbbind.so.3 is not a symbolic link\n",
            "\n",
            "/sbin/ldconfig.real: /usr/local/lib/libtbbmalloc.so.2 is not a symbolic link\n",
            "\n"
          ]
        }
      ],
      "source": [
        "!apt-get update && apt-get install -y espeak ffmpeg"
      ]
    },
    {
      "cell_type": "code",
      "execution_count": null,
      "metadata": {
        "colab": {
          "base_uri": "https://localhost:8080/",
          "height": 106
        },
        "id": "P98nybhEUDDC",
        "outputId": "a76a178b-8978-4831-8e8f-38638c302aa4"
      },
      "outputs": [
        {
          "ename": "IndentationError",
          "evalue": "unindent does not match any outer indentation level (<tokenize>, line 11)",
          "output_type": "error",
          "traceback": [
            "\u001b[0;36m  File \u001b[0;32m\"<tokenize>\"\u001b[0;36m, line \u001b[0;32m11\u001b[0m\n\u001b[0;31m    command = f\"espeak -w output.wav '{x}'\"\u001b[0m\n\u001b[0m    ^\u001b[0m\n\u001b[0;31mIndentationError\u001b[0m\u001b[0;31m:\u001b[0m unindent does not match any outer indentation level\n"
          ]
        }
      ],
      "source": [
        "import os\n",
        "\n",
        "    if __name__ == \"__main__\":\n",
        "        print(\"welcome to robospeaker\")\n",
        "        while True:\n",
        "            x = input(\"enter what you want to speak:\")\n",
        "            if x == \"q\":\n",
        "                os.system(\"bye\")\n",
        "                break\n",
        "           # Save audio to a .wav file\n",
        "           command = f\"espeak -w output.wav '{x}'\"\n",
        "           os.system(command)\n",
        "\n",
        "           # Play the audio using IPython.display.Audio\n",
        "           from IPython.display import Audio\n",
        "           display(Audio(\"output.wav\", autoplay=True))"
      ]
    },
    {
      "cell_type": "code",
      "execution_count": null,
      "metadata": {
        "colab": {
          "base_uri": "https://localhost:8080/",
          "height": 466
        },
        "id": "1EaSyQLTUfdT",
        "outputId": "8197b114-169d-4897-b244-e787d4c47307"
      },
      "outputs": [
        {
          "name": "stdout",
          "output_type": "stream",
          "text": [
            "welcome to robospeaker\n",
            "enter what you want to speak:hii\n"
          ]
        },
        {
          "data": {
            "text/html": [
              "\n",
              "                <audio  controls=\"controls\" autoplay=\"autoplay\">\n",
              "                    <source src=\"data:audio/x-wav;base64,UklGRsxpAABXQVZFZm10IBAAAAABAAEAIlYAAESsAAACABAAZGF0YahpAAAAAAAAAAAAAAAAAAAAAAAAAAAAAAAAAAAAAAAAAAAAAAAAAAAAAAAAAAAAAAAAAAAAAAAAAAAAAAAAAAAAAAAAAAAAAAAAAAAAAAAAAAAAAAAAAAAAAAAAAAAAAAAAAAAAAAAAAAAAAAAAAAAAAAAAAAAAAAAAAAAAAAAAAAAAAAAAAAAAAAAAAAAAAAAAAAAAAAAAAAAAAAAAAAAAAAAAAAAAAAAAAAAAAAAAAAAAAAAAAAAAAAAAAAAAAAAAAAAAAAAAAAAAAAAAAAAAAAAAAAAAAAAAAAAAAAAAAAAAAAAAAAAAAAAAAAAAAAAAAAAAAAAAAAAAAAAAAAAAAAAAAAAAAAAAAAAAAAAAAAAAAAAAAAAAAAAAAAAAAAAAAAAAAAAAAAAAAAAAAAAAAAAAAAAAAAAAAAAAAAAAAAAAAAAAAAAAAAAAAAAAAAAAAAAAAAAAAAAAAAAAAAAAAAAAAAAAAAAAAAAAAAAAAAAAAAAAAAAAAAAAAAAAAAAAAAAAAAAAAAAAAAAAAAAAAAAAAAAAAAAAAAAAAAAAAAAAAAAAAAAAAAAAAAAAAAAAAAAAAAAAAAAAAAAAAAAAAAAAAAAAAAAAAAAAAAAAAAAAAAAAAAAAAAAAAAAAAAAAAAAAAAAAAAAAAAAAAAAAAAAAAAAAAAAAAAAAAAAAAAAAAAAAAAAAAAAAAAAAAAAAAACr/wP/Lf8VAPwAEQG9AFQAwP9pAL0AfgCW/xj/bP+W/9IAEQFQAX4Amv7y/Rj/1f+TAL0AqABX//L9HP7u/hUAVADV/y3/2f4AAKgAfgAAAEL/mv4D/9IATAIJAyICkwBs/6v/AAAAAGkAUAENAg0COwHq/6/+nv3I/UL//ADjAVABAADu/i3/Qv+v/sT+6v/nANIAAACW/8D/1f+B/4H/r/4Y/yoA5wD8AH4AaQAAAAAAwP+B/0L/AAAmAaQBjwF6AWkAr/4D/wAA5wCkAY8B0gDq/0L/Qv/A/2z/V/8/AGkAqAAVAIX+yP0t/2kA1f+W/+r/fgBlAfwAq//Z/kL/6v8AABEBUAHnAAAAA/8D/1f/2f4Y/yoAqAA/AJMA6v+v/sT+wP/SACYBfgDA/z8AegF2ArUCpAG9ANX/bP+oANIAqAA/AGkAaQDA/2z/r/5G/gP/VAB+AMD/2f5w/pr+V/+W/wAA6v9X/2z/7v6v/tn+wP/8AFABaQBs/5r+xP4VAL0AOwFMAg0C0gCr/1v+A/8RAfgB4wHjAXoB0gARAagAvQCoACoA1f/V/z8AqAAmAb0Aq//y/Ur9HP7E/j8A/ABUAJr+nv0H/oH/AABX/+r/KgBX/1f/gf+r/1QAAAAAAAAAlv/V/6QBpAEVANX/AACTACYBOwE7ASYBJgE7ASYBEQEmAXoBJgHSACoAmv50/fL96v/8ABEBaQAY/3T9IP1w/ioAaQAAAMD/gf+F/rP9W/5UACYBqABUABUA7v4x/lf/UAG1At8CvQCv/mz/aQBUAAAAZQEeA/QCzgGW/9n+AACkAaQBbP9C/yoAkwAqAIH/Mf6F/kL/2f6a/gAA/ACTAEL/yP10/cD/5wBlATsBkwBC/wv9HP5C/8D/uQFdA/wAW/4c/sT+VADOATcCOwFX/4H/FQAAAHoBOwGoAJMAKgCoAPwAaQDq/z8AqAB+AFQAQv9C/9X/VAAAANX/A/8Y/6v/lv8t/8T+A/+W/70AfgDV/8T+mv5X/1QAqAAqAKgAEQFUAC3/A/9+AFABzgERAdX/Qv9b/qv/+AE3AlQA7v5C/+r/vQBQAXoB5wDSAMD/1f8AAMD/r/4t/5MAzgHnAKv/cP50/cj9Rv5C/9X/wP9+AH4A6v8Y/wP/lv/q/yoAEQHOASYB5wAmARUAA/+W//wAtQJIA7kBA/8x/oH/OwHOAWkAHP4H/pMAOwFX/3D+AABQASYBAAAH/o38Nf2r/6QBygINAtn+cP7u/oH/KgAqAKgAr/41/cj9aQBMAocDegF0/bP9r/7V/w0CrQTwA1QAA//E/gAAUAGTAD8AAAB+ANX/JgGLAg0CKgAH/vb8ePwx/jsBtQINAhUAbP8Y/8T+t/wT+3T9+AGDBI8BHP6z/Qf+A/+9ANIAVAANAjcCOwGPAYH/9vwc/qgAjwFdAxoE4wFC/xz+if2a/lABHgOkAer/2f7A/6v/Rv4D/zsBygI3Atn+zPwc/tIAJgEY/438u/vy/agAYQK5Aer/cP6J/Zr+OwHOAX4AwP+kAfQCCQOr/438if2kASsFVQXKAhUA4fwg/TH+lv9+AKv/VABQAbkBZQHA/zH+3f3u/on92f43AkAFfwVlAY38RfmZ+QP/nAPwA/gBAAAx/sz8+vv6+wAAtQImAT8AVABUAJb/3f3I/RUAuQH8AHYCWQRqBXIDA/9j/Dn8GP/jAUQEVQXwAxUA8v3h/KL8hf5QATsBUAEqANn+3f05/CD9Lf9hAgkD/ADy/V/9fgBQAcD/Mf5f/YX+jwHKAn4ANf2N/CD97v47AfgBiwIJA0wCAAD2/Dn8A/+xA60ERASPAS3/1f+kAWUBq//I/TH+UAHbA1kETAIg/b/6ePyv/hEBHgNMAucAGP/d/Ub+nv1f/bP9cP6oAKACiwIAAGz/KgDq/+7+Ofz2/NIA3wJZBLkBhf5b/ur/FQDZ/u7+fgDOAc4BvQAVAIn9PwAVAFf/tQLjAer/7v4mAY8B+AFyA1ABhf4o+8z8KgDjAYMEHgMAAF/9Sv1G/q/+OwFhAhEBW/6e/Xj84fyLAqACvQAD/2f7pvs7AQUExgNhAtn+9vw5/Af+/AANAsoCygJUAO7+KgAAABUAPwDZ/hUAEQE3Al0DtQImAS3/3f0H/qv/mv5QAcYDdgJpAEr9HP5w/kL/FQAH/qL86v/0An4A2f4Y/579HP5f/e7+qABlASsFnAMAAPb8Sv3y/QAAWQSkAfQCgwQNAp792Pmq+lv+RASlBlUFqADM/CD9Z/um+w0CqQV/BbUCNf0P/HD+ZQHbA9IAfPvQ+xUAtQIvBIH/9vzZ/jH+Mf4x/iT8qAB/Bf0F9ALy/cP5lfry/cD/8APTBX8FMwO7+8P55fsAAB4DKwWPAcj9Y/zZ/gEFagX8ADn8hPlf/QkD8AOHA1ABAABUABj/2f63/Dn8UAGHA6QBuQG9AHT9zPzE/ur/lv9C/yICAQU3AvL9Tvx4/OcAGgScAxj/dP2i/L0ALwStBOcAw/lJ+AP/XQNMAucA3f3Q++7+/ADnAJr+HP6a/hj/SANmBmECr/4L/fL9A/+9ADMDhwP0ArUCpAHh/Pb8AABX/98CgwRhAlv+Nf1+ANIAJgHSADsBPwDd/Qf+hf69AJwD5wDI/Vb6rvk5/Gz/sQMqAGP8TvwNAt8Cr/6a/vL9AACgAjcCzgF+AJb/5wBMAh4D4wEAAF/9Nf2xA9sDxgPSAOH8hf7OAXoBxP5UAAAAqACPAav/EQEAADX92f6a/kb+Mf6kAfgBRv5O/Lv7HP7y/YsCxgMt/939C/05/Bz+IgKxA2EC7v5b/osCXQNMAqACt/zV/xYFXQOPAWECnAMVANIAdP05/Lf8lv8jB3sGKgAg/UX5vvVK/QUECQMiAjsByP23/Hj83f0L/Y38XQOYBDcC8v3Q+8z8V/9ABb4Fgf8b+Z793wJdA7ED4wGa/lf/OwGLAn4AkwBlATMDYQIc/sD/EQHSAOMBr/4x/qgAOwFMAh4DJgF8+xf6F/rA/7YHywc/AHP4vvVB+qQB/QVdAzH+/vqq+ucAvQCa/tn+A/+kAUgDhwOa/hP7s/3fArYHGgRb/nj8Z/tG/qACwgQFBI8Bif3Z/jsB4fye/UQEEgYSBjsBjfx8/wD/j/42/t/9g/0a/ab8KfzU+6/7zvsp/Kf8J/2X/eb9Kv5v/sD+Ef9i/8T/UgBFAaMCJwRjBQ4G9wVmBbcEQAQ5BM8E4gU7B1QIrwj0B0oGLgQtAtgAcQDeAJsB5AEPATz/N/3n+5b7Zfso+qH34fSw89n0dffB+Wz6nPln+JL3sPY49fTzqvRZ+Iv+9ARECDMH1wPnACEAdwIRB7gLWg/bEQ0T8BJLEzIVyRaoFqgV8hJJEKgQXhMIFRcV6RRPFcMUeRItDEsBrfcq9kn8ywRBCocHMf2S8svsxepV6grqB+pE6i7svO6L7pPrFemc56/naekm60jra+s77XXwbfTk+bD+FADo/Rv68fZS98780wQJC7sNfg2+CzIKPwkhCMkGjQZeCHIL6Q0MDq0LdggiBlcFLAVIBDwCzf8f/sD9e/5U/3j/cf5h/L/5S/eP9VP1Uvbz9435lvri+nT6e/mX+Cr4kfjm+cf7of0F/+v/eADvAFcBuwERAm4C7gKrA4AESQXcBSMGFAa8BSUFjwT/A5cDYQNLAxADmQLmAe0A0v/p/hr+h/1B/Rj9AP21/Ev8v/sp+636a/pw+r/6Lfvr+6r8Qv2x/QD+W/7P/jb/pv8jAOUAOAL8A8EFCgeRBy0HYAaLBSEFVgVBBr4HdgmPCoUKKgnPBh8E6wG/AJoAWQFOAncCGgGc/h38v/qL+jj6c/gZ9ePx7fDm8lX20fhV+RH4d/ZM9erz3fGj8BzykPfy/7kHmQolCL8DQADY/54D3gmgD+wTzBbBF00XhRgaGz4ciBuJGcIVNxMVFckYPxpsGpUaXRrOGG8UagpG/GnzpfUe/xkJGg3zBfr3A+w255Dl++Tq5MfkyeVu6SfsQerr5VzjbOIT47LlUed85vbmzukh7uDzsPrL/3AA//wL+I30I/a5/WkHcA4/Ea0QKQ4tDOsKZgnfB9EHIgoQDsIQkhB5DYcJ4wYPBskFbQS6AbL+y/y5/OD9EP8m/5f9u/pl93v02vLd8jr0QPYF+DL5hfkF+ff33PZV9uf2kvjb+hX9zv7p/6wASQHgAXQC6AJdA/MDwQTGBd0G2gedCLwIXgiqB9sGJAaTBTgFCwXcBJMEGwROAzAC0QA9/6j9WPxr+9X6gPpC+g76qfkD+TX4Rvdo9tn12vVy9on3sfj/+RD7z/tZ/Nn8bf0S/rD+vv/8AJUC2gR9B/4JhQusC9QKfgl4CD0I9AiqCg4Ncg/9ELkQcA6kCnsGHANjAY8BEgPCBPoE5QLk/tn6fvjS9/72R/SG7x7r8OnJ7HbxbvT09EzzHPFz71Dtp+kU5+boVvEx/oQK9A+GDDQFtf+n/l0D+QzCFsIdwyIvJYMk0STvKLkr+yq2KKgjbx7ZH1UmnileKTspRCmvJxMjyBYkASDujOxj+foJ2RREDzL6ZOXH2tnWtNUB1r3VBdYw2k3f5d4U2azU3dLi0mLWytnN2IDYLtw44rbqp/X4/gsCmP5W92Dwx+8P+bkHZhTfGlEbORdiE1YRjA9cDW0MXA4TFJ8YuRhUFIEOqwqiCXoJVwfQAnj9wPkQ+c/6M/1a/gH9Y/lo9IDvMOw866Xsgu+58h/1QvYd9t/0KfPq8Qjy3PPc9jb68PzC/gMAGwE6AkQDBQR9BPcExwULB6wIXgrvC5kMngwUDEELbwrJCVgJLgn7CLsIKghPByQGxwReA98ByADm/yv/GP71/K37iPqv+fb4fPga+PP33Pev90H3nfbP9Tr1FfV/9W32o/f8+A36I/vz+2385vxy/Tv+Fv/f/wcB8QKOBaQIRwu5DLwM7QumCpwJRQkRChgMFQ8YEggUzxMgEbAM7gc4BJgCJwMmBQ4H7AYTBH7/cvtB+Xj46vY09MfuDenS5r7piu8q9K30MvKZ7h7s9eln5nfjeuUm7Qz7/wmeEYMOMgb//oP8/gDNC4AXDSA/JsgpDimaKC4tszAnMBIuHinPIjwj4ClxLsIu9S6HLwgu+SgJHPYD4+ya6C72Kgk5F+0TZ/2f5I/WD9FzzxfQj9Dt0PbUZdta3GTVms+lzbTNRNFo1RfVitP21t7dV+ek80D/gAR/Acz4E/Bg7ZD1+QVXFeUdUh8lHNcXLRXeEpoPLw0/DvES1hggG00YLhKIDL8JCwmbB00Dc/1c+FT2rvee+tT8oPwy+b/z0O156djnQ+m17IrwzPMi9Rn1H/Sv8obxTfGM8h/2d/lC/Fz+7v9eAZkCkwP6AwoEQgTnBA4GqAdrCeMK5AskDLALwgqtCcIIOQgtCHMIwAjTCIQI0QfoBtsFuwSdA8UC7gFXAdEATwC3/yP/mv7X/SL9RfxE+xD66fjI9wT3c/ZW9o/23Pb59q328PUM9dnz5PJ48q3ypfNd9Vz3//iG+jn7ZPs/+3z7WvzL/Sv/9QAvA1EGbAqWDnARIhL8EOUOIw2mDNwNnRCxFBoZdBy5HZgbJhYBD3cIagT7A4YGhArKDNQKngS//OL2pPQQ9DHxWer44f/cpd4M5Yjriu3n63TosOWD4iXcFdUT1NvbxO6uBuoWFxf8DE0B7fms+jcIThpyKdc0DTx6PD86oz3+Q1BGdUV5QPQ1gDBBN5xA1UORQ1NDjUKfPwY2CRwV9ojdCeOj/BUYJCRZEuXsxc4iwnu+Zr3+vHO8UL6GxkDPDc3swkO8hbrBuzbBycUfxUnFz8sY12blT/bdAxgHzv7A8Q/ovumj+sgSXyVKLCUowiO5H/UbxxZvETsQWxUfHuIjviJWG9kS8A3cDEoMDwiTAGb4bfNB85P2gPpH/Fn68PSb7aXmHeJb4Rnk1ehd7tjxY/P48izx5O6J7SjuePHE9dz53fzN/lIAEgLYA1IFmwVBBdQELAWiBs4IEAvtDFENlwz5CioJrQf2BtgGowbBBs8GtAZXBqUFmgRdA+sBEQGUAH8AjAC3AMYAyADbAM4AjwATAKr/Y/9G/27/of+4/8L/1v/K/4P/+P46/qr93vwg/HP75fqU+ob6pfrR+pn62vmu+Ef3/fVb9Zf1gfYf+Nr5IPuT+5L7bvue+zj8Uf1z/ob/+QAzA2IG5QlqDGAOhA4gDTEL+Ak1CgAMsw6DEgoWGBh4FxEUww4WCQYFDAPpA7IGiAkkCvMG1gC5+vX2A/Z29VXyEezH5Z/jKeeG7SzyWfIT7yvrdOgD5gPiMt594P7qgfvvC3UT4Q7QBAT9UPtxAcENvxoSJEwqmS1ILX0tYDIvNuo0SzEeK4QlnyZvLo4zxzMwM/8yUTE2LJcekQRO6y/mz/TiCXEZvBV9/fnipNRtz6zNYM2pzKTMYNFm2Vbb/tS5zr7L88pzzkbTrdPm0mbWDt0X5n/ypv54BE4Ck/pz8ZLtCPU+BZIV/h7MIBQdeBirFS4TrQ/7DNINnxLJGM8bFRlFEqkL8QmmCXoHZAI0/L/3m/Zi+Dr78PxN/Cf5PvTy7sfqBekq6kXtAPE49D72wfbQ9Qz0c/Iu8q3zrvYo+jP9Wv/hAB8CFQPFAycETwRzBNkEsgUAB1QIZwkPCvoJOQnuB5oGZAWsBEgEJgQoBO4DagObAmYBLwAl/1X+0P2J/Xb9i/1m/Z/91v3o/cz9p/21/SD+jv48/87/dwAlAdcBWwKgAn8CaAJcAqQCAAMvAy0DAQPEAl4CzQEQARsABf/m/eP8H/yM+1j7Zvta++D6u/lL+PX2x/Uu9WT1U/bB91X5sfo7+y370frO+qP7AP19/rr/ugCKAkMFuQi6C2wNaQ1HDKcKkQmlCScL7w1oEaQUbRaiFY8Ssw19CIUEzwKTAyQGoQg5CWwGzgDW+hj3OvYH9gj0me7A6HjmXOkd73jzyPPd8EftFusJ6X3lnOJ45B7tYftDCvcQHg1tBA79IPvmAM0L2RYGH+Ykiyd0JrEm/yqFLRItlSreJF4fgyGuKGAscyvlKlsqGSkgJW0ZwgPi7o7qfvZBCBoVExIz/i/o49tJ2DvXt9b81R7Wk9nA38XhY93P15nVhNUD2LDbWtxT2wDeZuP16qj0pv48BKUC4ftQ9DDxwPbmAywRzxj8GSQXBBPSEEMP2wytChQL2Q7QEw8WwxMvDs0IPgZFBjQG8QNQ/R76Wfmh+oz8s/0t/dv6Mvcw8xHwxu6R79nxlvT09p741/gm+Nj2r/Vp9Yr2wPi7+wP+gP9PAOkAlgFOAuECKwNeA5wDGwTvBN8FuwYzBxcHuAYRBk0FcgTEA0YDEwP+AiADEgOPApMBcQBa/5j+Gv4V/i3+Nv4R/sn9bv0b/UX9Hv0S/Sb9Zv21/Q7+Zv7w/k3/nv/Y/xIARwCIAM0A9wAuAWQBkgHHAegB6wHUAX4BaAFUAUUBMwEjARIBAAG8AG0AAQB9/wf/q/5u/kD+V/5J/kP+Jf7W/VX9wfw9/Fn8afy1/Br9e/3I/fn9Df4c/jP+ef7v/mv/vv/w/1EAygG5AoYDGQRlBF8ELwT+A9MDFAS1BMIF/wYWCJAIIAiRBu8EVQMvArMB/QH2AgUEPwQhA7cAAf5G/Nb71/sS+3r5NfdJ9kv3Ovlk+uH5NPgL93X24/WJ9B3zh/MZ92j9oAOFBuUE8wCi/fn80v8jBYwKCQ/NEZAStRFbESwTvRXQFUsV5xKSEBoRJhSGFj8WqROiEukTCRV6EQEHvfmV8n/2tAGqC4cM2gKj9R/taOuQ7Xju/Owp64LrM+6h8CTw6+0Z7F3sLe4n8Jjwse9h72fxuvQt+dD9ZwG2AlcBTv7K+7X7A/8YBDIIuQkLCakHgQZoBhIGEwX3A6EDRAQZBf0DowM1A90CeQLBAaUAZf9+/hn+Jv5p/rj+7P71/sv+kv4x/uH9xP3S/e39Ef45/p3+2/4O/xv/Av/c/sz+3/4g/0n/X/9g/2H/df+V/7b/xP/D/7//wf/T/+//AQACAO7/4//o//f/CAANAAcA9f/f/9P/z//L/7//uf+z/7n/sf+l/6b/rf+v/6X/nv+h/7X/z//g/+X/4v/e/+D/5f/w//f//v8GAAgADAAPABQAFAAKAPz/8f/r/+r/7v/t/+r/7f/2////CAAOABEAEAAIAAgAEQAoAEQAVQBYAFMATwBPAFMATABAADQANgA/AEUAPQAjAAgA9v/1//n/+v/5//r/8//s/+z/8f/7/woAHgAwADkAOAA1ADkARgBXAGsAaABdAFAASQBFAEEAOAAwACgAIwAhACEAHgAcABkAHgArAEEAVgBiAFwAWQBoAKQA4wAWASoBHgH+ANMAnQBiABwA5v/M/8T/wP+o/2z/9/5K/o/9AP26/Kb8jPxP/OP7HPwV/Wb+Zv+W//P+Jv6w/Tf+tv/GASUEdwbQB+MHewcuB/0HlQmlCm0KVgn7COUK+gwxDRYLYwj9B8gKbg2eC8UDTPo+9pj6ZQNvCXQHqP7E9Szy6vME92n39PRx8q/xg/OG9bn1vPRQ9Cf1y/a79673IPcK9y34hfo2/aT/0QHmAuYCMAJYASIBzwEHAykEjgRQBO0DswOiA3sDAQMrAiYBOQCH/x3/6v7b/tj+pv6O/nH+V/5B/if+Ff4c/kT+nf4A/1P/h/+p/8v/8/8uAEsAUwA+ACAAAgDw/97/yP+h/3v/W/9H/zv/KP8G/9v+zP7g/gj/NP9L/1j/Yv9+/7D/5/8WADoAUwBlAHAAfABtAFwAVQBYAFIAOQAIANj/sP+S/3z/WP8x/w//Cv8O/yz/QP9Q/2X/fv+d/8L/7P8cAE0AdwCUAKkAugDIANcA0gDCAKUAjABxAE0AHwDp/73/k/97/1//SP82/zP/Of9M/1j/av+E/63/3v8UAEUAcQCVALEAxgDiAAIBFgEvARYB7wC+AJIAcQBJABQA0f+b/3H/Vv8+/yf/Dv8J//X+DP8s/1j/if/P/xgAVQCBAKkA0wAHAUIBbwF7AWoBUQEoAfsAzgCQAEsAAgC0/13/Dv+6/m3+Mf4f/jX+cv62/g//W/+v/xsApgA8AcYBNgKHAucCZQP0A3gE4QQdBUcFCAV/BKkDiAJAAe//1f4y/uX9yf1l/aL8oPu5+o762voy+yb7oPof+mP6qvtl/l8CZQYjCpwM0wzQCy8LDwztDuYRuhNuFLMUUhYPGZIZNRcyE/IQ4xK/FloW6w3K/3r0JfS2/QoJLQ1wBRn30esN513qYe4P7m3qaeba5AXnHunY6ZfqQOwO72fyQPQr9PHyI/LB80b3WvvJ/4QDnAWRBpEGFAbZBecFNQYWBv8EegMbAhkBrwCFABgAQ/8f/rb8gvt7+sD5U/kr+VP5v/la+k/7Zvx7/Xr+Yv9VAEwBZwIWA3cDrwPYAxIETgRsBFUE+wNqA7QC6AEfAWMAsf/b/jD+mv0q/dn8qfyj/Lv8yPxA/d39eP4N/5n/JQC7AGkB+gFjAq8C2wLxAu4CwQKMAg0CfgHmAEUAk//h/jv+jf0d/cX8hPxR/Ej8bPy1/AD9gf0J/pP+Jv/K/28ADQG8AToCmALMAuMC3gK9AoICSALAAR4BfQDT/yT/cP7K/Rn9uvyN/ID8jPyz/Pv8e/33/c3+ov9xACoB6gGpAnYDRgTVBBkFLgUPBdYEcQTfAzsDSAI+ATYAM/88/lj9l/zh+3H7IPv3+gH7VPv8++f8xv3h/vf/GQFQAocDrASWBXkG5gYhBxEHwgYYBikF/wPTAncBCQCB/tT8G/uD+Un4RfeO9vP1bfUd9U71I/aN9x35M/tx/dT/PwKCBHkG+wf1CIEJpgmUCWgJMwnoCFUI7gdnBxEHxAayBdYCWf5J+cv0t/LE8vHzL/XQ9XP26vd3+or+MgRZCQ8NAw6FCwwIVwa1CFcO/BNNGPMbcR8KJFkoxSRhG6ESZRDmFZobbxfjBTPwJ+au77sEhhb4FxEHUPJ65mHnNu6i8MPqpeCu2CvYBd1/4S/lRulD7pv0pvmQ+n33R/Og8afz9feT/ZECIQUWB6QI/wkkDNgOtRA8EAAN8wZsADL7Uvgq92T2ffU49K3z4/Ox9Kf1i/ZV9yf4R/le+sT7nP38/8QCtQWHCDkLeA01DykQQRCCDx0OWgx6CvUHAQXZAc/+K/wD+iL4CfZ89E3zs/K/8mjzbvTE9SD3DflJ+8j9UwDCAvgE4wbLCBYK+gpPCwgLTgo9Ce8HlAasBHICBQCN/Vr7iPkQ+ML22vU+9QP1OPXx9Rf3qfhe+mH8fP6RAJMCUwTtBV4HuwisCSwKMAq4CeAIwgdTBq8ExQKrAJv+qfzc+lr5DPjv9j729vUg9tP23/cu+aX6Lfz5/fn/EgIcBAUGvgcuCV4KEQtDC/cKUApeCSMIfwaRBAgCYv/c/JT6mPjl9mr1KvRi8zjzsPOo9B72/fcy+pb8bf9qAjoF1AcnCk0MKQ6oD3gQfxDGD3oOswxeCm8H5QPr/+j7L/jf9B/yBPDC7nHu3u7b7z7xCPMs9Y735/nA+8v9FAC1AnIF+AdtCkoNYRELFRAX4hV/EaYLgAYNA4z/HPtD9Cbs5+Vs5NLnuu4B93j9RgH5AlQDQQQeB08Lxg6tDg8L+Qb8BfoKxxOSGo4fBCOAJioqXylSHo4L3Prt8xr5cf/s++Dr5dlo2A3tNQwNJTUpxxkICI0BawbsDNsKWPsx577YCNVx11zacN1J4Grmne+q9qP3z/SP8QvxdvQp+UL8gPyi+1j8rv9bBocPNxh/HfIdKhmfEcgKNAYbBLL/FPhz7jnmneIo5Lfo2eyW8Mfzsve0/AECjgbHCcYMtw5lEEsRQhF4EIUPvg6SDRkMvwmiBjYDuf9F/Nn4ffXN8tDwge/37hrvD/Dh8a/0j/eC+mr9aABcAygGaQgKCtEKQAtyC3kLAgvvCUAIFgZgBM8CNgFV/zb9IPt3+Wf4l/f69nD2FvYW9q32yvd9+Qn7gvwT/rj/hAFDA9ME6wUDB9AHVgiJCEwIuAfrBv0F/AS7AzwCcQCJ/rn8R/sD+vn4Hvh79yH3Ofe494L41vkh+478MP7N/0oBpQLmA+kEJgYvB+4HKwgSCMsHewffBloGdAUmBJICGwHF/4/+ff3++3b6D/nz9x/3dPYL9jj2lPaT9xz5CPsw/Wr/4wHpA40GIwlyC08NXg6ADuYNLA3KDJkMywuPCYgFngAI/NL4tvUC8lLtbOj05P7jKuVg5+TqLPAq+G8CWgxkE+4W5BjEG+8frSILIK0WXQkT/QX2mPQN9ezz+++66kbnC+ie7K/zSPpP/VX6ivOG7sruq/X3AHcKIBDlFawedSsYOlRD0kQ3QgM/nDqaL5gYiffF18XGI8cIzkPP2cVzupLALuATDZ409kXdP5AzVTAANug6BzIfF+H0u9gGyZ7CS79JvGK7O8Fhzobc3+aN7ZryD/o7BZEOjxGqDh0IJAPqA2cKsREuF1YYSRVaEH4MdwtHDNYLgQZK+5vtruJU3h/gZeRR53DoLOqN7x75LgSeDesTgBcNGvIbCBw6GfUTKg40CfYFzQJM/sH45fNo8c7xwPNq9dD1ivWr9Qb3hfk2/Kb+/v/nAJABWwJPAzUE5AQbBQoFqAQtBLcDQAPaAm0C+wGJARwBsQBJALf/If+p/mP+Dv6R/ej8//tQ+wP7DvtC+1z7YfuC+/b75/wt/qz/EAEwAk4DbwSZBbIGcQfRB5sHFgcuBgUFpQMKAkcAwv49/eD7uPrN+Sv55/gI+Z/5f/qT+5j8hf2X/rr//gBeAlcD8QMrBD8EXAR5BJ4EbwS7A/YCQwK7AVAB6gBvAO7/df84/w7/3f6N/kr+I/4S/gj+wP1B/b78aPxo/MP8Lf22/S/+nv4b/6v/ngAzAlAEHwaBB9IHhgfJBzsJWwutDLMLMQiQA4f/2PyZ+h737/Gn7KPoV+dG6CfqquzJ8Lr39gBfCvgQ+RNRFaAXpxveHpcdvBb+Csj+p/YX9OD0Q/Xl8k/u7+mT6N3rfPIw+Tn9/vsa9sbwIvB49eL/6QnPD1UULRsEJqozbT6WQRk/JjvPNvwtjBvP/nHfgsqLxgvMZc/3yUC/xr+81xEAVygvQMlAEza1MDM0pTmhNY0gFgFF5M3RBcmNxKTAQL6bwWjMkNoL5Y/rIfBm9tAAQwtQEDgPrQnlA94CGgfSDSIUJReGFQMRZAwAClcK/QpRCBQA6POT6DfiOuLd5YPpZOvT7M/wJ/iwAVQKRxC2EwgWxhcaGNsV1BDoCi4GWQNkAbP+nfpn9uLz//Mu9qD4DfpR+mf68vpl/Cv+uP+uABYBOgFRAWwBiAGZAYUBXQERAdEAnQCSAJMArADaADYBtwEzAmYCYgIgAr4BXgH7AFcAc/9o/mj9o/wR/K37TPsM+/z6Tfv6+9H8tP2N/l3/VACKAcwC6QO4BB4FWgWBBaUFrQU4BVsEMQPrAeEA8//j/rX9d/xS+4/6PvpP+m76fvrB+jb7Ifw1/Xv+rP+hAI0BegJxA1IEBQVOBU0FCQWvBCYEdwORAmwBUQBS/6P+GP66/Ur9G/0z/aD9N/7T/kr/mf/i/xcAJwAKAMD/Yv8q//n++f7W/rj+kf6B/qH+Pf+FAC4C2QO7BPoEJAVnBvEIsgvkDFELaAcEA+P/9v2y+3n3wvGk66/n+uay6GXrvO6k8/z6EQRtDMAROBT3Ff8YyBwvHvIZ9g+sA/z5rfXM9b32UfX88OXr0+g66vXv9vYn/Kn8a/eW8LvtHvH4+tAGyA5ZE+kYcyJiMCs+EEUPRHE/PTrfMqcjkQmr6HfN1sITxnzLrsmav0G618qi8KscDD20ReY83jQHNuk7yjt7K+8MY+3G1qfKR8QHv+m6H7zHxY/UVOFG6RHuKPPA/MAIzBAqEqYNmwbkAggFBAvsEYoWQBYZEuEMMAmwCMwJ5wjaAhL4TOxA5FjiCOXn6HLrXO3g8Hf3JQB5CIoObBJQFbkXjxiOFloR6AqLBY0C5QC3/gr7t/az823zjvVz+I/6a/ux+1X8jP0x/5kAhQHuAfkBxwF8AREBuQBqACYA2/+L/0L/NP9Z/7T/KgDAAIABRgLwAkQDOwPnAnsCAAJmAYQAWv8T/vL8JPyr+1D7Dvvc+gf7jPtV/EP9Ev7W/qX/nQDBAdICtwNLBL0EFAViBXwFZwXyBCUEGgP4AeUA1v/m/uL93fzv+0D77/ry+h/7aPuz+w38s/yY/bf+v/+bAE0B+wHLAqQDVQSyBLUEfgQ3BNwDRANnAkoBJgA3/3z+9f16/RH92vz0/Gj9H/7f/o//EwB4ALMA1QDRALMAiQBHAPX/dP///pH+Sf4g/hr+cf5+/7YA6wHCAicD5AOKBTcI+QovDLcKSweeAzMB2//5/QT65/PF7f/peOk667Lta/By9KT6ZAKoCY4OGBE0E08WnBlmGgkW1wxzAvb6WvgS+a75nPcC80nuDOwV7p3zbPnU/Jr7k/Vg777tNfIg/NgGTA0tEdIWmCBoLus6TEB+PqM5TjROLLocdQOW5SLPIMjfy7fPbswTw7vBmNWX+n4hBTu7PsE1PzCyMnw3XzTYIcMEcOk817nNE8j3wtG/4sLezQPcNOfO7cbx+PafAGsLtRHXEaoM6gURAzMFYgowEGATPhIMDiEJAQbbBekGpgXI/zn2heyn5ifmKOme7P7uYfGC9RD8rwMyCokOPBGbE54VGBZoE8oNUgdoAuP/vv4L/QD6cfZF9JT03vbB+eL7/vyF/Sr+Mf9jAE4B2gEBAuIBdgHzAF8A7v+K/0//LP8a/yv/Vv+N/9b/VgDxAMwBiwIFAxIDvQJCAtQBeAHrABkA+/7K/eT8SfwA/Nr7zvvR+/r7ePxC/Sb+8v6m/2cAOwEhAv0CjgPmA/wDGgRIBFgELQSUA7MCqwHJACgAk//B/rX9sPzc+2z7ZPuK+7H7zfv7+3r8OP0q/h7/7/+0AHMBYQJNA/0DagR6BHQESgQYBLID8ALGAX8Ab/+x/jX+wf08/bv8l/zY/JX9dv5H//L/XgC4AAYBPAFZAVMBJgHZAF8As/8T/5b+PP4a/k3++v66/6kAPgGuAXACHwTaBnYJNguECsgHsQTPAhwC9QC5/Yr3o/DB61PqieuH7XPvF/LM9sn9dwV2Cz8PKRK8FcEZnxuXGFgQ3wVt/X35L/kA+b72AfIX7b/q1+wt84L6uwBr/yz5ffL48Mz1H/9pCLAL9QktCvsQAB9DLzY5zjnlM9Uu+inIINkOj/WX3QXSANQM2M7Wjc1kxYzOBux/EYgv6zk/MnoooyaXKk8sJyLjCmTyD+F+2FjUFtCyy/LLTNac5eTyvvjB90n0ZPX2/PYEwQnmCDAD5P2F/RYC/QlQD9sUKRcHFssR0AumBdn/F/q+9O/vUuxz6gXqeurX64HvnfVY/nkH8g3kDxoOXQuqCXcKWAs+CqEG2gEw/rv8ef1r/gX/Vv/T/30A0AA+AKj+4vzh+8P7Ffwy/Lf76/on+pL62/uX/Wn/8gD7AZ4CJQM+A2wDqAPfA+QDkgMRAxECrQFSAdwATACw/yb/5/6//pD+L/6Z/QH9n/xr/F78P/w5/E78uvyD/XT+UP8DAKUATgEWAvQCmQPkA88DlwN1A2kDSAPlAjkCaAG3AC0Auf8w/3P+sv0Z/cn8v/y2/Kj8ivyg/Pv8qf1o/v7+eP/N/1QAHgH4AbgCLwN2A6ID9AMYBCIE+gOFA9gCJAJ8AeEAKgBK/1/+nf0l/fz8+vzf/NT8zfzW/Aj9QP18/cX9Tf7r/qX/VwD0AJgBNwLoAnsDWASEBeEG8gcPCN4GzQQOA+wBkAExAcv/Wf2o+t/49/c/+Hv4iPj5+Hf6l/zy/ar9OPvm+Br5mfz1AYoGrgi8CHsI5wlaDTsRjhM/EzwQMQuUBN78BPVk7n/qkenO6qjtTvHQ9GD4pvtf/vgCZQrKEt0Y9RgsEVgHuwJbBskQjxoqHZYYvhKDEHkRiRD1CH77lO9l7GDvJvGY7HnhNtoS43L5xhJ1IzEjBxieD7cOfhFvErkKGf2K8i7vZPCM8D/saOY55dbr+fXK+6z5QvF+5wLk5+dz79X36f6oA6gHtQutDjIRgxOpFAwU8RAeC6kD5vxp93Tz//Bi8P7xQPW8+LT56ff49I/zZfW3+fv9q/+d/0r/rQAyBHkIrgv+DEkNzwwnDKkKwgfQAw0Anv3f/Nf8e/w5+475Rvj091z48vhQ+aD5AvqY+m77ePzJ/WP/+AByApADSwSxBNwE8QToBLYEXwQEBJ0DNQO8AhUCPQFPAG7/nf7Z/Q/9U/yw+0v7MvtC+2X7f/u3+yP8y/yK/Vf+Bf+q/2MANQEHAq0CNQOUA+kDRARyBGIEBgSBA/UCbALJAQQBGAAT/z7+iv3j/FD80ftx+0r7Xvur+w78W/zn/I79Xf5F/zEAFgHoAcYChQMuBLsEHQVUBWUFXQVcBRcFowT/AysDLAIdAQgA4f64/ZH8dPuN+u75jvlx+Sb5Zvnd+YX6Xvtr/LX9Nv8eAdICbATyBVEHnQi0CXcKMgtTCwML7AnDB5MEKgF7/kT8a/sH+yz6XvhB9sf0afTt9EH1L/WL9XX36/q6/kkBVAKrA2EHdg2QEzwW8hNaDgcJFQaTBYIFTQQ3ApAA/v9G//b9B/vy96f2DPfo9/33w/Z99OX04/ec/bQGdxAuGdkexR3VFbwM2gYKBzEMjg/BDEsHSAStBgEM4g4FC20Ckv5p/6IAQv6w9GHnzeTo8dUFAxeGG+0QXgQ2/0H/9wCD/h/3ePHN8u73c/tG+pP1G/J681f43vlI9VntYOVL4lzns++/+AoCRwhICmQJ0gVjAeMA+AI1BR8GCQVgAxkDFwTVA3MBy/3E+nr52fid9hzylO0c7Gfv1vXK+2n+5v20+zz8Yf7oAOcCpATNBmkJtQuHDOkLoAqOCd0ICghZBsIDwQD8/c37R/om+Tr4VPdv9nz1sfRi9MP06fWi96j5ofuV/XT/UQEXA7sEOwaWB6sIlQkNCgYKhwmkCIYHLgbBBA0DPQFg/5P92PtA+tn4wffb9kn2EvY29rf2j/e5+P/5k/tF/Rj/8ADDAmQExwXDBqUHYQjfCAQJvggSCBEHyQV4BPsCRgGL/+f9bvwc+xP6FvlW+Ov34vc2+M34j/mc+sD7Jf23/mMA+gF+A90EDQYTB+QHagimCJIILQh0B08GDwWbAxYChgAB/4D9GPza+sn56/hD+NT3s/fq94j4aPma+iv86f2r/z0BqQLeA+gE8wUUBy8IHAl+CT4JfwhhB48GvAWxBD4DZwFX/0j9cfsm+q35+vlo+kb6M/mn97z2jPZt9wb5RPs7/r4BuQSqBZ0EuAJZAswEwwh0C/IK7wfyBfMGKwqdDBgM6wg1BSoDPQFs/tb6NvmB+xgBTAepCZAFhf6+98DzyvW2+mr/SwUgCrYK/QlgCC0HDQoSDkQOhwq0BgcG0gmiELcUQhOvEkwU0hLFDZUCJPIg7IL12APDENYSLwVH9uvuoetE7CztZOvQ7GDzBvkw+jr3pvLl71nyCPdS+Fv3UPdm9xP6KwAeBFEHTQpcCHsCVPxs93P4zv9OBjwIuwW3AI38Hvrt9yT1TfMw9Kn3Q/sg/JX57vVK9Lr1xvgX+6b7Pvty+8v8Rf/PAdgDPQXcBa4F4gT3A+4DzgQRBvkGBQc7BuMEZgOdAfj/2v5x/ob+dv7R/dj8gPua+k36ePrF+g37UvuO+/b7dvwG/bX9dv46/+z/MQCpABYBjAEMAn4CxQLYAqICdQI7Av4BvAF1ATEB9QDbAIcAFACW/yn/6/7T/sz+3P6y/oz+dP52/n/+mf67/tD++f4Q/w3/Af8J/zX/ff+q/97/8v/8//7/AwAUADcAkQDmADABUgFRAUIBRgFhAaEBuwG+AbIBmAFoARoBxQBbACMA+f/G/3f/Df+Z/jb+3v28/ar9qP23/dD99f0c/oD+yf41/83/gwA4AdYBWAIIA4IDAgR0BMgE7QT8BPgExwSOBD8E6wOhAyEDJAKMAGD+5/xW/KT8J/0+/Zj8a/sA+rz40PeT92v4Ufq3/K/+6v8UAPH/BgCLAI8BOwNvBcoHDAn3CFMIpAiaCvcMTA0KCs0EygCQAKQDGQdYCAEHcQRMArb/OPvh9e7yrfSC+78DHQezBJ7/BvpG+EP7t/4kAz0IrgqFC0MMNwyRDrQT5RZbFXsQ+wtvCykPghRvFjkVkBYyGJkVZA63/83wJPBJ+4gIVRHQC0D72O456fvnTuqh6q/pz+zt8V30dfKB7Srp4Ojb7KHx/fL48sHzj/SD97X8jwAIBCYGFgOU/ar5Ofmo/lcH2wwSDUkJHgSAALP+BP1m+zv7jv0qASoDOgE0/Lr2JvQL9W335vir+Kv3bPcm+Gj5bvrn+hP7LvtG+yv75/t5/cr/OQL3A5kERQQtA24CFQJwAokDFwV/BhgHkQYxBY8DRgKXAWQBaQFkAZMBOgGuAOn/9f4E/j/9vvy6/LX80Pzq/PL80Pyj/HH8S/xM/Gv8qPz0/F391f1D/mP+hP6S/rD+/P5e/8D/CwAsAGwAugACASoBIQEDAQABOwGAAbMBsAGFAVEBJQEMARwB9wDMAKIAegBAAAQAAAAAAAAAAAAAAAAAAAAAAAAAAAAAAAAAAAAAAAAAAAAAAAAAAAAAAAAAAAAAAAAAAAAAAAAAAAAAAAAAAAAAAAAAAAAAAAAAAAAAAAAAAAAAAAAAAAAAAAAAAAAAAAAAAAAAAAAAAAAAAAAAAAAAAAAAAAAAAAAAAAAAAAAAAAAAAAAAAAAAAAAAAAAAAAAAAAAAAAAAAAAAAAAAAAAAAAAAAAAAAAAAAAAAAAAAAAAAAAAAAAAAAAAAAAAAAAAAAAAAAAAAAAAAAAAAAAAAAAAAAAAAAAAAAAAAAAAAAAAAAAAAAAAAAAAAAAAAAAAAAAAAAAAAAAAAAAAAAAAAAAAAAAAAAAAAAAAAAAAAAAAAAAAAAAAAAAAAAAAAAAAAAAAAAAAAAAAAAAAAAAAAAAAAAAAAAAAAAAAAAAAAAAAAAAAAAAAAAAAAAAAAAAAAAAAAAAAAAAAAAAAAAAAAAAAAAAAAAAAAAAAAAAAAAAAAAAAAAAAAAAAAAAAAAAAAAAAAAAAAAAAAAAAAAAAAAAAAAAAAAAAAAAAAAAAAAAAAAAAAAAAAAAAAAAAAAAAAAAAAAAAAAAAAAAAAAAAAAAAAAAAAAAAAAAAAAAAAAAAAAAAAAAAAAAAAAAAAAAAAAAAAAAAAAAAAAAAAAAAAAAAAAAAAAAAAAAAAAAAAAAAAAAAAAAAAAAAAAAAAAAAAAAAAAAAAAAAAAAAAAAAAAAAAAAAAAAAAAAAAAAAAAAAAAAAAAAAAAAAAAAAAAAAAAAAAAAAAAAAAAAAAAAAAAAAAAAAAAAAAAAAAAAAAAAAAAAAAAAAAAAAAAAAAAAAAAAAAAAAAAAAAAAAAAAAAAAAAAAAAAAAAAAAAAAAAAAAAAAAAAAAAAAAAAAAAAAAAAAAAAAAAAAAAAAAAAAAAAAAAAAAAAAAAAAAAAAAAAAAAAAAAAAAAAAAAAAAAAAAAAAAAAAAAAAAAAAAAAAAAAAAAAAAAAAAAAAAAAAAAAAAAAAAAAAAAAAAAAAAAAAAAAAAAAAAAAAAAAAAAAAAAAAAAAAAAAAAAAAAAAAAAAAAAAAAAAAAAAAAAAAAAAAAAAAAAAAAAAAAAAAAAAAAAAAAAAAAAAAAAAAAAAAAAAAAAAAAAAAAAAAAAAAAAAAAAAAAAAAAAAAAAAAAAAAAAAAAAAAAAAAAAAAAAAAAAAAAAAAAAAAAAAAAAAAAAAAAAAAAAAAAAAAAAAAAAAAAAAAAAAAAAAAAAAAAAAAAAAAAAAAAAAAAAAAAAAAAAAAAAAAAAAAAAAAAAAAAAAAAAAAAAAAAAAAAAAAAAAAAAAAAAAAAAAAAAAAAAAAAAAAAAAAAAAAAAAAAAAAAAAAAAAAAAAAAAAAAAAAAAAAAAAAAAAAAAAAAAAAAAAAAAAAAAAAAAAAAAAAAAAAAAAAAAAAAAAAAAAAAAAAAAAAAAAAAAAAAAAAAAAAAAAAAAAAAAAAAAAAAAAAAAAAAAAAAAAAAAAAAAAAAAAAAAAAAAAAAAAAAAAAAAAAAAAAAAAAAAAAAAAAAAAAAAAAAAAAAAAAAAAAAAAAAAAAAAAAAAAAAAAAAAAAAAAAAAAAAAAAAAAAAAAAAAAAAAAAAAAAAAAAAAAAAAAAAAAAAAAAAAAAAAAAAAAAAAAAAAAAAAAAAAAAAAAAAAAAAAAAAAAAAAAAAAAAAAAAAAAAAAAAAAAAAAAAAAAAAAAAAAAAAAAAAAAAAAAAAAAAAAAAAAAAAAAAAAAAAAAAAAAAAAAAAAAAAAAAAAAAAAAAAAAAAAAAAAAAAAAAAAAAAAAAAAAAAAAAAAAAAAAAAAAAAAAAAAAAAAAAAAAAAAAAAAAAAAAAAAAAAAAAAAAAAAAAAAAAAAAAAAAAAAAAAAAAAAAAAAAAAAAAAAAAAAAAAAAAAAAAAAAAAAAAAAAAAAAAAAAAAAAAAAAAAAAAAAAAAAAAAAAAAAAAAAAAAAAAAAAAAAAAAAAAAAAAAAAAAAAAAAAAAAAAAAAAAAAAAAAAAAAAAAAAAAAAAAAAAAAAAAAAAAAAAAAAAAAAAAAAAAAAAAAAAAAAAAAAAAAAAAAAAAAAAAAAAAAAAAAAAAAAAAAAAAAAAAAAAAAAAAAAAAAAAAAAAAAAAAAAAAAAAAAAAAAAAAAAAAAAAAAAAAAAAAAAAAAAAAAAAAAAAAAAAAAAAAAAAAAAAAAAAAAAAAAAAAAAAAAAAAAAAAAAAAAAAAAAAAAAAAAAAAAAAAAAAAAAAAAAAAAAAAAAAAAAAAAAAAAAAAAAAAAAAAAAAAAAAAAAAAAAAAAAAAAAAAAAAAAAAAAAAAAAAAAAAAAAAAAAAAAAAAAAAAAAAAAAAAAAAAAAAAAAAAAAAAAAAAAAAAAAAAAAAAAAAAAAAAAAAAAAAAAAAAAAAAAAAAAAAAAAAAAAAAAAAAAAAAAAAAAAAAAAAAAAAAAAAAAAAAAAAAAAAAAAAAAAAAAAAAAAAAAAAAAAAAAAAAAAAAAAAAAAAAAAAAAAAAAAAAAAAAAAAAAAAAAAAAAAAAAAAAAAAAAAAAAAAAAAAAAAAAAAAAAAAAAAAAAAAAAAAAAAAAAAAAAAAAAAAAAAAAAAAAAAAAAAAAAAAAAAAAAAAAAAAAAAAAAAAAAAAAAAAAAAAAAAAAAAAAAAAAAAAAAAAAAAAAAAAAAAAAAAAAAAAAAAAAAAAAAAAAAAAAAAAAAAAAAAAAAAAAAAAAAAAAAAAAAAAAAAAAAAAAAAAAAAAAAAAAAAAAAAAAAAAAAAAAAAAAAAAAAAAAAAAAAAAAAAAAAAAAAAAAAAAAAAAAAAAAAAAAAAAAAAAAAAAAAAAAAAAAAAAAAAAAAAAAAAAAAAAAAAAAAAAAAAAAAAAAAAAAAAAAAAAAAAAAAAAAAAAAAAAAAAAAAAAAAAAAAAAAAAAAAAAAAAAAAAAAAAAAAAAAAAAAAAAAAAAAAAAAAAAAAAAAAAAAAAAAAAAAAAAAAAAAAAAAAAAAAAAAAAAAAAAAAAAAAAAAAAAAAAAAAAAAAAAAAAAAAAAAAAAAAAAAAAAAAAAAAAAAAAAAAAAAAAAAAAAAAAAAAAAAAAAAAAAAAAAAAAAAAAAAAAAAAAAAAAAAAAAAAAAAAAAAAAAAAAAAAAAAAAAAAAAAAAAAAAAAAAAAAAAAAAAAAAAAAAAAAAAAAAAAAAAAAAAAAAAAAAAAAAAAAAAAAAAAAAAAAAAAAAAAAAAAAAAAAAAAAAAAAAAAAAAAAAAAAAAAAAAAAAAAAAAAAAAAAAAAAAAAAAAAAAAAAAAAAAAAAAAAAAAAAAAAAAAAAAAAAAAAAAAAAAAAAAAAAAAAAAAAAAAAAAAAAAAAAAAAAAAAAAAAAAAAAAAAAAAAAAAAAAAAAAAAAAAAAAAAAAAAAAAAAAAAAAAAAAAAAAAAAAAAAAAAAAAAAAAAAAAAAAAAAAAAAAAAAAAAAAAAAAAAAAAAAAAAAAAAAAAAAAAAAAAAAAAAAAAAAAAAAAAAAAAAAAAAAAAAAAAAAAAAAAAAAAAAAAAAAAAAAAAAAAAAAAAAAAAAAAAAAAAAAAAAAAAAAAAAAAAAAAAAAAAAAAAAAAAAAAAAAAAAAAAAAAAAAAAAAAAAAAAAAAAAAAAAAAAAAAAAAAAAAAAAAAAAAAAAAAAAAAAAAAAAAAAAAAAAAAAAAAAAAAAAAAAAAAAAAAAAAAAAAAAAAAAAAAAAAAAAAAAAAAAAAAAAAAAAAAAAAAAAAAAAAAAAAAAAAAAAAAAAAAAAAAAAAAAAAAAAAAAAAAAAAAAAAAAAAAAAAAAAAAAAAAAAAAAAAAAAAAAAAAAAAAAAAAAAAAAAAAAAAAAAAAAAAAAAAAAAAAAAAAAAAAAAAAAAAAAAAAAAAAAAAAAAAAAAAAAAAAAAAAAAAAAAAAAAAAAAAAAAAAAAAAAAAAAAAAAAAAAAAAAAAAAAAAAAAAAAAAAAAAAAAAAAAAAAAAAAAAAAAAAAAAAAAAAAAAAAAAAAAAAAAAAAAAAAAAAAAAAAAAAAAAAAAAAAAAAAAAAAAAAAAAAAAAAAAAAAAAAAAAAAAAAAAAAAAAAAAAAAAAAAAAAAAAAAAAAAAAAAAAAAAAAAAAAAAAAAAAAAAAAAAAAAAAAAAAAAAAAAAAAAAAAAAAAAAAAAAAAAAAAAAAAAAAAAAAAAAAAAAAAAAAAAAAAAAAAAAAAAAAAAAAAAAAAAAAAAAAAAAAAAAAAAAAAAAAAAAAAAAAAAAAAAAAAAAAAAAAAAAAAAAAAAAAAAAAAAAAAAAAAAAAAAAAAAAAAAAAAAAAAAAAAAAAAAAAAAAAAAAAAAAAAAAAAAAAAAAAAAAAAAAAAAAAAAAAAAAAAAAAAAAAAAAAAAAAAAAAAAAAAAAAAAAAAAAAAAAAAAAAAAAAAAAAAAAAAAAAAAAAAAAAAAAAAAAAAAAAAAAAAAAAAAAAAAAAAAAAAAAAAAAAAAAAAAAAAAAAAAAAAAAAAAAAAAAAAAAAAAAAAAAAAAAAAAAAAAAAAAAAAAAAAAAAAAAAAAAAAAAAAAAAAAAAAAAAAAAAAAAAAAAAAAAAAAAAAAAAAAAAAAAAAAAAAAAAAAAAAAAAAAAAAAAAAAAAAAAAAAAAAAAAAAAAAAAAAAAAAAAAAAAAAAAAAAAAAAAAAAAAAAAAAAAAAAAAAAAAAAAAAAAAAAAAAAAAAAAAAAAAAAAAAAAAAAAAAAAAAAAAAAAAAAAAAAAAAAAAAAAAAAAAAAAAAAAAAAAAAAAAAAAAAAAAAAAAAAAAAAAAAAAAAAAAAAAAAAAAAAAAAAAAAAAAAAAAAAAAAAAAAAAAAAAAAAAAAAAAAAAAAAAAAAAAAAAAAAAAAAAAAAAAAAAAAAAAAAAAAAAAAAAAAAAAAAAAAAAAAAAAAAAAAAAAAAAAAAAAAAAAAAAAAAAAAAAAAAAAAAAAAAAAAAAAAAAAAAAAAAAAAAAAAAAAAAAAAAAAAAAAAAAAAAAAAAAAAAAAAAAAAAAAAAAAAAAAAAAAAAAAAAAAAAAAAAAAAAAAAAAAAAAAAAAAAAAAAAAAAAAAAAAAAAAAAAAAAAAAAAAAAAAAAAAAAAAAAAAAAAAAAAAAAAAAAAAAAAAAAAAAAAAAAAAAAAAAAAAAAAAAAAAAAAAAAAAAAAAAAAAAAAAAAAAAAAAAAAAAAAAAAAAAAAAAAAAAAAAAAAAAAAAAAAAAAAAAAAAAAAAAAAAAAAAAAAAAAAAAAAAAAAAAAAAAAAAAAAAAAAAAAAAAAAAAAAAAAAAAAAAAAAAAAAAAAAAAAAAAAAAAAAAAAAAAAAAAAAAAAAAAAAAAAAAAAAAAAAAAAAAAAAAAAAAAAAAAAAAAAAAAAAAAAAAAAAAAAAAAAAAAAAAAAAAAAAAAAAAAAAAAAAAAAAAAAAAAAAAAAAAAAAAAAAAAAAAAAAAAAAAAAAAAAAAAAAAAAAAAAAAAAAAAAAAAAAAAAAAAAAAAAAAAAAAAAAAAAAAAAAAAAAAAAAAAAAAAAAAAAAAAAAAAAAAAAAAAAAAAAAAAAAAAAAAAAAAAAAAAAAAAAAAAAAAAAAAAAAAAAAAAAAAAAAAAAAAAAAAAAAAAAAAAAAAAAAAAAAAAAAAAAAAAAAAAAAAAAAAAAAAAAAAAAAAAAAAAAAAAAAAAAAAAAAAAAAAAAAAAAAAAAAAAAAAAAAAAAAAAAAAAAAAAAAAAAAAAAAAAAAAAAAAAAAAAAAAAAAAAAAAAAAAAAAAAAAAAAAAAAAAAAAAAAAAAAAAAAAAAAAAAAAAAAAAAAAAAAAAAAAAAAAAAAAAAAAAAAAAAAAAAAAAAAAAAAAAAAAAAAAAAAAAAAAAAAAAAAAAAAAAAAAAAAAAAAAAAAAAAAAAAAAAAAAAAAAAAAAAAAAAAAAAAAAAAAAAAAAAAAAAAAAAAAAAAAAAAAAAAAAAAAAAAAAAAAAAAAAAAAAAAAAAAAAAAAAAAAAAAAAAAAAAAAAAAAAAAAAAAAAAAAAAAAAAAAAAAAAAAAAAAAAAAAAAAAAAAAAAAAAAAAAAAAAAAAAAAAAAAAAAAAAAAAAAAAAAAAAAAAAAAAAAAAAAAAAAAAAAAAAAAAAAAAAAAAAAAAAAAAAAAAAAAAAAAAAAAAAAAAAAAAAAAAAAAAAAAAAAAAAAAAAAAAAAAAAAAAAAAAAAAAAAAAAAAAAAAAAAAAAAAAAAAAAAAAAAAAAAAAAAAAAAAAAAAAAAAAAAAAAAAAAAAAAAAAAAAAAAAAAAAAAAAAAAAAAAAAAAAAAAAAAAAAAAAAAAAAAAAAAAAAAAAAAAAAAAAAAAAAAAAAAAAAAAAAAAAAAAAAAAAAAAAAAAAAAAAAAAAAAAAAAAAAAAAAAAAAAAAAAAAAAAAAAAAAAAAAAAAAAAAAAAAAAAAAAAAAAAAAAAAAAAAAAAAAAAAAAAAAAAAAAAAAAAAAAAAAAAAAAAAAAAAAAAAAAAAAAAAAAAAAAAAAAAAAAAAAAAAAAAAAAAAAAAAAAAAAAAAAAAAAAAAAAAAAAAAAAAAAAAAAAAAAAAAAAAAAAAAAAAAAAAAAAAAAAAAAAAAAAAAAAAAAAAAAAAAAAAAAAAAAAAAAAAAAAAAAAAAAAAAAAAAAAAAAAAAAAAAAAAAAAAAAAAAAAAAAAAAAAAAAAAAAAAAAAAAAAAAAAAAAAAAAAAAAAAAAAAAAAAAAAAAAAAAAAAAAAAAAAAAAAAAAAAAAAAAAAAAAAAAAAAAAAAAAAAAAAAAAAAAAAAAAAAAAAAAAAAAAAAAAAAAAAAAAAAAAAAAAAAAAAAAAAAAAAAAAAAAAAAAAAAAAAAAAAAAAAAAAAAAAAAAAAAAAAAAAAAAAAAAAAAAAAAAAAAAAAAAAAAAAAAAAAAAAAAAAAAAAAAAAAAAAAAAAAAAAAAAAAAAAAAAAAAAAAAAAAAAAAAAAAAAAAAAAAAAAAAAAAAAAAAAAAAAAAAAAAAAAAAAAAAAAAAAAAAAAAAAAAAAAAAAAAAAAAAAAAAAAAAAAAAAAAAAAAAAAAAAAAAAAAAAAAAAAAAAAAAAAAAAAAAAAAAAAAAAAAAAAAAAAAAAAAAAAAAAAAAAAAAAAAAAAAAAAAAAAAAAAAAAAAAAAAAAAAAAAAAAAAAAAAAAAAAAAAAAAAAAAAAAAAAAAAAAAAAAAAAAAAAAAAAAAAAAAAAAAAAAAAAAAAAAAAAAAAAAAAAAAAAAAAAAAAAAAAAAAAAAAAAAAAAAAAAAAAAAAAAAAAAAAAAAAAAAAAAAAAAAAAAAAAAAAAAAAAAAAAAAAAAAAAAAAAAAAAAAAAAAAAAAAAAAAAAAAAAAAAAAAAAAAAAAAAAAAAAAAAAAAAAAAAAAAAAAAAAAAAAAAAAAAAAAAAAAAAAAAAAAAAAAAAAAAAAAAAAAAAAAAAAAAAAAAAAAAAAAAAAAAAAAAAAAAAAAAAAAAAAAAAAAAAAAAAAAAAAAAAAAAAAAAAAAAAAAAAAAAAAAAAAAAAAAAAAAAAAAAAAAAAAAAAAAAAAAAAAAAAAAAAAAAAAAAAAAAAAAAAAAAAAAAAAAAAAAAAAAAAAAAAAAAAAAAAAAAAAAAAAAAAAAAAAAAAAAAAAAAAAAAAAAAAAAAAAAAAAAAAAAAAAAAAAAAAAAAAAAAAAAAAAAAAAAAAAAAAAAAAAAAAAAAAAAAAAAAAAAAAAAAAAAAAAAAAAAAAAAAAAAAAAAAAAAAAAAAAAAAAAAAAAAAAAAAAAAAAAAAAAAAAAAAAAAAAAAAAAAAAAAAAAAAAAAAAAAAAAAAAAAAAAAAAAAAAAAAAAAAAAAAAAAAAAAAAAAAAAAAAAAAAAAAAAAAAAAAAAAAAAAAAAAAAAAAAAAAAAAAAAAAAAAAAAAAAAAAAAAAAAAAAAAAAAAAAAAAAAAAAAAAAAAAAAAAAAAAAAAAAAAAAAAAAAAAAAAAAAAAAAAAAAAAAAAAAAAAAAAAAAAAAAAAAAAAAAAAAAAAAAAAAAAAAAAAAAAAAAAAAAAAAAAAAAAAAAAAAAAAAAAAAAAAAAAAAAAAAAAAAAAAAAAAAAAAAAAAAAAAAAAAAAAAAAAAAAAAAAAAAAAAAAAAAAAAAAAAAAAAAAAAAAAAAAAAAAAAAAAAAAAAAAAAAAAAAAAAAAAAAAAAAAAAAAAAAAAAAAAAAAAAAAAAAAAAAAAAAAAAAAAAAAAAAAAAAAAAAAAAAAAAAAAAAAAAAAAAAAAAAAAAAAAAAAAAAAAAAAAAAAAAAAAAAAAAAAAAAAAAAAAAAAAAAAAAAAAAAAAAAAAAAAAAAAAAAAAAAAAAAAAAAAAAAAAAAAAAAAAAAAAAAAAAAAAAAAAAAAAAAAAAAAAAAAAAAAAAAAAAAAAAAAAAAAAAAAAAAAAAAAAAAAAAAAAAAAAAAAAAAAAAAAAAAAAAAAAAAAAAAAAAAAAAAAAAAAAAAAAAAAAAAAAAAAAAAAAAAAAAAAAAAAAAAAAAAAAAAAAAAAAAAAAAAAAAAAAAAAAAAAAAAAAAAAAAAAAAAAAAAAAAAAAAAAAAAAAAAAAAAAAAAAAAAAAAAAAAAAAAAAAAAAAAAAAAAAAAAAAAAAAAAAAAAAAAAAAAAAAAAAAAAAAAAAAAAAAAAAAAAAAAAAAAAAAAAAAAAAAAAAAAAAAAAAAAAAAAAAAAAAAAAAAAAAAAAAAAAAAAAAAAAAAAAAAAAAAAAAAAAAAAAAAAAAAAAAAAAAAAAAAAAAAAAAAAAAAAAAAAAAAAAAAAAAAAAAAAAAAAAAAAAAAAAAAAAAAAAAAAAAAAAAAAAAAAAAAAAAAAAAAAAAAAAAAAAAAAAAAAAAAAAAAAAAAAAAAAAAAAAAAAAAAAAAAAAAAAAAAAAAAAAAAAAAAAAAAAAAAAAAAAAAAAAAAAAAAAAAAAAAAAAAAAAAAAAAAAAAAAAAAAAAAAAAAAAAAAAAAAAAAAAAAAAAAAAAAAAAAAAAAAAAAAAAAAAAAAAAAAAAAAAAAAAAAAAAAAAAAAAAAAAAAAAAAAAAAAAAAAAAAAAAAAAAAAAAAAAAAAAAAAAAAAAAAAAAAAAAAAAAAAAAAAAAAAAAAAAAAAAAAAAAAAAAAAAAAAAAAAAAAAAAAAAAAAAAAAAAAAAAAAAAAAAAAAAAAAAAAAAAAAAAAAAAAAAAAAAAAAAAAAAAAAAAAAAAAAAAAAAAAAAAAAAAAAAAAAAAAAAAAAAAAAAAAAAAAAAAAAAAAAAAAAAAAAAAAAAAAAAAAAAAAAAAAAAAAAAAAAAAAAAAAAAAAAAAAAAAAAAAAAAAAAAAAAAAAAAAAAAAAAAAAAAAAAAAAAAAAAAAAAAAAAAAAAAAAAAAAAAAAAAAAAAAAAAAAAAAAAAAAAAAAAAAAAAAAAAAAAAAAAAAAAAAAAAAAAAAAAAAAAAAAAAAAAAAAAAAAAAAAAAAAAAAAAAAAAAAAAAAAAAAAAAAAAAAAAAAAAAAAAAAAAAAAAAAAAAAAAAAAAAAAAAAAAAAAAAAAAAAAAAAAAAAAAAAAAAAAAAAAAAAAAAAAAAAAAAAAAAAAAAAAAAAAAAAAAAAAAAAAAAAAAAAAAAAAAAAAAAAAAAAAAAAAAAAAAAAAAAAAAAAAAAAAAAAAAAAAAAAAAAAAAAAAAAAAAAAAAAAAAAAAAAAAAAAAAAAAAAAAAAAAAAAAAAAAAAAAAAAAAAAAAAAAAAAAAAAAAAAAAAAAAAAAAAAAAAAAAAAAAAAAAAAAAAAAAAAAAAAAAAAAAAAAAAAAAAAAAAAAAAAAAAAAAAAAAAAAAAAAAAAAAAAAAAAAAAAAAAAAAAAAAAAAAAAAAAAAAAAAAAAAAAAAAAAAAAAAAAAAAAAAAAAAAAAAAAAAAAAAAAAAAAAAAAAAAAAAAAAAAAAAAAAAAAAAAAAAAAAAAAAAAAAAAAAAAAAAAAAAAAAAAAAAAAAAAAAAAAAAAAAAAAAAAAAAAAAAAAAAAAAAAAAAAAAAAAAAAAAAAAAAAAAAAAAAAAAAAAAAAAAAAAAAAAAAAAAAAAAAAAAAAAAAAAAAAAAAAAAAAAAAAAAAAAAAAAAAAAAAAAAAAAAAAAAAAAAAAAAAAAAAAAAAAAAAAAAAAAAAAAAAAAAAAAAAAAAAAAAAAAAAAAAAAAAAAAAAAAAAAAAAAAAAAAAAAAAAAAAAAAAAAAAAAAAAAAAAAAAAAAAAAAAAAAAAAAAAAAAAAAAAAAAAAAAAAAAAAAAAAAAAAAAAAAAAAAAAAAAAAAAAAAAAAAAAAAAAAAAAAAAAAAAAAAAAAAAAAAAAAAAAAAAAAAAAAAAAAAAAAAAAAAAAAAAAAAAAAAAAAAAAAAAAAAAAAAAAAAAAAAAAAAAAAAAAAAAAAAAAAAAAAAAAAAAAAAAAAAAAAAAAAAAAAAAAAAAAAAAAAAAAAAAAAAAAAAAAAAAAAAAAAAAAAAAAAAAAAAAAAAAAAAAAAAAAAAAAAAAAAAAAAAAAAAAAAAAAAAAAAAAAAAAAAAAAAAAAAAAAAAAAAAAAAAAAAAAAAAAAAAAAAAAAAAAAAAAAAAAAAAAAAAAAAAAAAAAAAAAAAAAAAAAAAAAAAAAAAAAAAAAAAAAAAAAAAAAAAAAAAAAAAAAAAAAAAAAAAAAAAAAAAAAAAAAAAAAAAAAAAAAAAAAAAAAAAAAAAAAAAAAAAAAAAAAAAAAAAAAAAAAAAAAAAAAAAAAAAAAAAAAAAAAAAAAAAAAAAAAAAAAAAAAAAAAAAAAAAAAAAAAAAAAAAAAAAAAAAAAAAAAAAAAAAAAAAAAAAAAAAAAAAAAAAAAAAAAAAAAAAAAAAAAAAAAAAAAAAAAAAAAAAAAAAAAAAAAAAAAAAAAAAAAAAAAAAAAAAAAAAAAAAAAAAAAAAAAAAAAAAAAAAAAAAAAAAAAAAAAAAAAAAAAAAAAAAAAAAAAAAAAAAAAAAAAAAAAAAAAAAAAAAAAAAAAAAAAAAAAAAAAAAAAAAAAAAAAAAAAAAAAAAAAAAAAAAAAAAAAAAAAAAAAAAAAAAAAAAAAAAAAAAAAAAAAAAAAAAAAAAAAAAAAAAAAAAAAAAAAAAAAAAAAAAAAAAAAAAAAAAAAAAAAAAAAAAAAAAAAAAAAAAAAAAAAAAAAAAAAAAAAAAAAAAAAAAAAAAAAAAAAAAAAAAAAAAAAAAAAAAAAAAAAAAAAAAAAAAAAAAAAAAAAAAAAAAAAAAAAAAAAAAAAAAAAAAAAAAAAAAAAAAAAAAAAAAAAAAAAAAAAAAAAAAAAAAAAAAAAAAAAAAAAAAAAAAAAAAAAAAAAAAAAAAAAAAAAAAAAAAAAAAAAAAAAAAAAAAAAAAAAAAAAAAAAAAAAAAAAAAAAAAAAAAAAAAAAAAAAAAAAAAAAAAAAAAAAAAAAAAAAAAAAAAAAAAAAAAAAAAAAAAAAAAAAAAAAAAAAAAAAAAAAAAAAAAAAAAAAAAAAAAAAAAAAAAAAAAAAAAAAAAAAAAAAAAAAAAAAAAAAAAAAAAAAAAAAAAAAAAAAAAAAAAAAAAAAAAAAAAAAAAAAAAAAAAAAAAAAAAAAAAAAAAAAAAAAAAAAAAAAAAAAAAAAAAAAAAAAAAAAAAAAAAAAAAAAAAAAAAAAAAAAAAAAAAAAAAAAAAAAAAAAAAAAAAAAAAAAAAAAAAAAAAAAAAAAAAAAAAAAAAAAAAAAAAAAAAAAAAAAAAAAAAAAAAAAAAAAAAAAAAAAAAAAAAAAAAAAAAAAAAAAAAAAAAAAAAAAAAAAAAAAAAAAAAAAAAAAAAAAAAAAAAAAAAAAAAAAAAAAAAAAAAAAAAAAAAAAAAAAAAAAAAAAAAAAAAAAAAAAAAAAAAAAAAAAAAAAAAAAAAAAAAAAAAAAAAAAAAAAAAAAAAAAAAAAAAAAAAAAAAAAAAAAAAAAAAAAAAAAAAAAAAAAAAAAAAAAAAAAAAAAAAAAAAAAAAAAAAAAAAAAAAAAAAAAAAAAAAAAAAAAAAAAAAAAAAAAAAAAAAAAAAAAAAAAAAAAAAAAAAAAAAAAAAAAAAAAAAAAAAAAAAAAAAAAAAAAAAAAAAAAAAAAAAAAAAAAAAAAAAAAAAAAAAAAAAAAAAAAAAAAAAAAAAAAAAAAAAAAAAAAAAAAAAAAAAAAAAAAAAAAAAAAAAAAAAAAAAAAAAAAAAAAAAAAAAAAAAAAAAAAAAAAAAAAAAAAAAAAAAAAAAAAAAAAAAAAAAAAAAAAAAAAAAAAAAAAAAAAAAAAAAAAAAAAAAAAAAAAAAAAAAAAAAAAAAAAAAAAAAAAAAAAAAAAAAAAAAAAAAAAAAAAAAAAAAAAAAAAAAAAAAAAAAAAAAAAAAAAAAAAAAAAAAAAAAAAAAAAAAAAAAAAAAAAAAAAAAAAAAAAAAAAAAAAAAAAAAAAAAAAAAAAAAAAAAAAAAAAAAAAAAAAAAAAAAAAAAAAAAAAAAAAAAAAAAAAAAAAAAAAAAAAAAAAAAAAAAAAAAAAAAAAAAAAAAAAAAAAAAAAAAAAAAAAAAAAAAAAAAAAAAAAAAAAAAAAAAAAAAAAAAAAAAAAAAAAAAAAAAAAAAAAAAAAAAAAAAAAAAAAAAAAAAAAAAAAAAAAAAAAAAAAAAAAAAAAAAAAAAAAAAAAAAAAAAAAAAAAAAAAAAAAAAAAAAAAAAAAAAAAAAAAAAAAAAAAAAAAAAAAAAAAAAAAAAAAAAAAAAAAAAAAAAAAAAAAAAAAAAAAAAAAAAAAAAAAAAAAAAAAAAAAAAAAAAAAAAAAAAAAAAAAAAAAAAAAAAAAAAAAAAAAAAAAAAAAAAAAAAAAAAAAAAAAAAAAAAAAAAAAAAAAAAAAAAAAAAAAAAAAAAAAAAAAAAAAAAAAAAAAAAAAAAAAAAAAAAAAAAAAAAAAAAAAAAAAAAAAAAAAAAAAAAAAAAAAAAAAAAAAAAAAAAAAAAAAAAAAAAAAAAAAAAAAAAAAAAAAAAAAAAAAAAAAAAAAAAAAAAAAAAAAAAAAAAAAAAAAAAAAAAAAAAAAAAAAAAAAAAAAAAAAAAAAAAAAAAAAAAAAAAAAAAAAAAAAAAAAAAAAAAAAAAAAAAAAAAAAAAAAAAAAAAAAAAAAAAAAAAAAAAAAAAAAAAAAAAAAAAAAAAAAAAAAAAAAAAAAAAAAAAAAAAAAAAAAAAAAAAAAAAAAAAAAAAAAAAAAAAAAAAAAAAAAAAAAAAAAAAAAAAAAAAAAAAAAAAAAAAAAAAAAAAAAAAAAAAAAAAAAAAAAAAAAAAAAAAAAAAAAAAAAAAAAAAAAAAAAAAAAAAAAAAAAAAAAAAAAAAAAAAAAAAAAAAAAAAAAAAAAAAAAAAAAAAAAAAAAAAAAAAAAAAAAAAAAAAAAAAAAAAAAAAAAAAAAAAAAAAAAAAAAAAAAAAAAAAAAAAAAAAAAAAAAAAAAAAAAAAAAAAAAAAAAAAAAAAAAAAAAAAAAAAAAAAAAAAAAAAAAAAAAAAAAAAAAAAAAAAAAAAAAAAAAAAAAAAAAAAAAAAAAAAAAAAAAAAAAAAAAAAAAAAAAAAAAAAAAAAAAAAAAAAAAAAAAAAAAAAAAAAAAAAAAAAAAAAAAAAAAAAAAAAAAAAAAAAAAAAAAAAAAAAAAAAAAAAAAAAAAAAAAAAAAAAAAAAAAAAAAAAAAAAAAAAAAAAAAAAAAAAAAAAAAAAAAAAAAAAAAAAAAAAAAAAAAAAAAAAAAAAAAAAAAAAAAAAAAAAAAAAAAAAAAAAAAAAAAAAAAAAAAAAAAAAAAAAAAAAAAAAAAAAAAAAAAAAAAAAAAAAAAAAAAAAAAAAAAAAAAAAAAAAAAAAAAAAAAAAAAAAAAAAAAAAAAAAAAAAAAAAAAAAAAAAAAAAAAAAAAAAAAAAAAAAAAAAAAAAAAAAAAAAAAAAAAAAAAAAAAAAAAAAAAAAAAAAAAAAAAAAAAAAAAAAAAAAAAAAAAAAAAAAAAAAAAAAAAAAAAAAAAAAAAAAAAAAAAAAAAAAAAAAAAAAAAAAAAAAAAAAAAAAAAAAAAAAAAAAAAAAAAAAAAAAAAAAAAAAAAAAAAAAAAAAAAAAAAAAAAAAAAAAAAAAAAAAAAAAAAAAAAAAAAAAAAAAAAAAAAAAAAAAAAAAAAAAAAAAAAAAAAAAAAAAAAAAAAAAAAAAAAAAAAAAAAAAAAAAAAAAAAAAAAAAAAAAAAAAAAAAAAAAAAAAAAAAAAAAAAAAAAAAAAAAAAAAAAAAAAAAAAAAAAAAAAAAAAAAAAAAAAAAAAAAAAAAAAAAAAAAAAAAAAAAAAAAAAAAAAAAAAAAAAAAAAAAAAAAAAAAAAAAAAAAAAAAAAAAAAAAAAAAAAAAAAAAAAAAAAAAAAAAAAAAAAAAAAAAAAAAAAAAAAAAAAAAAAAAAAAAAAAAAAAAAAAAAAAAAAAAAAAAAAAAAAAAAAAAAAAAAAAAAAAAAAAAAAAAAAAAAAAAAAAAAAAAAAAAAAAAAAAAAAAAAAAAAAAAAAAAAAAAAAAAAAAAAAAAAAAAAAAAAAAAAAAAAAAAAAAAAAAAAAAAAAAAAAAAAAAAAAAAAAAAAAAAAAAAAAAAAAAAAAAAAAAAAAAAAAAAAAAAAAAAAAAAAAAAAAAAAAAAAAAAAAAAAAAAAAAAAAAAAAAAAAAAAAAAAAAAAAAAAAAAAAAAAAAAAAAAAAAAAAAAAAAAAAAAAAAAAAAAAAAAAAAAAAAAAAAAAAAAAAAAAAAAAAAAAAAAAAAAAAAAAAAAAAAAAAAAAAAAAAAAAAAAAAAAAAAAAAAAAAAAAAAAAAAAAAAAAAAAAAAAAAAAAAAAAAAAAAAAAAAAAAAAAAAAAAAAAAAAAAAAAAAAAAAAAAAAAAAAAAAAAAAAAAAAAAAAAAAAAAAAAAAAAAAAAAAAAAAAAAAAAAAAAAAAAAAAAAAAAAAAAAAAAAAAAAAAAAAAAAAAAAAAAAAAAAAAAAAAAAAAAAAAAAAAAAAAAAAAAAAAAAAAAAAAAAAAAAAAAAAAAAAAAAAAAAAAAAAAAAAAAAAAAAAAAAAAAAAAAAAAAAAAAAAAAAAAAAAAAAAAAAAAAAAAAAAAAAAAAAAAAAAAAAAAAAAAAAAAAAAAAAAAAAAAAAAAAAAAAAAAAAAAAAAAAAAAAAAAAAAAAAAAAAAAAAAAAAAAAAAAAAAAAAAAAAAAAAAAAAAAAAAAAAAAAAAAAAAAAAAAAAAAAAAAAAAAAAAAAAAAAAAAAAAAAAAAAAAAAAAAAAAAAAAAAAAAAAAAAAAAAAAAAAAAAAAAAAAAAAAAAAAAAAAAAAAAAAAAAAAAAAAAAAAAAAAAAAAAAAAAAAAAAAAAAAAAAAAAAAAAAAAAAAAAAAAAAAAAAAAAAAAAAAAAAAAAAAAAAAAAAAAAAAAAAAAAAAAAAAAAAAAAAAAAAAAAAAAAAAAAAAAAAAAAAAAAAAAAAAAAAAAAAAAAAAAAAAAAAAAAAAAAAAAAAAAAAAAAAAAAAAAAAAAAAAAAAAAAAAAAAAAAAAAAAAAAAAAAAAAAAAAAAAAAAAAAAAAAAAAAAAAAAAAAAAAAAAAAAAAAAAAAAAAAAAAAAAAAAAAAAAAAAAAAAAAAAAAAAAAAAAAAAAAAAAAAAAAAAAAAAAAAAAAAAAAAAAAAAAAAAAAAAAAAAAAAAAAAAAAAAAAAAAAAAAAAAAAAAAAAAAAAAAAAAAAAAAAAAAAAAAAAAAAAAAAAAAAAAAAAAAAAAAAAAAAAAAAAAAAAAAAAAAAAAAAAAAAAAAAAAAAAAAAAAAAAAAAAAAAAAAAAAAAAAAAAAAAAAAAAAAAAAAAAAAAAAAAAAAAAAAAAAAAAAAAAAAAAAAAAAAAAAAAAAAAAAAAAAAAAAAAAAAAAAAAAAAAAAAAAAAAAAAAAAAAAAAAAAAAAAAAAAAAAAAAAAAAAAAAAAAAAAAAAAAAAAAAAAAAAAAAAAAAAAAAAAAAAAAAAAAAAAAAAAAAAAAAAAAAAAAAAAAAAAAAAAAAAAAAAAAAAAAAAAAAAAAAAAAAAAAAAAAAAAAAAAAAAAAAAAAAAAAAAAAAAAAAAAAAAAAAAAAAAAAAAAAAAAAAAAAAAAAAAAAAAAAAAAAAAAAAAAAAAAAAAAAAAAAAAAAAAAAAAAAAAAAAAAAAAAAAAAAAAAAAAAAAAAAAAAAAAAAAAAAAAAAAAAAAAAAAAAAAAAAAAAAAAAAAAAAAAAAAAAAAAAAAAAAAAAAAAAAAAAAAAAAAAAAAAAAAAAAAAAAAAAAAAAAAAAAAAAAAAAAAAAAAAAAAAAAAAAAAAAAAAAAAAAAAAAAAAAAAAAAAAAAAAAAAAAAAAAAAAAAAAAAAAAAAAAAAAAAAAAAAAAAAAAAAAAAAAAAAAAAAAAAAAAAAAAAAAAAAAAAAAAAAAAAAAAAAAAAAAAAAAAAAAAAAAAAAAAAAAAAAAAAAAAAAAAAAAAAAAAAAAAAAAAAAAAAAAAAAAAAAAAAAAAAAAAAAAAAAAAAAAAAAAAAAAAAAAAAAAAAAAAAAAAAAAAAAAAAAAAAAAAAAAAAAAAAAAAAAAAAAAAAAAAAAAAAAAAAAAAAAAAAAAAAAAAAAAAAAAAAAAAAAAAAAAAAAAAAAAAAAAAAAAAAAAAAAAAAAAAAAAAAAAAAAAAAAAAAAAAAAAAAAAAAAAAAAAAAAAAAAAAAAAAAAAAAAAAAAAAAAAAAAAAAAAAAAAAAAAAAAAAAAAAAAAAAAAAAAAAAAAAAAAAAAAAAAAAAAAAAAAAAAAAAAAAAAAAAAAAAAAAAAAAAAAAAAAAAAAAAAAAAAAAAAAAAAAAAAAAAAAAAAAAAAAAAAAAAAAAAAAAAAAAAAAAAAAAAAAAAAAAAAAAAAAAAAAAAAAAAAAAAAAAAAAAAAAAAAAAAAAAAAAAAAAAAAAAAAAAAAAAAAAAAAAAAAAAAAAAAAAAAAAAAAAAAAAAAAAAAAAAAAAAAAAAAAAAAAAAAAAAAAAAAAAAAAAAAAAAAAAAAAAAAAAAAAAAAAAAAAAAAAAAAAAAAAAAAAAAAAAAAAAAAAAAAAAAAAAAAAAAAAAAAAAAAAAAAAAAAAAAAAAAAAAAAAAAAAAAAAAAAAAAAAAAAAAAAAAAAAAAAAAAAAAAAAAAAAAAAAAAAAAAAAAAAAAAAAAAAAAAAAAAAAAAAAAAAAAAAAAAAAAAAAAAAAAAAAAAAAAAAAAAAAAAAAAAAAAAAAAAAAAAAAAAAAAAAAAAAAAAAAAAAAAAAAAAAAAAAAAAAAAAAAAAAAAAAAAAAAAAAAAAAAAAAAAAAAAAAAAAAAAAAAAAAAAAAAAAAAAAAAAAAAAAAAAAAAAAAAAAAAAAAAAAAAAAAAAAAAAAAAAAAAAAAAAAAAAAAAAAAAAAAAAAAAAAAAAAAAAAAAAAAAAAAAAAAAAAAAAAAAAAAAAAAAAAAAAAAAAAAAAAAAAAAAAAAAAAAAAAAAAAAAAAAAAAAAAAAAAAAAAAAAAAAAAAAAAAAAAAAAAAAAAAAAAAAAAAAAAAAAAAAAAAAAAAAAAAAAAAAAAAAAAAAAAAAAAAAAAAAAAAAAAAAAAAAAAAAAAAAAAAAAAAAAAAAAAAAAAAAAAAAAAAAAAAAAAAAAAAAAAAAAAAAAAAAAAAAAAAAAAAAAAAAAAAAAAAAAAAAAAAAAAAAAAAAAAAAAAAAAAAAAAAAAAAAAAAAAAAAAA=\" type=\"audio/x-wav\" />\n",
              "                    Your browser does not support the audio element.\n",
              "                </audio>\n",
              "              "
            ],
            "text/plain": [
              "<IPython.lib.display.Audio object>"
            ]
          },
          "metadata": {},
          "output_type": "display_data"
        },
        {
          "ename": "KeyboardInterrupt",
          "evalue": "Interrupted by user",
          "output_type": "error",
          "traceback": [
            "\u001b[0;31m---------------------------------------------------------------------------\u001b[0m",
            "\u001b[0;31mKeyboardInterrupt\u001b[0m                         Traceback (most recent call last)",
            "\u001b[0;32m<ipython-input-15-082b7b9a44ff>\u001b[0m in \u001b[0;36m<cell line: 0>\u001b[0;34m()\u001b[0m\n\u001b[1;32m      4\u001b[0m     \u001b[0mprint\u001b[0m\u001b[0;34m(\u001b[0m\u001b[0;34m\"welcome to robospeaker\"\u001b[0m\u001b[0;34m)\u001b[0m\u001b[0;34m\u001b[0m\u001b[0;34m\u001b[0m\u001b[0m\n\u001b[1;32m      5\u001b[0m     \u001b[0;32mwhile\u001b[0m \u001b[0;32mTrue\u001b[0m\u001b[0;34m:\u001b[0m\u001b[0;34m\u001b[0m\u001b[0;34m\u001b[0m\u001b[0m\n\u001b[0;32m----> 6\u001b[0;31m         \u001b[0mx\u001b[0m \u001b[0;34m=\u001b[0m \u001b[0minput\u001b[0m\u001b[0;34m(\u001b[0m\u001b[0;34m\"enter what you want to speak:\"\u001b[0m\u001b[0;34m)\u001b[0m\u001b[0;34m\u001b[0m\u001b[0;34m\u001b[0m\u001b[0m\n\u001b[0m\u001b[1;32m      7\u001b[0m         \u001b[0;32mif\u001b[0m \u001b[0mx\u001b[0m \u001b[0;34m==\u001b[0m \u001b[0;34m\"q\"\u001b[0m\u001b[0;34m:\u001b[0m\u001b[0;34m\u001b[0m\u001b[0;34m\u001b[0m\u001b[0m\n\u001b[1;32m      8\u001b[0m             \u001b[0mos\u001b[0m\u001b[0;34m.\u001b[0m\u001b[0msystem\u001b[0m\u001b[0;34m(\u001b[0m\u001b[0;34m\"bye\"\u001b[0m\u001b[0;34m)\u001b[0m\u001b[0;34m\u001b[0m\u001b[0;34m\u001b[0m\u001b[0m\n",
            "\u001b[0;32m/usr/local/lib/python3.11/dist-packages/ipykernel/kernelbase.py\u001b[0m in \u001b[0;36mraw_input\u001b[0;34m(self, prompt)\u001b[0m\n\u001b[1;32m    849\u001b[0m                 \u001b[0;34m\"raw_input was called, but this frontend does not support input requests.\"\u001b[0m\u001b[0;34m\u001b[0m\u001b[0;34m\u001b[0m\u001b[0m\n\u001b[1;32m    850\u001b[0m             )\n\u001b[0;32m--> 851\u001b[0;31m         return self._input_request(str(prompt),\n\u001b[0m\u001b[1;32m    852\u001b[0m             \u001b[0mself\u001b[0m\u001b[0;34m.\u001b[0m\u001b[0m_parent_ident\u001b[0m\u001b[0;34m,\u001b[0m\u001b[0;34m\u001b[0m\u001b[0;34m\u001b[0m\u001b[0m\n\u001b[1;32m    853\u001b[0m             \u001b[0mself\u001b[0m\u001b[0;34m.\u001b[0m\u001b[0m_parent_header\u001b[0m\u001b[0;34m,\u001b[0m\u001b[0;34m\u001b[0m\u001b[0;34m\u001b[0m\u001b[0m\n",
            "\u001b[0;32m/usr/local/lib/python3.11/dist-packages/ipykernel/kernelbase.py\u001b[0m in \u001b[0;36m_input_request\u001b[0;34m(self, prompt, ident, parent, password)\u001b[0m\n\u001b[1;32m    893\u001b[0m             \u001b[0;32mexcept\u001b[0m \u001b[0mKeyboardInterrupt\u001b[0m\u001b[0;34m:\u001b[0m\u001b[0;34m\u001b[0m\u001b[0;34m\u001b[0m\u001b[0m\n\u001b[1;32m    894\u001b[0m                 \u001b[0;31m# re-raise KeyboardInterrupt, to truncate traceback\u001b[0m\u001b[0;34m\u001b[0m\u001b[0;34m\u001b[0m\u001b[0m\n\u001b[0;32m--> 895\u001b[0;31m                 \u001b[0;32mraise\u001b[0m \u001b[0mKeyboardInterrupt\u001b[0m\u001b[0;34m(\u001b[0m\u001b[0;34m\"Interrupted by user\"\u001b[0m\u001b[0;34m)\u001b[0m \u001b[0;32mfrom\u001b[0m \u001b[0;32mNone\u001b[0m\u001b[0;34m\u001b[0m\u001b[0;34m\u001b[0m\u001b[0m\n\u001b[0m\u001b[1;32m    896\u001b[0m             \u001b[0;32mexcept\u001b[0m \u001b[0mException\u001b[0m \u001b[0;32mas\u001b[0m \u001b[0me\u001b[0m\u001b[0;34m:\u001b[0m\u001b[0;34m\u001b[0m\u001b[0;34m\u001b[0m\u001b[0m\n\u001b[1;32m    897\u001b[0m                 \u001b[0mself\u001b[0m\u001b[0;34m.\u001b[0m\u001b[0mlog\u001b[0m\u001b[0;34m.\u001b[0m\u001b[0mwarning\u001b[0m\u001b[0;34m(\u001b[0m\u001b[0;34m\"Invalid Message:\"\u001b[0m\u001b[0;34m,\u001b[0m \u001b[0mexc_info\u001b[0m\u001b[0;34m=\u001b[0m\u001b[0;32mTrue\u001b[0m\u001b[0;34m)\u001b[0m\u001b[0;34m\u001b[0m\u001b[0;34m\u001b[0m\u001b[0m\n",
            "\u001b[0;31mKeyboardInterrupt\u001b[0m: Interrupted by user"
          ]
        }
      ],
      "source": [
        "import os\n",
        "\n",
        "if __name__ == \"__main__\":\n",
        "    print(\"welcome to robospeaker\")\n",
        "    while True:\n",
        "        x = input(\"enter what you want to speak:\")\n",
        "        if x == \"q\":\n",
        "            os.system(\"bye\")\n",
        "            break\n",
        "        # Save audio to a .wav file\n",
        "        command = f\"espeak -w output.wav '{x}'\"\n",
        "        os.system(command)\n",
        "\n",
        "        # Play the audio using IPython.display.Audio\n",
        "        from IPython.display import Audio\n",
        "        display(Audio(\"output.wav\", autoplay=True))"
      ]
    },
    {
      "cell_type": "code",
      "execution_count": null,
      "metadata": {
        "colab": {
          "background_save": true,
          "base_uri": "https://localhost:8080/",
          "height": 131
        },
        "id": "B2YctGdKVDmZ",
        "outputId": "99fc2514-642f-4ad6-accd-9c44a22eee3a"
      },
      "outputs": [
        {
          "name": "stdout",
          "output_type": "stream",
          "text": [
            "welcome to robospeaker\n"
          ]
        },
        {
          "data": {
            "text/html": [
              "\n",
              "                <audio  controls=\"controls\" autoplay=\"autoplay\">\n",
              "                    <source src=\"data:audio/x-wav;base64,UklGRpB7AABXQVZFZm10IBAAAAABAAEAIlYAAESsAAACABAAZGF0YWx7AAAAAAAAAAAAAAAAAAAAAAAAAAAAAAAAAAAAAAAAAAAAAAAAAAAAAAAAAAAAAAAAAAAAAAAAAAAAAAAAAAAAAAAAAAAAAAAAAAAAAAAAAAAAAAAAAAAAAAAAAAAAAAAAAAAAAAAAAAAAAAAAAAAAAAAAAAAAAAAAAAAAAAAAAAAAAAAAAAAAAAAAAAAAAAAAAAAAAAAAAAAAAAAAAAAAAAAAAAAAAAAAAAAAAAAAAAAAAAAAAAAAAAAAAAAAAAAAAAAAAAAAAAAAAAAAAAAAAAAAAAAAAAAAAAAAAAAAAAAAAAAAAAAAAAAAAAAAAAAAAAAAAAAAAAAAAAAAAAAAAAAAAAAAAAAAAAAAAAAAAAAAAAAAAAAAAAAAAAAAAAAAAAAAAAAAAAAAAAAAAAAAAAAAAAAAAAAAAAAAAAAAAAAAAAAAAAAAAAAAAAAAAAAAAAAAAAAAAAAAAAAAAAAAAAAAAAAAAAAAAAAAAAAAAAAAAAAAAAAAAAAAAAAAAAAAAAAAAAAAAAAAAAAAAAAAAAAAAAAAAAAAAAAAAAAAAAAAAAAAAAAAAAAAAAAAAAAAAAAAAAAAAAAAAAAAAAAAAAAAAAAAAAAAAAAAAAAAAAAAAAAAAAAAAAAAAAAAAAAAAAAAAAAAAAAAAAAAAAAAAAAAAAAAAAAAAAAAAAAAAAAAAAAAAAAAAAAAAAAAAAAAAAAAACEAAAAhAIUAZACb//X+Wf8KAU0BAABCAE0BTQEKAaYAQgAAAAAAQgDe//X+vf+mAKYAWf8t/tP+3v+9/0IA6QAhAPX+sv4t/m/+kf4W/4UALAHIACEAvf/IAE0BLAFuAU0BLAFuAaYAIQAAANP+0/4W//X+vf9CAOkAbgEKAUIAAAC9/yEApgCmAEIApgBCAHr/Wf/e/wAAQgCFAGQAIQDT/ur9Wf8W/07+sv4W/73/AABkAE0BLAFCAKYA6QDe/5v/ZADSAd0CsQFCAHr/3v96/1n/3v9CAKYAZACy/gv+Fv/e/yEAAABZ/73/AAA3/1n/AABCAKYAZAB6/wAA6QCxAW4BAADT/nr/m/8W/0IAkAHSAQoB3v9CAGQAAAC9/3r/AAAsAU0BQgAhAEIAQgCFAEIAAAAhAL3/Wf96/xb/Fv8W/7L+yP1v/iEA0gEVAoUAm//1/pH+ev8AAAAAAAD1/m/+vf+FAGQAZADIAJABbgFCACEAyAAVAlgC6QAsAfQBsQFNAZABAAC9/0IA0/7I/WT96v0AAEIA9f6R/tP+Wf8AALL+kf5kAEIAIQCb/07+ZAD0AfQBkAGmAHr/QgAKAQAAkf6R/mQAZAC9/wAAyAAKAW4B6QDpAMgAWf+9/4UAAAD1/pv/hQAhAL3/IQCFAAoBvf9v/hb/m//1/vX+kf69/0IAhQAKAQAA3v9NATcCLAGFAOkAyAAAAAv+Iv1v/iEAkAHSAYUAyACQAZABpgA3/xb/QgDpAKYA3v9Z/3r/IQBZ/7L+ZAAhAAoB0gGy/ur9hv1D/er9C/6y/oUA0gH0AVgCFQLIAAAA0/43/xUCTQE3/97/Wf9Z/6YACgGmAFn/Wf8KAU0BpgAAAL3/QgDe/3r/QgAKAQoBTQHIAJv/Wf+mALEByACb/1n/N/8AAIUA0/7I/b3/Fv97/EP9m//IACwBZAC9/4UAkAGmABb/N/+mANIBkAEAAKf9Fv8VAjcCAADT/kIAWAIKAXr/Lf6R/sgATQH1/jf/kAFYAv8CNwIAACEAAABZ/9IBCgHe/yEAC/6c/Fr8cPtD/Xr/sv4W/yEAAAAAAL3/Wf+9/yEAeQLHA9IBCgEVAhUCWAJNAUIA3QJBA0IAsv5v/jf/3v83/8j9vvyn/aYAeQLe//X+CgEhAEIApgA3/73/AABv/kP9Lf5v/nr/TQF6/9P+LAGmAN7/IQCb/6YA6QD0Af8C6QCFAPQB9AEsAfQBYwO8AqYAWf/e/wAAyP3U+8j9Wf+mAMgA9f4L/t/8AP31/kIAb/4L/ln/ev/IACwBpgDdAvQB3v9CAJv/CgH0AWQALAEhAN7/ZABkAJABCgGQAfQBAAAL/i3+Wf8KAWQA3v+FAGQAev96/yEApgCFAJH+0/4hAMj9hv3T/hb/TQF5AgoByABCAG4B0gGy/mT9vvzI/Rb/N/9NARUCQgB6/xb/N/+9/ywB/wLSATcChAP/ArEBFv8W/2QAm/+FACwBAAA3/3v83/wAAEIAvf9uAdIByAAAAPX+Fv/e/3r/b/4A/d/8ZABCAJv/TQF6/5H+kAFNAW4BCQQsAXr/6QDT/nr/TQGFAAoByAAKAbEB6v0t+3v86v16/9IBhQDT/iwBsQEsARUCIQCFABUCvf9CAJv/3v95AoUAQgCFAC3+yABYAk0BIQAt/iL9e/x7/C3+m/8hAN7/AACmAOkApgCFAOkAWAK8AjcCkAGb/yEAhQDe/73/Tv69//QBFv8W/wAA6v2R/m/+3/ze/yEApgBBA5v/Q/2y/pH+IQDIAHr/kAHSAVgCsAQgA1n/ZP31/sgAeQJuAVn/vf8AADf/3v9uAQAAZP0L/iEA9f5O/oUAAAAt/jf/sQFjA5sCkAFYArwCCgH1/iL93/wL/jf/pgAsAW/+9f6bAqUDmwIhAPX+IQDe/7L+9vsL/iEAFv83/2T9vvxuAYQD0gHSAdIBNwI3Ai3+nPx6/ywByAA3/9/8N//SAekAsQGmAC3+3/yc/Ib96QC8AjcChQBk/SL93v/e/24BuwWlA6YAeQJYAtIB0gG8AoQD9AGb/97/N//q/dP+WvwX/EIAvvxl+gAA9AEsAfX+ZP2b/yL9WvybAlcFpQO8AmQA6QDdAkIACgHdAkIAWf97/J35OPz1/nr//wI3Ahb/CgEsAW4Bm/++/NP+hv1a/MgAQgAhAN0C9AEKATf/yP1Z/8gAIQCFAGQAm//T/tP+kf5NAdIBsQF4BYQDvf+mAGT9kf7oA1gCLAHq/WT9WAKxAYUAsQHe/5v/LAFkAFn/Wf+b/00B3QJkANT7b/5Z/wv+kf4i/UP9AABv/qYAkAGmAI8EWAIt/t7/9f5Z/5v/kftw+zj8b/6bAlgCyADdArAExwOQAcgAeQIAAMj9RPr2+9IBWAJuAYUATv4X/Bb/3QKn/dX4p/0KAf8CFv8X/JABIAOOB0AJbgHIAIQD0gEKAU7+Q/15AqUDLf5l+pz8b/69/y3+F/zI/Tf/IQDpABb/hQATCHgIQQMW/97/FAVLB7EB9vv2+0/70/5NAUP9C/5CANIBIAPI/aj63/wi/U7+IQDT/m/+m/9kACEA6v0hAPQBNwJ6/07+ZACR/pH7p/1k/Yf6p/2y/vX+QQNMBIQDhAMAAAD9YwO7Bd0CFv+R+73/3QJ6/0IALAGmAE0B0gTcBZsCpgCxATcC9AEAAFgC6AOG/S3+KwS7BdwFWAJv/lcFxgalA9IEWf+z+9T7GPl7/NT7DfhZ/xUCLf5a/L754fZG9GjxXPNm9yP6yve/9mb3tPic/Bb/FQJ5AmQAYgbwDRIOJxDlD88N5gyNCoIJughWCCoHxwOQAZz8DPvI/b786v3q/Yb90gGFAL78sv4A/QD9vf+R/sj9Q/04/EP9AP2G/YUATv6G/XD7Zvct+y3+6v1D/Xr//wKbAln/ZACEA7wC6QDe/5H71Ps3/0IAQgDT/jf/yABBA48ExwOwBOkAQ/1a/LL+yAAKAeT/z/+z/6D/if9t/1b/Sv9M/2L/hf+u/9//DwA3AFUAWQBDAB4A+v/3/xcAXQDGADIBkwHiARICFQLvAZQBEQF9ANn/Pv+x/kr+Hv40/qD+Pv///74ARwFkAewA2P+N/oP9Mf2c/Xb+Tf8SAAUBjwKYBJYG1AcBCIgHFgfgBm4GBQWFAu//yP4DAA4DLwbfB8sHTgbfBMMDMwLM/5n87PhM9q31dvWv9c/2xPf3+Xr+hwK+BbkIkAjEBfwC3v6J+xz9ZwE7Bh8MyA+GEEwTIxjLG7cdyxyBFqMQ0Q70C/oHjAMe+w31a/gS/6wF5Qp2B5v+C/n79C7xcu/L6qPjDeGj4ZLk3+kR7qfuT/F+9//89AEiBXsCmP1R+uz2xvXC+Bb8WQDXBQYJSgrJC00MDQzPC0kJCwUnAR/+//uZ+tX4svYD9q73Tvs5/0MBdACp/af6mPip9w73Q/aN9an1GfdZ+e377v1H/2MAnwHdApkDbQM3ApMAH/9S/j7+tv6L/34AfgE8ApkCjQIlAoEBvgDt///+Jf6F/Sv9KP1e/cv9M/7I/lz/0/8iADYAGgDt/87/tf+w/8D/5v8RAEoAhgC4AOAA9AD1AOQAvACRAEkACQC//33/R/8j/w//Cf8f/0b/fv+9//X/IgA+AE4ASQAnAPz/0f/B/+T/OwDPAHABHQKaAvUCGQP5AoACwAHPAL//yv4D/m79Kv1U/eD92v4WADIBAQIbAkwBuv/d/W78/Puo/Nz9Fv84ALkBHARHB5gKawyoDN0LAgtmClcJ3gb2AmH/P/6eAGwF/wkrDGgLJgnjBuAEWAKu/oj5T/Q58b3vae9u8BTyHvQU+e//fQUWC5UOdAxNCGwDQfyE+Rz+qgQDDYoVVBjMGSAgxyYLK+8toSiQHY0XABWVDwkKqQC98nvvkPjtAnINxBCgBST54PK27L/oN+Ub2/HRx9F61U/a6OGt5dbmwe1596H+EgVcBq7/T/n89IPwU/HE9hr8PgPkCnUOcxBrEpESvBHlD7AL+gR3/3D75vhV9wf1kPJW8sL1ffvHAIYC8P/q+jn2g/N98ubx/fBc8DDx//MG+Ln7bP4HAFABywJABN4EGwQ1Ar7/4/0f/Yj9uf5JAOMBLwMQBFQE8AMCA7gBRQDY/qX9tPwk/O77DPxx/Bz99f3d/rX/TgCFAFkA+v+H/yb/3P7T/gD/ZP/s/3cA8gBMAXQBZgEjAbYAMQCb/wz/pf5o/m/+sP4u/7n/UQDYADEBVwEsAcQAPwC9/3L/hP/7/9MA3AHkAs0DgQTBBJoEBwT5ApIB9/9P/rf8Y/uy+sr6svtK/UT/OgHhAq8DFgMaART+PPvI+Tz6Efwu/v3/+wFIBTEKcQ8bE0cUjROMEvMR/BB5DSAHOQB8/Ij+eQVIDXUSlhKFD1oM5QmFBjcBo/lp8Nbpd+dR5qfmKulP64XwPvs+BZENrxVYFk8Q0Amf/472IfmgAsoNyhsMJb4m7CxGOYpB8Ub3RZE3vSjUI60djBR6Cuj2g+YP7PP7zQtRGfQUGP7m7kvm4N112hrRkb7qtIm4Ub+9yrnV9Ncu3M3pCfcVAm0KgwaK+jXyGuvt5jXscPXD/hsLZBSPF1gaMBzMG3caBBbSDCgD3PvJ9qPzffBs7Dfqy+xJ9GD9RgO3Apn8n/Ss7tTrteqi6V7oSuin6uLvIPYv+5n+4QAaA30F+gYDB9wERwG2/Y/7LfuO/OL+mgEeBO8FyQaWBnsFyAPCAa3/oP3Q+4v67vnx+X76aPul/An+af9gANQAqgAgAFf/kv4M/ub9OP7C/pz/ZAAQAX8BswGdAUMBoQDk/zD/u/53/nn+tv43/+D/pgBSAdEB7QGpARsBWQCn/0n/aP8kAEwBjALgA+sExAUSBs4F2wRaA3ABav9W/ZL7DvpU+ZD5wPrL/GL/AwINBMUEvQPGAA/92fmc+Hf5lvu9/bb/OgKHBo0MzxLiFt8XxRZ+FakUkhOeDzIIDgC8+2D+oAbBDyYVwRT/EJcN4Qp5B/EB2vhi7pDnw+TQ4yzlgucx6bDvxfrnBHgONxd+F+4RSAuP/zT2/vgMAhQOgh0aJpkndC3rODBCEkmRR2o47SiFIxAeXBaODGn4+eXt6XL6vwvvGWIVTv9g70bnUuDL3FPU6MMYuaq7bsOhzebXQNtv3fvo//YuAcIIYQcq/APzeO3K6TztPPa0/pEIYRHjFG8WGRhlGBoXghNeDIoDq/x4+Pn1cfNF8N3tQ+8k9fP8fAKfArL97va78WHvze4v7gztyexs7nHymPcH/PL+rQBGAgQEiAW7BS8EcgGW/tL8gfyF/TX/MwHzAkAE5gTQBBQE3gJzAeT/Xf4P/R38n/uM+/b7nfx3/XH+Zf8oAHEAaQAjAJj/F//C/qz+4v5Q/8T/SgCsAPYAFQEHAcsAXgDl/1P/Bf/Q/uD+G/95//b/ggAMAVABZQEnAbAAJACq/3f/qP9CAAcBAgLrArQDPwRhBAkENgMRAqEAK/+7/YT8o/tb+6T7pPwm/vP/xQEKA1QDOAL0/zz9O/vF+rL7Vv3L/jEAVQK0BRcKFA5YEIUQlA+GDiQO6QxtCQIE6f4w/UoAagYyDMcOtQ0YC+cICgdEBLL/A/k28mHuHu2w7Pftie9M8cf2uf4QBfsLuxABD0ELwwUC/Qr5zPyVA2ENAheHGiQbpyDSKGgv2zLXLoIiMxmJFjITEw4FBiP2seze8+P/OwutEeIJqvsV85rttum+5nDfmdSm0InTT9mR4KzlJ+cP66DzXvyxAr0FIAK9+tD15/Ls8fb1xPtVAb0HHQx3DUQOyw9jEBoQUQ3EB+cBo/1w+9D5+vfB9cn0wvY/+wAALgKFAF78WPg69ur17vUO9crzpvJT89H1Evnu+/n9gP8yAeUCfwO/Ah4Ba/9M/vX9VP79/tb/vgCpAXcCCgNUA1UDDANyAoABXgBB/1f+w/22/cv9EP6B/v3+cf+8/9j/u/+V/1r/Hf/p/sj+tf7E/tP+Cf9G/37/sv/Q/+X//v8eAEQAZQCSAM4ABQEyAUgBSwEsAfYAwgCSAG4AXABqAJwAzAAMAVUBjQGXAWsBAwEuAF//ef6W/eD8hPye/CH9+/3a/pz/LgCOANAA/gAeARUBxQAzAJj/X//s/zgB8gK1BCIGggfzCCUKbApJCREHiwRLA0IDhAPqAjoBdv8Q/3kAyAJBBOQD8gG5/yj+nfxt+pv3gfT58jn01/ar+RL8Y/0W/sf/uQHqA1UGAQfnBVkEAAJcAOoBXQVaCZ0N0g+3D3kRyhO6FKIUoBFMDMEJLwk5CIcGCwKg+/35fP3rAZkF5gTQ/uz5KPg19y73WvXC8D7t5eye7bbvoPGo8ejymfbs+fH8xv6n/aD7nPrd+YT6nPxG/nL/oAD5ALkBLwQVBx8J8Qn+CEUHAwYBBeUDpgL7ANL/2/+xAG4BbAGrAAkA7f9ZAIYAyP8Q/gn8fvok+iL6VvqG+sH6Ovvz+8X8ev38/Un+bf51/mT+PP4R/ur99v05/rD+UP8CAKUAJgFQAYcBpAGlAYkBRgHoAH4AKgDw/9n/4f/+/yQATgB0AKYAtQCvAI4AWQAUAMz/jf95/2H/Xf9t/5X/0P8bAGcAiwCkAKEAiABbAB4A1P+I/zj/F/8T/yv/Vf+K/8b/AQBCAGQAbgBeADcAAQDF/5n/4P8AAEEAlQDzAFgBxAEzAsgC/QIBA90CnwJQAv4BrgFLAQUB4ADmABkBYwGPAXMBjAD6/27/Bv+y/jH+WP1E/Ff7Bvta+/D7UvxY/ED8c/zz/Gf9e/0D/Wj8VPyp/Az9T/0p/TT9VP4QAA0C6wOGBIoE5gQnBeYFHQc3B9MGkwbPBQQGiAd+CIQJagr8CTkKTAsBC2UKFQlcBiwFYAW3BAgEPgIY/0H+d/+FAL0B9wDF/bH7CPue+gr71PnZ9kn1j/Rg9Ib10PVP9SP2MfdN+PD5NPpc+f/4h/iq+P350voM+0P7GPux+7n9+//2AS8DMwP4AkMDxgM5BCsEbQPFArsCHwOcA88DtQPBAz0E9ARsBR4FIwTyAgQCfAEeAZwA2/8M/37+Vf6B/s7+BP8M/9/+mf5I/u/9kf0k/bz8cPxN/Fv8jPzR/Cf9lP0T/pf++/45/03/RP86/zX/Ov9G/13/hv/E/xIAaAC3APoAKQFBAT4BIQHsAKsAbQA5ABEA9v/o/+3/+/8NABIACwD2/8//nf9e/yH/6/7I/r3+0P78/jj/hP/W/ycAagCXALAAuADCAMYAvgC3AMEA+QBlAfQBgQL3AlUDoAPaA+4DzwN8AxADowJNAgQCugFwATgBOgF7AesBQQIwApEBkwCV/+r+h/4S/ir91vua+hv6hvpg+wL8Gfzt+xH8ofwU/d380Puf+lb6Cfvj+2D8CfyO+4P87P7WAaEEvwVMBSMFNQXbBawHYQi+BzQHJgYKBi4IFwpdC5UMJwwpDPgNdQ6KDaULhwciBRQGlgYZBrUDiv7r++b9ygCIA1YDjv6X+o75bvmU+gj6Bfbq8q3xNfHB8rrzEPO28zD1l/b2+AL6AflY+ND3uPdb+bH6zfqx+gv6H/qW/PD/6wLVBMME+gMjBBoFXgbJBpoF5QP8AiUD5ANfBDQE8gNEBDUFFQYbBhcFmQNmAssBdAHUAK3/Sv4x/bv8Bv2i/Rv+Pf4P/sz9nP2D/Wv9KP2w/Cj8xfun+8X7Cfxr/Oj8gP0o/sP+Of99/6n/xP/a/+X/4//b/97//f83AHkAtQDuACABSQFgAWIBUQEoAfAAugCKAF4APQAiAAsA8//X/7n/k/9r/zz/A//N/qn+mv6g/r3+5f4V/07/kv/T/wIAEAACAOz/6P/9/xwASACAANYAXAEBAqkCOgO4AxsEaQSJBFcE1AMxA7YCgwKXArcCqgJuAj0CVgLZApAD7wOGA0YCngA4/2v+Bf6E/Vr81vrK+eP55vrm+x38pPtp+wL85/wC/Yj7Dfl+98v3m/l8+7r7Yfru+Z37Lf/OA80G2Qb/BRYF2wS2BnwIhQhMCEQHIAbLB4QKWgxjDuUOIw7rDwwS2hFSEM0LRgaSBZQHYQh9BzgCP/tE+jz+5QI3BnEDGfwJ+LP31/i2+tL4dPJz7kHtz+2E8KbxpPB28ZLzvPXA+NT5Vvh+9zz3qPfZ+Vb7qfqJ+Zn4Pvkp/TkCkAWtBqEFYwRUBcMHkQmQCT0HWAT4AlkDWwTMBFkE3AM3BFQFSQYrBvoEhwOVAjUCtQFyAH7+iPxY+zz74/uV/Oz81/yb/Jn87vxo/av9ZP2t/N/7Vfs5+2b7rvv9+2L8/vzB/Y3+M/+x/xMAYwCtAMQAqwB4AEIALwBAAGcAiwCoAMYA7gAiAU0BbQFuAVcBMwEGAd8AswB5ADIA3/+O/1L/I//9/tT+sP6T/o3+o/7U/hT/RP9k/3j/iv+i/6r/nf9y/zv/Ff8W/0n/nP8RAI8AQgEjAgEDqAMCBD0EewS7BL4EWwSMA6sCMwJdAhEDywMmBA4E0QPrA4MESgWOBaoEugJyALL+1v1r/a78U/sM+sT5s/oN/JH84fvs+gT7PvxA/Vn8+fgz9crzU/WL+Ar7hvqq+Jr4O/uBACMGWQieBzQGoAQFBXYHiAhzCC0IoAbdBloKSQ2KD1kRhRD/EL8U3hYCFhcS7gloBFUG9QlaCyYIQP6N9rL4/v9IB4QJ4wH596j0Bfaa+YX7Cfa37abps+jH6oju+O497hHwT/JM9dT4MvnQ95P3gveg+BT7dvu6+RX4Sfeo+ZX/JQXWB48HnAVKBTUIBgy+DQIMnAejA7kCKgS4BaUFHgTYAhoDqQQMBiQGAwWsA9MCTQJZAXD/Af3u+vn5D/qb+vb6yfqR+rX6evuv/LH9/f11/YL8tvts+5H7y/vS+7j7x/s4/Cr9Tf5c/ycAugAvAYcBuAGsAXEBKAHmAKoAeQBFACAAKwBtANMAPgGMAbEBuAHIAbwBkQFAAcMANQCe/w//nP5U/jL+MP48/lb+jv7t/mb/y//4/+j/rv9n/yX/5P6E/jT+AP4J/lr+2f58/zsAPQFhAoEDTASEBFUEGAQRBDUEQATTA/oCMQIKAskCKgSgBXMGhQYzBgMGKQZZBuYFXAT9AY7/3/0C/WL8a/tY+uD5YfuB/XD+Iv2V+ib5PPp4/AX9z/nb83vvq+/b8wb5APsO+Sr3Zfgn/U0ECwn6CAwH2QTBA9cF8wfAB5oH8wavBnEKFQ+LEZQTdBOqErUWlxvBG+gXeA6lBEwEAwrTDZEMNgJR9b3zSvzfBksNdAfA+UDy//LK97f8EfkD7kvmweKq5KzqdO0V7JPscO6C8df2pPkP+dj4UfiH+Cj7S/ye+lz4YfaU98D9qwSACJ0ICAYvBREJ9Q6FEhgRNAs+BSsDpwTnBgYHegR6AYEACQJsBPQF0AW4BKID1wLZASAA1P2C+9b5+viY+Ez4/ffl90n4oPl3+yf9E/4I/lz9t/yi/Jn8e/wH/Fn75PoY+/v7O/2o/ur/BwHxAagCFAMpAwgDnQIDAjgBawDC/3T/i//x/4IADgGWARgChwLDArACTAKaAbYAx//t/jr+vP2K/aD98P1b/tT+Uv/T/0wAigBtAO7/Lf9l/sf9Vv0f/ST9Z/30/bn+rP/VACUCbwNuBL4EZAS6AzUD+ALZApYCEgLGAeUByAI2BL8F8AakB/MHNAjuBzYH4QX4A+kBMwAB/yn++vxt+0j6pPrV/K//8ABE/6z7BPlp+e37YP2u+i70Ke4A7f3wW/cU+xH60ff899r78AKFCEUJiwcTBUEDfwRWBiAGRAZaBnIGPQoyD54R+RIbEyATVxiCHtEeuxnADlUDrQIhCpwPnA7fAlbzOPAu+rgHgxAOC/P6u/DQ8O323/2M+1jv/+RY4Erh0udn7DPs/+xk7mHwYfUj+df5e/oO+kD5uPp7+9759vdD9i/3K/16BNEINwmdBlAFEQmHD+kTrxIJDIgEIwGAAqEFwgY0BS4BEP4X/ukAKAR/BWMEvAEd/0n9E/zv+nb5pPfs9a70ZPTa9Mn17/Yn+Hr5wPqM++T7qvs7+wn7MPtu+3r7RPsm+6b77fys/mkApgF6AhwDswNKBKYEkAQQBGQD1QKgAoICfgKBApsCxgILA0sDWwMfA6sCBAIzAV4AY/9o/oz90vxY/Bb8FPxI/I78yvzG/Lj8h/w7/M77TvvL+nL6Z/rA+lb7GvwV/Wb+MQAlAusDBgWCBbcF9wVdBp8GhQZaBkAGoQZ4B4sItwkoC/AMAw8cEP0Pkw6GDL0Kmwm3CGcHhgSNAL/87/pR/CAAwANQBNIA4PuI+e77sQDKAmT+1vLI6gTqdu9R9iX5dvaT8wn1jvueBFALIAzQCjoKcQlQCcUIHAVdAzMF7wdhDa0S1xIEE0sVtRjqIT0skSyTIz0UnwPqAOkLNRW9FAgGbO5p5MnwawaOGNgYLwSa73zpvu6q+l//FvN94VvVoNAx183hnef/6k/tQO2q8MH26vkL/BX9H/pE+Hb4VvdF9vj0evN59/sAjgphENQPpwpACPcLnRLcFpUTBwnX/Qn4CvkG/TUAPP9x+yf40Pdp+tH9DP8u/iz7UPf88/Hx+/B48L3vl+888OHxR/Sv9rv4i/rK/BT/CgHkAVQB7//Y/sT+AAAuAe8BLAJAArgCwQMmBXAGwAZvBr8F3gTrA/YC8QGhANr/XP8v/0H/eP/K/xwALgB9ALEArgCJADkA5/+Z/4n/g/+x//v/YQC7ABgBSwHDAagBUAGyANL/w/6c/Xn8e/uj+iP6Kfqe+kb72/sr/AH8Ufz+/Mn9IP6J/TL81/ri+ej66vwj//8AqQKSBBoHFwqkDKkOLBDdEGwQoA7eCygJLweFBhYHVwhlCWMJLAgBB+4GJQmXDA0OXQpYATv25O577n/yqPUc9Ibt/+fE6SryAP64BxAKSQfLBOUCgALOA0YDmwFxAv4CBAR4CLEMNBGcGYMhcChJMZ800S6gJNcWiQt1DYIUrRVjDuv7lujb58j3qAuqGSYVmwDx7/npruuS8lny9OWO2MrOk8nXzQfWZt3x5grw3vSV+Vj9sv2P/uz+6fy8/FD++v19/Lr5Xfa0+LoCfA+/GW8chRaODscKmguSDk0Ougc2/ajzYe6z7R3w5fLS9N31bfa09rf2fvYD9nL1o/R18xLy2fA58M7wKfKz9IH4av1YAhcG8QfWCOAIgwmkCloL2AoGCdQGJAWCBM4EawXQBeIFpgUrBT0EOgPlAWUAwf4U/Xr7Efrm+Cv44vcE+I34Wvlp+nD7efxL/Qv+qf5I/9n/eAAaAckBkAJoA3MEnAXeBvwH4QhVCU8JwgjZB5EGFQVsA6cBKQBx/uj8pPvq+rr68/qD+4P8oPzg+/75dvcr9f7z9vND9KzzM/IE8cfxePV5+9kBcgZiCckKjws2DMcMEQ3SDOkLdAq0CFIHMQfmCDgMcxBPFSIZrhuIGykXvQ7WBAn9x/qh+vP35+8y5FDae9qI5gv3XwRjCcQEev65/H39EwAoAlH/Tfu0+Tz3O/ch/jEIWBZQKbk330DPSIdI7z94NaUnIhwsHZ0fvhkcDBP0/97s4YD3VBAJIo4cuwPA7prjxt9U43XgWNKMxeC7I7UquE7AVsp628LutfzHB5wNwAsvCTkFPP9q/YQAfAM7BfcC1vuL9yH9zgrMGzEn2CXrGpAOfAPg/XP7hvcY8fDpDuQc4WThoeOU5zzt6PMV+gL+nv8v/kj7Xvhz9kj2APgk++3+WwGWAskDUwbKChcQBRQQFewS4Q6WCvkGKgTXAcr/jf2K/AP81fvP+/f7WPz9/Ef9of13/c382vvW+kj6SPr5+uj78PzS/Z3+Zf8jAO8AnwHpAfABogEUAXIAyf8w/5T+Mf4Q/ij+iP4F/3z/GAB8AHUBhAJpAwEEOwQaBLwDQAMKAw0DYwMKBLUEOgWLBQsGVQZsBhIGBAUxA68AcP2c+RH19PB07obuwPC98+n1OfaU9iv4u/tTADAExAWCBMsABP1H+vH5iPy1AUwImw47E8gWnBkdHMMdUB13GjYWkhEeC3sC+vVx6OHf2N+r6db4SQJPA6f+Rvg89wb9KwJ7AwMAgvaH7Cvnc+TT5yf10AYnG3ow9T2oRF1KtUlrQ6U9cDJGKMAmHSJGFfsDVuxA3afmCP06FLwifxm8AaLuUuDO2IzXWs8Xwwq8D7a3s264hL5ZyWTehPTdB3QYPx9/HhgaHhCnA7n8GPvP/uQGTwoYBioADP0iAY4NoBnpHWgZLw6hAGD1Dewy5IPexdtq3H/hzudO7XrxHfV3+d3+iwQZCc0L8QtRCbwEyf+5/En9VQEsByoMwQ7fDtgNAw0wDP0KyAh/BbwBGf7S+tL31PRE8+zyA/Qw9sD4+Ppr/EL9d/1k/Zb9Cf6h/ln/BQClABABigEbAsUCZwPPA9gDggMTA30CAAJ6Af8AXwCz//r+Xf7I/VL9zvwr/M/7svsI/I78P/3l/XH+6P6F/0AApQAkAVQBRQFAAa0B7gI/BYwIFwy4DskPKw99DYcLagkdB0QDuf5P+qL2mPPk8KDuLe6A8Af2vfywAWoCmP5x+LLy2O/A71Lxp/Nf9lz5tPwCAGkGGxCUHC0pkzH/MpQtYiNuF3oLzP428pTq8+lz8LT7aAFa/qv4hfSI9/MDwg3yDPwBju0B1yfKd8XKyMvZKfO+DqAsI0QxUHJa3GJDY7ZidlwJTWhBGzlSJ5oQafaQ2pTUDOr1BlMi4CxuGVT84ORZz7zCv7qkq9WfcJ2hnFWhXavctDzFIOGt/tIZ7jBBOwM6hzJ2IWEK7vgW8Orx1v4yCgwMEgiyATr/ygUGD1sTWBFjCJn7bu/o48XYFNBczJ3P+Nk26Bb2pgA7B4oKvQsGDBkM1ww4DuwOPw2pCKgCV/4F/g0CPQibDYIQmhCaDnoLWQciAor8hvcy9JzyTPJK8nDy0vIH9Bn22vi6+0v+RwBwAdgBgAH0AGsAhwAtAUYCNAPGA9wDpgMoA5wC5AEZAW0A5v+u/6L/x//u/xIANgBRAEMACgB9/+P+M/6K/Qb9oPyJ/Mf8WP0f/gL/kP+N/zL/pv55/sz+zf+OAbIDGQZLCPMJ2AozC4YL0wvGC3kKgwcpAzH+xPlE9sTzhPK48jj1vvmv/rABKgFp/Yf4DPUH9Mn0AfZP9u/1ZPXM9S/4pv3CBuoSPB9MKAMrMCe7H7IWwQ0XBa373POL8VH0T/rZ/9T+J/mn9R33gf9HC2IPVwge+gvnctYxz6vOmtWd5/79NBRqKtA4kz+8R0NNOU1ZTDlFNDhBMTYpaxh3Bb3uY9vB36r13Q2KIhAjvg3l91HlftWJzovGnLnps5uzILTOuorClslP2WnvRAVcG6srADGkLxgnZBXbAp71JvAj9jkClQlVCpYGZQFzATEHRAx6DeQJ7QFr+a/xPumU4FfZJNaf2UDj5e/D+2sESgnYCngKOQldCHoIiglNClQJTAYoAiz/Hf8tAqQGjgqeDMcMfwstCaIFAwHy+5T34vQh9Jf0gPVI9un20fcw+QX74Pyj/vv/zQAPAcEATAD+/zEA3gDEAbcChgPtA+UDaAOTApEBhQC0/yP/4/7y/iP/kf8OAJ4AFQFRAVMB8ABDADv///3Z/PL7ePuH+w78Cf0y/jX/6f8KAKz/Pv8F/zf/FgCPAX4DhwVcB8EIsAlqCpIL5AyWDZsMTAkeBET+J/lw9Rjz8fFn8tz0E/nA/WgAYQBp/WT5b/a+9a32m/dp98P1mPOR8g30dPl4AywRTB8AKp4tySmlIT0Yyw9pCBgAkvcD8xLzZfdD/Vn93fcS9Oz0Nv1rC/oS4w0SAPzqoNYnzNnJ984l4Cz3vQ3tJBI1ITwaRGJMlE5FTxpLvz36M9Mtah7jClb0lNsN15vrSgYNINQq1xmGAHzs3Nkmz2/JmbyXsgiyB7PktxDBN8dU0Tfl4PspErYn5jNLNWowdSEqC+n4oO6d7kz6PQcvDBILQQYlAsYEPApPDCAKzQMh+wP0W+0+5Y/c19WW1ALbt+c49rECvgosDuANiAvFCAoHHwc/CAsJ7wfaBHwBy/9hAakEVAj2Ch0MHAwMC3gIAARk/qn4X/Re8p/yDfTU9XX3ivif+c/6PPzD/Sr/MgCyAJ0AMwDo/+3/cABYAXsCqAOLBAEF3AQsBPYCmAEOAMf+5/1v/Wj9z/2U/pD/fwBmAfoBQAIhArIB3wC8/3f+Sv1O/MD7vPsh/AD9AP73/sL/LgAkANz/kP+D//r/0QDeAfwCBgT8BOAF6AYvCMYJJQuUC0sK+wZLAmf9lvkw9yf2+/Wr9nz4K/v1/XL/3P7U/JT6h/kQ+hb7QfvC+ej2//OU8gf0f/nyAvkOjRoSIjcjBh9rGNQRoQwWCAMCVfuJ9+P2VPmc/Hf7sfaK9AH3+/4PC4ARGQ3FAOPuf9241O7TqthR5u746gmSGgInBSzZMeE5JD08PtY7OTFnKBQkPBnqCVT4P+Pf2+XqkgEKGG8kEhrqBAf06uRR2wTXRs1hw9fBA8Mgx3PPGtX42lPoF/kRCsEbgSfAKnUoWR7hDE386/H774H4xAT4CxINGwqhBhsHBwpVCj8HtgE9+yz24fF87LXlmd8E3UvgHumY9LX/nge5C0YMLwrKBswDZgK2AhME4wRABOIC6gGUArAEcwdmCU8KcArcCYAItQVvAVn8HviW9RX1E/ax9zv5gvq6+4v8Mf2l/SL+i/7y/jf/Jv8K//P+Kv+m/5MAkgGgAnID5QPqA4IDsgKnAYwAhv/D/jz+/P0E/lv+3f6c/2cAKwG7ARYCMQLzAWoBgABt/1r+NP1W/Nn7y/s4/AL9GP5C/zAA3QA0AUoBSwFZAYQB1AEoAoAC5wKCAzoEOQVgBusHwAlcC74LHgpZBisBBvwR+HL1BfRV827zsfQe9wD6m/vH/Lj8SPyM/PD9cP+J/5X9r/nG9bDz2/QD+u4CYQ5zGeQhASVEIkAc9hV2ENILXQYw/qz2cfIG8U3y5PJt733sM+8R97sDrA4wDr4DoPTu4xTZ1Ncn24fkUPUIBngVnSQgLaMyTDx3QndDUUPUOqsuUimBINMQywBM7O7dneYY+28PCyDIHPIImvfO5zHaaNSfy5W/Q7xfvQfAnMg50OLVFOIC8kABExKdH18l6iabIZETWQPx9jbxuPa4A10O1xMRFLYQFQ91EEgQzgxiBt/9lvaf8cvsGOdM4S7dgN114+3soff8AGkHGwpJCeUFdgF6/uj9Yf91AckCIgNJA9kEkwdfCkMMFA0eDckM7AvHCSgGXwGG/Nf48va69qL3MvmV+sT7aPy4/LP8nvyp/LL8yvza/OD8PP3A/aj+gf9dAA0BqQE0ArAC2gKgAhQCSgGjACYA4P/C/7T/sP/O/+X/AQAGAAAA/P/8/xEAFAAgACIAIgAVAOz/lf8W/3f+CP7H/cj9/f1U/sH+Uf8TAPwA1wGCAuUCFAMoAzsDSQM+A/YCpwKNAtkCeANuBIUFVwbfBl0GcAQ5AU/9wfkt98L15vQ+9BH00PTK9nX52/tB/fb9wv5WAG0CuwMjA2kA/fww+rL5E/wiATAIGBD6FukaUBtkGA4Upg+KCzYH+gAs+iD0CfCC7hLva+507BDtFPE5+c4DrQnKBlH+wPIM6GLk3OXP6c/yDv9WCnQWRSGsJqMsFzT8NuY3bTaVLVMleyCgFlwKE/6x7t7oEfMQAQcPXRcLD8b/8POZ567eENr70PzIXMg7yeHMu9RY2oHgLezS98wCdQ4cFjAZERobFdIJYP+C+KD3HP+mCdQQYBTFFPESohLQEiwQIAuLBFP9x/fM86XvXuvP5ybmsOdY7O3ysPl4/10DkwQbA8n/MPzy+Sn6D/x7/nIA5wGJA9UFrQgFC1MMdgzWC9oKiQmLB8UEjQGQ/nD8e/uJ+0b8Q/1H/sL+vv49/nn9nvz0+3z7O/s4+3n7Avzk/OX9+/7v/8IAUgGhAZkBbgEOAaQASAD+/9X/0v/v/0YAogD5ACkBMgH+AKwAMQDG/0f/2/6m/qX+4P49/6H/+/8tAC4ABADB/1P/5P57/jX+Lf6B/in/AwAsAWACkAN9BCcFeQV6BToFsQTpA+UC3QEWAdQAKAHOAdACpAPtA2ADvAEL/9P7r/g39nb0MPNB8t3xefJ59Hv3qfpt/ar/9gHOBIYH+ggsCNAEvQC8/WH94f+KBH0KeBCkFd4YKhnKFkATLA/RCvIFxP429jvvMerJ5+Ln2OZX5QPoP+72914DPQiEBLr8lPJS6jXph+uB7334bAOpDRUariT0Kncy7jlIPPk8BTrPL3cnVyGbFYgJbP0075TsU/cbAyEPIxSBCaP7YvCo40HbK9WWysvDpcOzxOXJU9LG2PjgJu0N+AkC7QvNEX0ULxWDEOkGcv5B+Tj6dwN7DjsWnBoTG4MZSBkWGM4TfA1VBV79q/dl85bvROzT6T/piet87130d/na/ZwA6QCe/nf6t/bi9JX1JfhC+yb+2wDZA00HiwrODLQNZQ1tDDkLlwmcBxQFcAI5AOH+dP64/oj/TgD8ADoB3ADc/2/+/PzL++z6X/ol+jr6svqF+5j8wP26/qP/PQCrANoAtgBiAOv/lP9k/1z/df+g/+z/QwCgAPsAJwEkAegAlwBCAOb/kf9F/wz/+/4V/1b/rv/9/ygAWgCBAIsAcwAvANr/i/90/4b/y/80ANUAogGMAocDTQThBBwFDAWvBAsEGQPUAYkAUP+M/lL+kv4u/9f/VQBfAOb/rv7j/OT6Ivmz93T2aPWU9JD0svX+9+T6yP13AE0DDAbNCMQK8gocCdcFpwIcAVwBVAM+BoAJnwwaD2wQ5w9MDvALzgg2BYoA7fk58+zt7Olf6EboYOc46GjslfIW++kCUAQjAf37s/Wv8hP0Nvaq+WwAUAfwDqoY2B/2JOUrezAfMUExdiyeI3cePhhADlIGpvyD88/1j/2NBAoMoQpoAP/3l+/z5ZHgR9rG0dfOTs950PPVgdyh4Zzp+fIa+rcApQZkCT0L9gsvCEIC7f3v++7+Ngc/D88UTRjNGCUY5hfXFWURwgsRBQT/wfpy98H0z/K38efxafOs9Tz41/ra/OH9Rf33+q/30fSs83/06fbU+aL8XP88AjsF6QebCRQKrgnpCPkH4AaPBR0EwALKAVQBUQGyAUMC0wIjA/4CNwL/AI//MP4Q/TP8ovte+2n7yvth/BX9wv1b/tT+Nv90/5z/nf+Q/3v/cP91/47/v//5/z0AcACYAKoAnwCSAHkAZQBNADMADwDs/8X/oP+C/2r/S/87/zv/TP99/73/CwBOAH4AoACxAK0AoQCfAJgAwwAKAWQB3gF5AjQD5gOZBAEFGgXZBEcEbwNBAsYAHf+T/XH89fsf/J38NP23/en9tf0R/fH7k/o0+Qb4FfdG9s717/Um94P5qPzu/wgD9AUGCQgMIA56DqwMUQn1BcsDZAOEBGcGhgimCoUMnQ1qDfsLgQkgBlAC0P2O9+3wQuuN5o3kv+Si5L3leOma7of2RP9ZA7cCf/8V+mj2I/cT+cf7UwHxB+wOMhg/IfsmHC1AM9M07jQoM/0qJiM+HhkV2wt+BOT5DPWg+lEAVQYbC9cEafpC86XpHOE+3P/TfsxFy0nLWc2s04bZfN+J6FnxWPjX/gkE2wanCJMIcQQq/3z84fzJAWwK5BF4FpAZpxrHGvoaGRmXFB8PEwljA/f+Hft799D0QvMI8wP02PXe9/L5pftX/FP7tvhf9Zvyo/F38mf0qPb4+HL7U/5xAV4Enwb5B5EIsgh/CPgHAgfWBZ4ErgMkAwgDLwOVAygEaQRABKEDngJ2AVAAMv8w/kj9i/wW/OX7//tA/Jf89vxi/dH9RP6b/tf+9P4K/yz/Sv9x/6H/xv/0/ywAWQB/AI4AlwCdAJgAngCGAFsALwAVAPz//P/0/93/vf+X/3//d/94/3X/e/+I/6H/xv/t/xMAPgBnAJEAswDWAO0ACQE8AXMBuAECAlQCqwL1AjUDTwM0A+cCbQLGARQBUQCC/5z+tf3r/GP8QPxu/M78Ef0+/Sn9x/wS/CX7Mfp7+TH5Sfm8+XT6jvs9/Xf/+wFKBCMGkQfrCEwKVgtvCzMK/gd+Bb4DUwMZBH0FFAeGCHIJvwnnCM4G6gN7ANX8SPlc9f/wg+386vXp+Ooj7CXtq+9c82f48v50AwwEPwLD/qb7Kfvx/Gv/SgPkCL4OKhVQHGUhwiTkKBMrbyqEKT0lDB6VGVcUewyPBqz/yPjI+Y3+XgIcB08Guf5g+PrxVuq95azgrdlg1obVONUD2PXbZN8P5S/sc/JI+Hv91wD+AmUE7gJA/1b8k/uJ/d4CCwleDWoQfhKLE8sUfBUqFI0RKQ5ECqkGQAOV/x78V/mM9wj3avdz+OL5Zvt9/JL8Yvsg+eD2YfX+9Hn1SvYd9wn4XPk2+3b9t/+kASsDYARVBe8FHQbRBSwFbATLA2UDPQNPA3sDsgPSA70DaAPeAjsCnQH7AEcAkv/g/kH+yv10/Uv9OP0+/VT9ev2s/eT9Mf5v/qf+5f4a/0P/fP+3/+P/EwAwAE4AZgB+AJQAqgC8AMYAwwC3AJ8AjQCLAGwATwAXAOL/rP+B/2j/Vv9E/y7/GP8S/xf/I/87/1f/cv+U/6f/1P8LAEQAhgDIAAYBQwGGAcIBDQI8AnMCpgLOAvIC+ALoArACVgLUATIBeACs/+L+Qf6o/ST9m/wP/Ln7mvuy+/P7K/xL/Cj82ftY+8D6U/op+pP6gPvn/IX+TwBKApAEzQaXCLUJSgqdCv4KZQs5CyEKFwjFBRAEgQMdBFUFhgZ6B9oHSQeCBW0Ci/6a+pX2MvM28Abtpuq+6fvpsusp7t7vKvL09dn6igA3BW8GtATlAXv/2f4cAc0E2QjZDsEVqRshIkgnRykCLP0tYCysKvMmnx+/GhQWFw7uB2ABNfpz+rj+yQEQBkQFrv119/XwNenx5K7fidhW1YzTNNJv1NLWAtll3rPksepz8f723Ppt/iUAQv/A/CD6C/kW+/P/aAXTCRANNA8mEZMTXxWiFdwU2xI7EIQNQQpiBlECtP7k+0T6tPnw+b/62fu7/N780/vp+dv3XPa89aj1qPWJ9Vz1m/WF9hD44fnD+5P9Qv8EAYcCngMjBDcEBATIA5YDkgOxA+EDGwRKBE0EKQTlA6gDXwMJA6ECHwKBAdwARgCi/w//hv4U/rv9if1t/Wz9hP2k/cf98/0m/lv+pf7z/jv/iv/J//H/IABNAG8AlACxAMkA2wDzAAwBIwEtATEBDQHfAKcAXwAmAPT/wv+L/1v/Jf8G//r++f4O/yP/Ov9P/2P/dv+Q/6z/0v/2/xsARQB1AL0A/ABAAXUBqwHXAfwBFwIhAiICAwLNAYABGQGtADMAsf8w/6v+L/69/WX9Jf39/Nr8t/yN/Hr8dvyc/NX8Cf03/U/9Z/13/Zj9Bv6p/rz/HwGnAiUEgwXRBgUI4wg5CQsJfAj5B7UHhQf5BugFagTzAgIC0QEtArIC5QLSAh8CqgBH/ib76fcX9cLyQ/El8EfvZe9x8C3yfPSM9hf4WfqF/W8BPQVoB0EHsQUbBKsDwQSYBxQLAw8bFAEZ6ByhIEIioiLSIzMjJyEtH6Aa4hX1EuoNdwgdBF3+Avxw/mYA5wLZAyf/9fl89aXv4OuL6EHjF+BZ3nrc6dzI3SzeyOCI5Jroqu078sn1+fga+4T7mvoK+Qj47Pju+7j/JwPFBYwHJAlWC4QNFA/lD90PMg9TDs4MiAq3B6oEDAIgAPH+af5e/pn+1P7N/jL+/fyV+236xfl6+Sz5lvjh9y/35fYf97f3ifiL+bn6Afxd/Zn+gf8fAI0A5QA6AYIB1gEqAnICpgLJAswCywLQAtYC8AL+AvACxwKAAiYC1QF1AQcBngAxAMz/d/8k//P+vf6c/pr+m/6y/s7+7/4Z/0j/cv+c/7n/0f/m/wMAFAAuAEEAUgBmAH0AkwCjAJ4AnACMAHQAWwA0AAoA1v+y/4//bP9f/0j/Sv9a/3P/mf+x/8z/3//3/xAALQBHAGMAdwCYAL8A7AAQATcBVgFeAW0BYgFGAQoBuwBiAP7/if8U/6X+Mv7E/Wj9Cv3E/JX8f/yP/Lb85Pz6/BD9Hf1M/YX93v1P/sP+Vv/i/3oAJAHGAZECpgP9BF4GoAelCHUJBQpBChIKYAlOCEwHmgYrBs8FHwXsA3oCLAFbAP7/1/+z/z//Yf7Z/LL64fff9GPynfCy75vvxe+L8ELyZvQR92T5//rD/G3/zQKzBqYJywo9Cg8JyQjFCS0M5w+wEzEYOR3eINIjziVrJV4lVSXtIvEg+x3MGJoV5xH1C4YHWwKM/Sz+5v8dAdcC5v8o+gr2bPCM67/oCeQF4Dfex9vi2iDbYto+2+Xd9eB15S3q+u2y8Z30JvZw9p/12fRM9X73D/uU/lkBWQPLBMIGPwl2C4YN6A6FD9QPkA9qDoMM/wlRBxIFYwNHApUBIgHVAHIAqv+E/iX95fsi+7f6b/rq+fb40vfP9jb2DPY09qP2N/cZ+DX5UPpQ+x381vyF/Tn+/f67/28A/wB2Ac4BDgIvAlMCggLDAgQDNANQA1IDMwMMA9MClwJMAgICtwFjAQ0BsQBXAAEAq/9y/0b/MP8Z/wb/Bf8E/wn/DP8S/xr/IP8x/03/Z/97/4v/lP+e/6j/tP/C/87/3v/p/wQABwAMAP7/+//5/wMADAAgACgAOAA8AEYATwBaAGYAcACCAJAApgC6AMUAzwDaANoA1wDTAM0AuwCpAIoAYQAnAOT/lv9N/wT/wP6D/kj+E/7i/cH9nP2K/Xj9ef2O/bT94v0e/j/+Xf5z/pv+3f47/7n/UAD6AKwBWAIAA6oDVwQsBQIG2waGB+oHCgj0B6AHGgdGBlAFcQTbA5sDigNMA7ECygHNAPv/bP/0/m3+qf2h/DT7eflu90j1nPOf8l7y+fLl8wn1zPbK+NP61Pwi/h//nACOAg8Fdge5CNUIRgglCPwI0wrWDSIRbxRsGJ4bnx1QHycfIh4IHnscVRrLGC0V1hHUD7QLnQeDBAQAQP6q/xsASAFhAVr9nflT9rbxEO+V7JHoXua65I/iDOJ64YbgieFl49rlpulP7Ynw3vNK9p33/PeM91T3FPgA+nP8iP4LABUBAgKhA64FqweWCR4LOgwsDYcNEQ3VC/kJ6QcKBnYEKAMhAkoBmgD4/yz/O/48/a78ivyX/JX8OfyQ+7n69vlK+cn4a/g++Fb4uvhd+Rn6z/qC+yj84fye/Wn+KP/i/3oA/QBPAYkBngG1AccB6AEEAiICLQI0AiwCIwIPAvUB0wG0AYsBaAE3AQkBygCRAEsADQDK/5T/Xf87/x3/FP8L/xH/E/8l/zf/Wv98/53/tv/M/9//6P/s/+n/5f/c/9b/0f/a/9n/5v/x//T//v8FABgAHQAjACMALgAzACkAHgAYABMAGgAnADgAUgByAJYAvADfAP4ACgEYARwBGwEGAesAvgCBADwA+v+4/3T/Jv/o/rX+iv5f/kD+Hv4G/vH95P3Q/cH9t/2w/bX9w/3S/e79Bv4j/lL+nP4S/7r/iwBwAWUCVwM5BAQFsAVOBuQGeAftBysIGwi+BzUHkAbyBToFfATiA50DtwMCBCEEuwPHAoEBOwAZ/xL++/yp+yr6bviF9oj0n/JO8eLwXvG18nT0LPYl+FL6TPwk/ln/4f+1ACUCRgSwBmAI/QjoCOsICAoiDI4PtRNdF2MbGx8CIYEizCITIUogRh+THOMaRxj6E8wR3Q4GCuwGxQK1/i3/FABZAKsBNf9j+mj3GvMQ7zvtlun25XPk+OEV4KTf891A3YXeD+AN4yrnzurE7qHyM/XC9jf3F/eL9/P4S/t//f7+2/9WABkBsgKDBGAGVAggCvoLug2xDsEO+Q10DK8K6wgxB54FQAT/AsMBcQDt/mz9Svyu+6v78fsl/B/82Ptn+/L6dPri+Uz5z/iL+IX4tPj2+EL5n/kU+rP6g/t2/Hf9hP57/0wA9QBjAbUB7gETAjcCTAJEAjgCHwL/AesB0QG3AaUBkwGBAXUBYgFCAR4B7QDCAIwAWgAdAOf/rf+B/0z/Kf8G//T+7v7z/gb/F/8v/0D/W/96/5//tv/R/+L/7v/8/wgAFQAWABkAFQASAA0ADwAAAAIA+v/4//D/6//n/+L/5//v//7/BQAVACQANABMAGYAgwCYALAAvwDSAOAA6QDtANwAxwChAIMAYAA7ABIA6f+7/5P/bv9G/yb/Bv/z/t/+z/7B/rP+n/6E/mH+P/4j/g3++/32/Qf+K/5g/p7+8f5k//f/uwCTAXcCTwMaBLcEKwV0BY4FnQWoBbUFtQWIBTcFyAReBB8E9gPWA7kDtAPMA/4DFQTAA9sCewHe/1r+AP3Q+5X6Y/kj+N32t/W89A30BPTE9Ar2x/d8+dz6Qfx//Yn+ff/k/wYAgQCDAS4DFAWEBj0HjAdMCAQKaQzED0MTGxYyGXMbLhzXHB8cSxqtGToY4BW9FB0S/Q6+DdkKSAcdBVkB9v7t//z/VgDyAMb9cfo8+G70HPKr8FDtKOvc6XbnYeZ75ZzjR+Pm48TkQedA6iXtuvDu8zP2v/dr+N742vmC+2/98P7L/xoAKACYAHcBWQJ3A7sEGwbOB4EJxAp4C24L8AosCjoJLwgaBwcG6ASyAzMCdAC4/kT9UPzf+8T7u/u5+7T7vfvR+9P7vvuP+2D7Pvs5+0L7PPsp+w77/foK+z77m/sj/NL8lv1b/hb/tP9KANIATgG4AQsCQAJYAl8CTwIsAvUBuQFzATUB/wDMAKoAiwBvAFgAQQA5ADAAIAAdABoAFQAJAPL/1/+7/5//ff9i/0n/Mv8p/yT/KP81/0H/U/9o/4r/tv/l/xYAPgBZAGcAbgBqAFUARwAtABkA/P/c/8T/pv+R/4T/gf+M/6T/v//p/xgATQB4AJ8AtQDJANoA5wDtAOgA1wC9AJ4AfwBeADoAHAACAPL/5f/e/9v/3v/e/9T/zP+7/5z/ef9R/x3/4f6c/kr+/P2x/W/9Sv1D/Vf9kP3n/V3+7/6g/04ABQG9AXkCOAPnA34E8wQyBUIFLgUGBc4EpgSaBKkE3AQIBSIFJQUpBT0FaQWSBYcFWwUCBY0E4wPeAlEBSv8o/Sv7kvll+HH3ovbp9U710fSR9Jj0DfU39r73ffk0+0v8G/3m/Wv+4P4u/yL/a/+BAFcCoQS5Bj0ILglOCm0MKA+PEm0WSBnpG0Aeoh6tHjUe4xuWGp8Z9xaMFcMTJRCgDq0MpQhVBj0Dff/K/zQAx//dAND+ufqs+DL1+PHt8AbuIOsP6q3nzeUW5eLid+GF4XLh4uKH5Qnof+s87yDyj/QX9hL3avhX+rT82/5NAPsAAQEZAXkB4QFiAhAD2AMiBc8GXgiyCYAKwgrGCn8KLQrACUMJogi+B2oGowScAogAvP5g/Vn8kvvi+mj6H/oV+ir6RvpZ+nf6sfoL+3b70/sJ/BD8+PvT+677k/up+7/7APxU/L/8Nf27/Uf+3v5//ycAvABQAc8BOwKFArECtQKiAnYCNgLxAaABUAEKAcEAgABCAAsA2/+v/5//iv+L/5H/mP+g/6j/pf+r/6D/oP+c/6H/pf+o/6n/oP+g/5L/if+D/4P/hP+L/5f/k/+a/6H/pf+x/7L/yf/a//P/AAAAAAAAAAAAAAAAAAAAAAAAAAAAAAAAAAAAAAAAAAAAAAAAAAAAAAAAAAAAAAAAAAAAAAAAAAAAAAAAAAAAAAAAAAAAAAAAAAAAAAAAAAAAAAAAAAAAAAAAAAAAAAAAAAAAAAAAAAAAAAAAAAAAAAAAAAAAAAAAAAAAAAAAAAAAAAAAAAAAAAAAAAAAAAAAAAAAAAAAAAAAAAAAAAAAAAAAAAAAAAAAAAAAAAAAAAAAAAAAAAAAAAAAAAAAAAAAAAAAAAAAAAAAAAAAAAAAAAAAAAAAAAAAAAAAAAAAAAAAAAAAAAAAAAAAAAAAAAAAAAAAAAAAAAAAAAAAAAAAAAAAAAAAAAAAAAAAAAAAAAAAAAAAAAAAAAAAAAAAAAAAAAAAAAAAAAAAAAAAAAAAAAAAAAAAAAAAAAAAAAAAAAAAAAAAAAAAAAAAAAAAAAAAAAAAAAAAAAAAAAAAAAAAAAAAAAAAAAAAAAAAAAAAAAAAAAAAAAAAAAAAAAAAAAAAAAAAAAAAAAAAAAAAAAAAAAAAAAAAAAAAAAAAAAAAAAAAAAAAAAAAAAAAAAAAAAAAAAAAAAAAAAAAAAAAAAAAAAAAAAAAAAAAAAAAAAAAAAAAAAAAAAAAAAAAAAAAAAAAAAAAAAAAAAAAAAAAAAAAAAAAAAAAAAAAAAAAAAAAAAAAAAAAAAAAAAAAAAAAAAAAAAAAAAAAAAAAAAAAAAAAAAAAAAAAAAAAAAAAAAAAAAAAAAAAAAAAAAAAAAAAAAAAAAAAAAAAAAAAAAAAAAAAAAAAAAAAAAAAAAAAAAAAAAAAAAAAAAAAAAAAAAAAAAAAAAAAAAAAAAAAAAAAAAAAAAAAAAAAAAAAAAAAAAAAAAAAAAAAAAAAAAAAAAAAAAAAAAAAAAAAAAAAAAAAAAAAAAAAAAAAAAAAAAAAAAAAAAAAAAAAAAAAAAAAAAAAAAAAAAAAAAAAAAAAAAAAAAAAAAAAAAAAAAAAAAAAAAAAAAAAAAAAAAAAAAAAAAAAAAAAAAAAAAAAAAAAAAAAAAAAAAAAAAAAAAAAAAAAAAAAAAAAAAAAAAAAAAAAAAAAAAAAAAAAAAAAAAAAAAAAAAAAAAAAAAAAAAAAAAAAAAAAAAAAAAAAAAAAAAAAAAAAAAAAAAAAAAAAAAAAAAAAAAAAAAAAAAAAAAAAAAAAAAAAAAAAAAAAAAAAAAAAAAAAAAAAAAAAAAAAAAAAAAAAAAAAAAAAAAAAAAAAAAAAAAAAAAAAAAAAAAAAAAAAAAAAAAAAAAAAAAAAAAAAAAAAAAAAAAAAAAAAAAAAAAAAAAAAAAAAAAAAAAAAAAAAAAAAAAAAAAAAAAAAAAAAAAAAAAAAAAAAAAAAAAAAAAAAAAAAAAAAAAAAAAAAAAAAAAAAAAAAAAAAAAAAAAAAAAAAAAAAAAAAAAAAAAAAAAAAAAAAAAAAAAAAAAAAAAAAAAAAAAAAAAAAAAAAAAAAAAAAAAAAAAAAAAAAAAAAAAAAAAAAAAAAAAAAAAAAAAAAAAAAAAAAAAAAAAAAAAAAAAAAAAAAAAAAAAAAAAAAAAAAAAAAAAAAAAAAAAAAAAAAAAAAAAAAAAAAAAAAAAAAAAAAAAAAAAAAAAAAAAAAAAAAAAAAAAAAAAAAAAAAAAAAAAAAAAAAAAAAAAAAAAAAAAAAAAAAAAAAAAAAAAAAAAAAAAAAAAAAAAAAAAAAAAAAAAAAAAAAAAAAAAAAAAAAAAAAAAAAAAAAAAAAAAAAAAAAAAAAAAAAAAAAAAAAAAAAAAAAAAAAAAAAAAAAAAAAAAAAAAAAAAAAAAAAAAAAAAAAAAAAAAAAAAAAAAAAAAAAAAAAAAAAAAAAAAAAAAAAAAAAAAAAAAAAAAAAAAAAAAAAAAAAAAAAAAAAAAAAAAAAAAAAAAAAAAAAAAAAAAAAAAAAAAAAAAAAAAAAAAAAAAAAAAAAAAAAAAAAAAAAAAAAAAAAAAAAAAAAAAAAAAAAAAAAAAAAAAAAAAAAAAAAAAAAAAAAAAAAAAAAAAAAAAAAAAAAAAAAAAAAAAAAAAAAAAAAAAAAAAAAAAAAAAAAAAAAAAAAAAAAAAAAAAAAAAAAAAAAAAAAAAAAAAAAAAAAAAAAAAAAAAAAAAAAAAAAAAAAAAAAAAAAAAAAAAAAAAAAAAAAAAAAAAAAAAAAAAAAAAAAAAAAAAAAAAAAAAAAAAAAAAAAAAAAAAAAAAAAAAAAAAAAAAAAAAAAAAAAAAAAAAAAAAAAAAAAAAAAAAAAAAAAAAAAAAAAAAAAAAAAAAAAAAAAAAAAAAAAAAAAAAAAAAAAAAAAAAAAAAAAAAAAAAAAAAAAAAAAAAAAAAAAAAAAAAAAAAAAAAAAAAAAAAAAAAAAAAAAAAAAAAAAAAAAAAAAAAAAAAAAAAAAAAAAAAAAAAAAAAAAAAAAAAAAAAAAAAAAAAAAAAAAAAAAAAAAAAAAAAAAAAAAAAAAAAAAAAAAAAAAAAAAAAAAAAAAAAAAAAAAAAAAAAAAAAAAAAAAAAAAAAAAAAAAAAAAAAAAAAAAAAAAAAAAAAAAAAAAAAAAAAAAAAAAAAAAAAAAAAAAAAAAAAAAAAAAAAAAAAAAAAAAAAAAAAAAAAAAAAAAAAAAAAAAAAAAAAAAAAAAAAAAAAAAAAAAAAAAAAAAAAAAAAAAAAAAAAAAAAAAAAAAAAAAAAAAAAAAAAAAAAAAAAAAAAAAAAAAAAAAAAAAAAAAAAAAAAAAAAAAAAAAAAAAAAAAAAAAAAAAAAAAAAAAAAAAAAAAAAAAAAAAAAAAAAAAAAAAAAAAAAAAAAAAAAAAAAAAAAAAAAAAAAAAAAAAAAAAAAAAAAAAAAAAAAAAAAAAAAAAAAAAAAAAAAAAAAAAAAAAAAAAAAAAAAAAAAAAAAAAAAAAAAAAAAAAAAAAAAAAAAAAAAAAAAAAAAAAAAAAAAAAAAAAAAAAAAAAAAAAAAAAAAAAAAAAAAAAAAAAAAAAAAAAAAAAAAAAAAAAAAAAAAAAAAAAAAAAAAAAAAAAAAAAAAAAAAAAAAAAAAAAAAAAAAAAAAAAAAAAAAAAAAAAAAAAAAAAAAAAAAAAAAAAAAAAAAAAAAAAAAAAAAAAAAAAAAAAAAAAAAAAAAAAAAAAAAAAAAAAAAAAAAAAAAAAAAAAAAAAAAAAAAAAAAAAAAAAAAAAAAAAAAAAAAAAAAAAAAAAAAAAAAAAAAAAAAAAAAAAAAAAAAAAAAAAAAAAAAAAAAAAAAAAAAAAAAAAAAAAAAAAAAAAAAAAAAAAAAAAAAAAAAAAAAAAAAAAAAAAAAAAAAAAAAAAAAAAAAAAAAAAAAAAAAAAAAAAAAAAAAAAAAAAAAAAAAAAAAAAAAAAAAAAAAAAAAAAAAAAAAAAAAAAAAAAAAAAAAAAAAAAAAAAAAAAAAAAAAAAAAAAAAAAAAAAAAAAAAAAAAAAAAAAAAAAAAAAAAAAAAAAAAAAAAAAAAAAAAAAAAAAAAAAAAAAAAAAAAAAAAAAAAAAAAAAAAAAAAAAAAAAAAAAAAAAAAAAAAAAAAAAAAAAAAAAAAAAAAAAAAAAAAAAAAAAAAAAAAAAAAAAAAAAAAAAAAAAAAAAAAAAAAAAAAAAAAAAAAAAAAAAAAAAAAAAAAAAAAAAAAAAAAAAAAAAAAAAAAAAAAAAAAAAAAAAAAAAAAAAAAAAAAAAAAAAAAAAAAAAAAAAAAAAAAAAAAAAAAAAAAAAAAAAAAAAAAAAAAAAAAAAAAAAAAAAAAAAAAAAAAAAAAAAAAAAAAAAAAAAAAAAAAAAAAAAAAAAAAAAAAAAAAAAAAAAAAAAAAAAAAAAAAAAAAAAAAAAAAAAAAAAAAAAAAAAAAAAAAAAAAAAAAAAAAAAAAAAAAAAAAAAAAAAAAAAAAAAAAAAAAAAAAAAAAAAAAAAAAAAAAAAAAAAAAAAAAAAAAAAAAAAAAAAAAAAAAAAAAAAAAAAAAAAAAAAAAAAAAAAAAAAAAAAAAAAAAAAAAAAAAAAAAAAAAAAAAAAAAAAAAAAAAAAAAAAAAAAAAAAAAAAAAAAAAAAAAAAAAAAAAAAAAAAAAAAAAAAAAAAAAAAAAAAAAAAAAAAAAAAAAAAAAAAAAAAAAAAAAAAAAAAAAAAAAAAAAAAAAAAAAAAAAAAAAAAAAAAAAAAAAAAAAAAAAAAAAAAAAAAAAAAAAAAAAAAAAAAAAAAAAAAAAAAAAAAAAAAAAAAAAAAAAAAAAAAAAAAAAAAAAAAAAAAAAAAAAAAAAAAAAAAAAAAAAAAAAAAAAAAAAAAAAAAAAAAAAAAAAAAAAAAAAAAAAAAAAAAAAAAAAAAAAAAAAAAAAAAAAAAAAAAAAAAAAAAAAAAAAAAAAAAAAAAAAAAAAAAAAAAAAAAAAAAAAAAAAAAAAAAAAAAAAAAAAAAAAAAAAAAAAAAAAAAAAAAAAAAAAAAAAAAAAAAAAAAAAAAAAAAAAAAAAAAAAAAAAAAAAAAAAAAAAAAAAAAAAAAAAAAAAAAAAAAAAAAAAAAAAAAAAAAAAAAAAAAAAAAAAAAAAAAAAAAAAAAAAAAAAAAAAAAAAAAAAAAAAAAAAAAAAAAAAAAAAAAAAAAAAAAAAAAAAAAAAAAAAAAAAAAAAAAAAAAAAAAAAAAAAAAAAAAAAAAAAAAAAAAAAAAAAAAAAAAAAAAAAAAAAAAAAAAAAAAAAAAAAAAAAAAAAAAAAAAAAAAAAAAAAAAAAAAAAAAAAAAAAAAAAAAAAAAAAAAAAAAAAAAAAAAAAAAAAAAAAAAAAAAAAAAAAAAAAAAAAAAAAAAAAAAAAAAAAAAAAAAAAAAAAAAAAAAAAAAAAAAAAAAAAAAAAAAAAAAAAAAAAAAAAAAAAAAAAAAAAAAAAAAAAAAAAAAAAAAAAAAAAAAAAAAAAAAAAAAAAAAAAAAAAAAAAAAAAAAAAAAAAAAAAAAAAAAAAAAAAAAAAAAAAAAAAAAAAAAAAAAAAAAAAAAAAAAAAAAAAAAAAAAAAAAAAAAAAAAAAAAAAAAAAAAAAAAAAAAAAAAAAAAAAAAAAAAAAAAAAAAAAAAAAAAAAAAAAAAAAAAAAAAAAAAAAAAAAAAAAAAAAAAAAAAAAAAAAAAAAAAAAAAAAAAAAAAAAAAAAAAAAAAAAAAAAAAAAAAAAAAAAAAAAAAAAAAAAAAAAAAAAAAAAAAAAAAAAAAAAAAAAAAAAAAAAAAAAAAAAAAAAAAAAAAAAAAAAAAAAAAAAAAAAAAAAAAAAAAAAAAAAAAAAAAAAAAAAAAAAAAAAAAAAAAAAAAAAAAAAAAAAAAAAAAAAAAAAAAAAAAAAAAAAAAAAAAAAAAAAAAAAAAAAAAAAAAAAAAAAAAAAAAAAAAAAAAAAAAAAAAAAAAAAAAAAAAAAAAAAAAAAAAAAAAAAAAAAAAAAAAAAAAAAAAAAAAAAAAAAAAAAAAAAAAAAAAAAAAAAAAAAAAAAAAAAAAAAAAAAAAAAAAAAAAAAAAAAAAAAAAAAAAAAAAAAAAAAAAAAAAAAAAAAAAAAAAAAAAAAAAAAAAAAAAAAAAAAAAAAAAAAAAAAAAAAAAAAAAAAAAAAAAAAAAAAAAAAAAAAAAAAAAAAAAAAAAAAAAAAAAAAAAAAAAAAAAAAAAAAAAAAAAAAAAAAAAAAAAAAAAAAAAAAAAAAAAAAAAAAAAAAAAAAAAAAAAAAAAAAAAAAAAAAAAAAAAAAAAAAAAAAAAAAAAAAAAAAAAAAAAAAAAAAAAAAAAAAAAAAAAAAAAAAAAAAAAAAAAAAAAAAAAAAAAAAAAAAAAAAAAAAAAAAAAAAAAAAAAAAAAAAAAAAAAAAAAAAAAAAAAAAAAAAAAAAAAAAAAAAAAAAAAAAAAAAAAAAAAAAAAAAAAAAAAAAAAAAAAAAAAAAAAAAAAAAAAAAAAAAAAAAAAAAAAAAAAAAAAAAAAAAAAAAAAAAAAAAAAAAAAAAAAAAAAAAAAAAAAAAAAAAAAAAAAAAAAAAAAAAAAAAAAAAAAAAAAAAAAAAAAAAAAAAAAAAAAAAAAAAAAAAAAAAAAAAAAAAAAAAAAAAAAAAAAAAAAAAAAAAAAAAAAAAAAAAAAAAAAAAAAAAAAAAAAAAAAAAAAAAAAAAAAAAAAAAAAAAAAAAAAAAAAAAAAAAAAAAAAAAAAAAAAAAAAAAAAAAAAAAAAAAAAAAAAAAAAAAAAAAAAAAAAAAAAAAAAAAAAAAAAAAAAAAAAAAAAAAAAAAAAAAAAAAAAAAAAAAAAAAAAAAAAAAAAAAAAAAAAAAAAAAAAAAAAAAAAAAAAAAAAAAAAAAAAAAAAAAAAAAAAAAAAAAAAAAAAAAAAAAAAAAAAAAAAAAAAAAAAAAAAAAAAAAAAAAAAAAAAAAAAAAAAAAAAAAAAAAAAAAAAAAAAAAAAAAAAAAAAAAAAAAAAAAAAAAAAAAAAAAAAAAAAAAAAAAAAAAAAAAAAAAAAAAAAAAAAAAAAAAAAAAAAAAAAAAAAAAAAAAAAAAAAAAAAAAAAAAAAAAAAAAAAAAAAAAAAAAAAAAAAAAAAAAAAAAAAAAAAAAAAAAAAAAAAAAAAAAAAAAAAAAAAAAAAAAAAAAAAAAAAAAAAAAAAAAAAAAAAAAAAAAAAAAAAAAAAAAAAAAAAAAAAAAAAAAAAAAAAAAAAAAAAAAAAAAAAAAAAAAAAAAAAAAAAAAAAAAAAAAAAAAAAAAAAAAAAAAAAAAAAAAAAAAAAAAAAAAAAAAAAAAAAAAAAAAAAAAAAAAAAAAAAAAAAAAAAAAAAAAAAAAAAAAAAAAAAAAAAAAAAAAAAAAAAAAAAAAAAAAAAAAAAAAAAAAAAAAAAAAAAAAAAAAAAAAAAAAAAAAAAAAAAAAAAAAAAAAAAAAAAAAAAAAAAAAAAAAAAAAAAAAAAAAAAAAAAAAAAAAAAAAAAAAAAAAAAAAAAAAAAAAAAAAAAAAAAAAAAAAAAAAAAAAAAAAAAAAAAAAAAAAAAAAAAAAAAAAAAAAAAAAAAAAAAAAAAAAAAAAAAAAAAAAAAAAAAAAAAAAAAAAAAAAAAAAAAAAAAAAAAAAAAAAAAAAAAAAAAAAAAAAAAAAAAAAAAAAAAAAAAAAAAAAAAAAAAAAAAAAAAAAAAAAAAAAAAAAAAAAAAAAAAAAAAAAAAAAAAAAAAAAAAAAAAAAAAAAAAAAAAAAAAAAAAAAAAAAAAAAAAAAAAAAAAAAAAAAAAAAAAAAAAAAAAAAAAAAAAAAAAAAAAAAAAAAAAAAAAAAAAAAAAAAAAAAAAAAAAAAAAAAAAAAAAAAAAAAAAAAAAAAAAAAAAAAAAAAAAAAAAAAAAAAAAAAAAAAAAAAAAAAAAAAAAAAAAAAAAAAAAAAAAAAAAAAAAAAAAAAAAAAAAAAAAAAAAAAAAAAAAAAAAAAAAAAAAAAAAAAAAAAAAAAAAAAAAAAAAAAAAAAAAAAAAAAAAAAAAAAAAAAAAAAAAAAAAAAAAAAAAAAAAAAAAAAAAAAAAAAAAAAAAAAAAAAAAAAAAAAAAAAAAAAAAAAAAAAAAAAAAAAAAAAAAAAAAAAAAAAAAAAAAAAAAAAAAAAAAAAAAAAAAAAAAAAAAAAAAAAAAAAAAAAAAAAAAAAAAAAAAAAAAAAAAAAAAAAAAAAAAAAAAAAAAAAAAAAAAAAAAAAAAAAAAAAAAAAAAAAAAAAAAAAAAAAAAAAAAAAAAAAAAAAAAAAAAAAAAAAAAAAAAAAAAAAAAAAAAAAAAAAAAAAAAAAAAAAAAAAAAAAAAAAAAAAAAAAAAAAAAAAAAAAAAAAAAAAAAAAAAAAAAAAAAAAAAAAAAAAAAAAAAAAAAAAAAAAAAAAAAAAAAAAAAAAAAAAAAAAAAAAAAAAAAAAAAAAAAAAAAAAAAAAAAAAAAAAAAAAAAAAAAAAAAAAAAAAAAAAAAAAAAAAAAAAAAAAAAAAAAAAAAAAAAAAAAAAAAAAAAAAAAAAAAAAAAAAAAAAAAAAAAAAAAAAAAAAAAAAAAAAAAAAAAAAAAAAAAAAAAAAAAAAAAAAAAAAAAAAAAAAAAAAAAAAAAAAAAAAAAAAAAAAAAAAAAAAAAAAAAAAAAAAAAAAAAAAAAAAAAAAAAAAAAAAAAAAAAAAAAAAAAAAAAAAAAAAAAAAAAAAAAAAAAAAAAAAAAAAAAAAAAAAAAAAAAAAAAAAAAAAAAAAAAAAAAAAAAAAAAAAAAAAAAAAAAAAAAAAAAAAAAAAAAAAAAAAAAAAAAAAAAAAAAAAAAAAAAAAAAAAAAAAAAAAAAAAAAAAAAAAAAAAAAAAAAAAAAAAAAAAAAAAAAAAAAAAAAAAAAAAAAAAAAAAAAAAAAAAAAAAAAAAAAAAAAAAAAAAAAAAAAAAAAAAAAAAAAAAAAAAAAAAAAAAAAAAAAAAAAAAAAAAAAAAAAAAAAAAAAAAAAAAAAAAAAAAAAAAAAAAAAAAAAAAAAAAAAAAAAAAAAAAAAAAAAAAAAAAAAAAAAAAAAAAAAAAAAAAAAAAAAAAAAAAAAAAAAAAAAAAAAAAAAAAAAAAAAAAAAAAAAAAAAAAAAAAAAAAAAAAAAAAAAAAAAAAAAAAAAAAAAAAAAAAAAAAAAAAAAAAAAAAAAAAAAAAAAAAAAAAAAAAAAAAAAAAAAAAAAAAAAAAAAAAAAAAAAAAAAAAAAAAAAAAAAAAAAAAAAAAAAAAAAAAAAAAAAAAAAAAAAAAAAAAAAAAAAAAAAAAAAAAAAAAAAAAAAAAAAAAAAAAAAAAAAAAAAAAAAAAAAAAAAAAAAAAAAAAAAAAAAAAAAAAAAAAAAAAAAAAAAAAAAAAAAAAAAAAAAAAAAAAAAAAAAAAAAAAAAAAAAAAAAAAAAAAAAAAAAAAAAAAAAAAAAAAAAAAAAAAAAAAAAAAAAAAAAAAAAAAAAAAAAAAAAAAAAAAAAAAAAAAAAAAAAAAAAAAAAAAAAAAAAAAAAAAAAAAAAAAAAAAAAAAAAAAAAAAAAAAAAAAAAAAAAAAAAAAAAAAAAAAAAAAAAAAAAAAAAAAAAAAAAAAAAAAAAAAAAAAAAAAAAAAAAAAAAAAAAAAAAAAAAAAAAAAAAAAAAAAAAAAAAAAAAAAAAAAAAAAAAAAAAAAAAAAAAAAAAAAAAAAAAAAAAAAAAAAAAAAAAAAAAAAAAAAAAAAAAAAAAAAAAAAAAAAAAAAAAAAAAAAAAAAAAAAAAAAAAAAAAAAAAAAAAAAAAAAAAAAAAAAAAAAAAAAAAAAAAAAAAAAAAAAAAAAAAAAAAAAAAAAAAAAAAAAAAAAAAAAAAAAAAAAAAAAAAAAAAAAAAAAAAAAAAAAAAAAAAAAAAAAAAAAAAAAAAAAAAAAAAAAAAAAAAAAAAAAAAAAAAAAAAAAAAAAAAAAAAAAAAAAAAAAAAAAAAAAAAAAAAAAAAAAAAAAAAAAAAAAAAAAAAAAAAAAAAAAAAAAAAAAAAAAAAAAAAAAAAAAAAAAAAAAAAAAAAAAAAAAAAAAAAAAAAAAAAAAAAAAAAAAAAAAAAAAAAAAAAAAAAAAAAAAAAAAAAAAAAAAAAAAAAAAAAAAAAAAAAAAAAAAAAAAAAAAAAAAAAAAAAAAAAAAAAAAAAAAAAAAAAAAAAAAAAAAAAAAAAAAAAAAAAAAAAAAAAAAAAAAAAAAAAAAAAAAAAAAAAAAAAAAAAAAAAAAAAAAAAAAAAAAAAAAAAAAAAAAAAAAAAAAAAAAAAAAAAAAAAAAAAAAAAAAAAAAAAAAAAAAAAAAAAAAAAAAAAAAAAAAAAAAAAAAAAAAAAAAAAAAAAAAAAAAAAAAAAAAAAAAAAAAAAAAAAAAAAAAAAAAAAAAAAAAAAAAAAAAAAAAAAAAAAAAAAAAAAAAAAAAAAAAAAAAAAAAAAAAAAAAAAAAAAAAAAAAAAAAAAAAAAAAAAAAAAAAAAAAAAAAAAAAAAAAAAAAAAAAAAAAAAAAAAAAAAAAAAAAAAAAAAAAAAAAAAAAAAAAAAAAAAAAAAAAAAAAAAAAAAAAAAAAAAAAAAAAAAAAAAAAAAAAAAAAAAAAAAAAAAAAAAAAAAAAAAAAAAAAAAAAAAAAAAAAAAAAAAAAAAAAAAAAAAAAAAAAAAAAAAAAAAAAAAAAAAAAAAAAAAAAAAAAAAAAAAAAAAAAAAAAAAAAAAAAAAAAAAAAAAAAAAAAAAAAAAAAAAAAAAAAAAAAAAAAAAAAAAAAAAAAAAAAAAAAAAAAAAAAAAAAAAAAAAAAAAAAAAAAAAAAAAAAAAAAAAAAAAAAAAAAAAAAAAAAAAAAAAAAAAAAAAAAAAAAAAAAAAAAAAAAAAAAAAAAAAAAAAAAAAAAAAAAAAAAAAAAAAAAAAAAAAAAAAAAAAAAAAAAAAAAAAAAAAAAAAAAAAAAAAAAAAAAAAAAAAAAAAAAAAAAAAAAAAAAAAAAAAAAAAAAAAAAAAAAAAAAAAAAAAAAAAAAAAAAAAAAAAAAAAAAAAAAAAAAAAAAAAAAAAAAAAAAAAAAAAAAAAAAAAAAAAAAAAAAAAAAAAAAAAAAAAAAAAAAAAAAAAAAAAAAAAAAAAAAAAAAAAAAAAAAAAAAAAAAAAAAAAAAAAAAAAAAAAAAAAAAAAAAAAAAAAAAAAAAAAAAAAAAAAAAAAAAAAAAAAAAAAAAAAAAAAAAAAAAAAAAAAAAAAAAAAAAAAAAAAAAAAAAAAAAAAAAAAAAAAAAAAAAAAAAAAAAAAAAAAAAAAAAAAAAAAAAAAAAAAAAAAAAAAAAAAAAAAAAAAAAAAAAAAAAAAAAAAAAAAAAAAAAAAAAAAAAAAAAAAAAAAAAAAAAAAAAAAAAAAAAAAAAAAAAAAAAAAAAAAAAAAAAAAAAAAAAAAAAAAAAAAAAAAAAAAAAAAAAAAAAAAAAAAAAAAAAAAAAAAAAAAAAAAAAAAAAAAAAAAAAAAAAAAAAAAAAAAAAAAAAAAAAAAAAAAAAAAAAAAAAAAAAAAAAAAAAAAAAAAAAAAAAAAAAAAAAAAAAAAAAAAAAAAAAAAAAAAAAAAAAAAAAAAAAAAAAAAAAAAAAAAAAAAAAAAAAAAAAAAAAAAAAAAAAAAAAAAAAAAAAAAAAAAAAAAAAAAAAAAAAAAAAAAAAAAAAAAAAAAAAAAAAAAAAAAAAAAAAAAAAAAAAAAAAAAAAAAAAAAAAAAAAAAAAAAAAAAAAAAAAAAAAAAAAAAAAAAAAAAAAAAAAAAAAAAAAAAAAAAAAAAAAAAAAAAAAAAAAAAAAAAAAAAAAAAAAAAAAAAAAAAAAAAAAAAAAAAAAAAAAAAAAAAAAAAAAAAAAAAAAAAAAAAAAAAAAAAAAAAAAAAAAAAAAAAAAAAAAAAAAAAAAAAAAAAAAAAAAAAAAAAAAAAAAAAAAAAAAAAAAAAAAAAAAAAAAAAAAAAAAAAAAAAAAAAAAAAAAAAAAAAAAAAAAAAAAAAAAAAAAAAAAAAAAAAAAAAAAAAAAAAAAAAAAAAAAAAAAAAAAAAAAAAAAAAAAAAAAAAAAAAAAAAAAAAAAAAAAAAAAAAAAAAAAAAAAAAAAAAAAAAAAAAAAAAAAAAAAAAAAAAAAAAAAAAAAAAAAAAAAAAAAAAAAAAAAAAAAAAAAAAAAAAAAAAAAAAAAAAAAAAAAAAAAAAAAAAAAAAAAAAAAAAAAAAAAAAAAAAAAAAAAAAAAAAAAAAAAAAAAAAAAAAAAAAAAAAAAAAAAAAAAAAAAAAAAAAAAAAAAAAAAAAAAAAAAAAAAAAAAAAAAAAAAAAAAAAAAAAAAAAAAAAAAAAAAAAAAAAAAAAAAAAAAAAAAAAAAAAAAAAAAAAAAAAAAAAAAAAAAAAAAAAAAAAAAAAAAAAAAAAAAAAAAAAAAAAAAAAAAAAAAAAAAAAAAAAAAAAAAAAAAAAAAAAAAAAAAAAAAAAAAAAAAAAAAAAAAAAAAAAAAAAAAAAAAAAAAAAAAAAAAAAAAAAAAAAAAAAAAAAAAAAAAAAAAAAAAAAAAAAAAAAAAAAAAAAAAAAAAAAAAAAAAAAAAAAAAAAAAAAAAAAAAAAAAAAAAAAAAAAAAAAAAAAAAAAAAAAAAAAAAAAAAAAAAAAAAAAAAAAAAAAAAAAAAAAAAAAAAAAAAAAAAAAAAAAAAAAAAAAAAAAAAAAAAAAAAAAAAAAAAAAAAAAAAAAAAAAAAAAAAAAAAAAAAAAAAAAAAAAAAAAAAAAAAAAAAAAAAAAAAAAAAAAAAAAAAAAAAAAAAAAAAAAAAAAAAAAAAAAAAAAAAAAAAAAAAAAAAAAAAAAAAAAAAAAAAAAAAAAAAAAAAAAAAAAAAAAAAAAAAAAAAAAAAAAAAAAAAAAAAAAAAAAAAAAAAAAAAAAAAAAAAAAAAAAAAAAAAAAAAAAAAAAAAAAAAAAAAAAAAAAAAAAAAAAAAAAAAAAAAAAAAAAAAAAAAAAAAAAAAAAAAAAAAAAAAAAAAAAAAAAAAAAAAAAAAAAAAAAAAAAAAAAAAAAAAAAAAAAAAAAAAAAAAAAAAAAAAAAAAAAAAAAAAAAAAAAAAAAAAAAAAAAAAAAAAAAAAAAAAAAAAAAAAAAAAAAAAAAAAAAAAAAAAAAAAAAAAAAAAAAAAAAAAAAAAAAAAAAAAAAAAAAAAAAAAAAAAAAAAAAAAAAAAAAAAAAAAAAAAAAAAAAAAAAAAAAAAAAAAAAAAAAAAAAAAAAAAAAAAAAAAAAAAAAAAAAAAAAAAAAAAAAAAAAAAAAAAAAAAAAAAAAAAAAAAAAAAAAAAAAAAAAAAAAAAAAAAAAAAAAAAAAAAAAAAAAAAAAAAAAAAAAAAAAAAAAAAAAAAAAAAAAAAAAAAAAAAAAAAAAAAAAAAAAAAAAAAAAAAAAAAAAAAAAAAAAAAAAAAAAAAAAAAAAAAAAAAAAAAAAAAAAAAAAAAAAAAAAAAAAAAAAAAAAAAAAAAAAAAAAAAAAAAAAAAAAAAAAAAAAAAAAAAAAAAAAAAAAAAAAAAAAAAAAAAAAAAAAAAAAAAAAAAAAAAAAAAAAAAAAAAAAAAAAAAAAAAAAAAAAAAAAAAAAAAAAAAAAAAAAAAAAAAAAAAAAAAAAAAAAAAAAAAAAAAAAAAAAAAAAAAAAAAAAAAAAAAAAAAAAAAAAAAAAAAAAAAAAAAAAAAAAAAAAAAAAAAAAAAAAAAAAAAAAAAAAAAAAAAAAAAAAAAAAAAAAAAAAAAAAAAAAAAAAAAAAAAAAAAAAAAAAAAAAAAAAAAAAAAAAAAAAAAAAAAAAAAAAAAAAAAAAAAAAAAAAAAAAAAAAAAAAAAAAAAAAAAAAAAAAAAAAAAAAAAAAAAAAAAAAAAAAAAAAAAAAAAAAAAAAAAAAAAAAAAAAAAAAAAAAAAAAAAAAAAAAAAAAAAAAAAAAAAAAAAAAAAAAAAAAAAAAAAAAAAAAAAAAAAAAAAAAAAAAAAAAAAAAAAAAAAAAAAAAAAAAAAAAAAAAAAAAAAAAAAAAAAAAAAAAAAAAAAAAAAAAAAAAAAAAAAAAAAAAAAAAAAAAAAAAAAAAAAAAAAAAAAAAAAAAAAAAAAAAAAAAAAAAAAAAAAAAAAAAAAAAAAAAAAAAAAAAAAAAAAAAAAAAAAAAAAAAAAAAAAAAAAAAAAAAAAAAAAAAAAAAAAAAAAAAAAAAAAAAAAAAAAAAAAAAAAAAAAAAAAAAAAAAAAAAAAAAAAAAAAAAAAAAAAAAAAAAAAAAAAAAAAAAAAAAAAAAAAAAAAAAAAAAAAAAAAAAAAAAAAAAAAAAAAAAAAAAAAAAAAAAAAAAAAAAAAAAAAAAAAAAAAAAAAAAAAAAAAAAAAAAAAAAAAAAAAAAAAAAAAAAAAAAAAAAAAAAAAAAAAAAAAAAAAAAAAAAAAAAAAAAAAAAAAAAAAAAAAAAAAAAAAAAAAAAAAAAAAAAAAAAAAAAAAAAAAAAAAAAAAAAAAAAAAAAAAAAAAAAAAAAAAAAAAAAAAAAAAAAAAAAAAAAAAAAAAAAAAAAAAAAAAAAAAAAAAAAAAAAAAAAAAAAAAAAAAAAAAAAAAAAAAAAAAAAAAAAAAAAAAAAAAAAAAAAAAAAAAAAAAAAAAAAAAAAAAAAAAAAAAAAAAAAAAAAAAAAAAAAAAAAAAAAAAAAAAAAAAAAAAAAAAAAAAAAAAAAAAAAAAAAAAAAAAAAAAAAAAAAAAAAAAAAAAAAAAAAAAAAAAAAAAAAAAAAAAAAAAAAAAAAAAAAAAAAAAAAAAAAAAAAAAAAAAAAAAAAAAAAAAAAAAAAAAAAAAAAAAAAAAAAAAAAAAAAAAAAAAAAAAAAAAAAAAAAAAAAAAAAAAAAAAAAAAAAAAAAAAAAAAAAAAAAAAAAAAAAAAAAAAAAAAAAAAAAAAAAAAAAAAAAAAAAAAAAAAAAAAAAAAAAAAAAAAAAAAAAAAAAAAAAAAAAAAAAAAAAAAAAAAAAAAAAAAAAAAAAAAAAAAAAAAAAAAAAAAAAAAAAAAAAAAAAAAAAAAAAAAAAAAAAAAAAAAAAAAAAAAAAAAAAAAAAAAAAAAAAAAAAAAAAAAAAAAAAAAAAAAAAAAAAAAAAAAAAAAAAAAAAAAAAAAAAAAAAAAAAAAAAAAAAAAAAAAAAAAAAAAAAAAAAAAAAAAAAAAAAAAAAAAAAAAAAAAAAAAAAAAAAAAAAAAAAAAAAAAAAAAAAAAAAAAAAAAAAAAAAAAAAAAAAAAAAAAAAAAAAAAAAAAAAAAAAAAAAAAAAAAAAAAAAAAAAAAAAAAAAAAAAAAAAAAAAAAAAAAAAAAAAAAAAAAAAAAAAAAAAAAAAAAAAAAAAAAAAAAAAAAAAAAAAAAAAAAAAAAAAAAAAAAAAAAAAAAAAAAAAAAAAAAAAAAAAAAAAAAAAAAAAAAAAAAAAAAAAAAAAAAAAAAAAAAAAAAAAAAAAAAAAAAAAAAAAAAAAAAAAAAAAAAAAAAAAAAAAAAAAAAAAAAAAAAAAAAAAAAAAAAAAAAAAAAAAAAAAAAAAAAAAAAAAAAAAAAAAAAAAAAAAAAAAAAAAAAAAAAAAAAAAAAAAAAAAAAAAAAAAAAAAAAAAAAAAAAAAAAAAAAAAAAAAAAAAAAAAAAAAAAAAAAAAAAAAAAAAAAAAAAAAAAAAAAAAAAAAAAAAAAAAAAAAAAAAAAAAAAAAAAAAAAAAAAAAAAAAAAAAAAAAAAAAAAAAAAAAAAAAAAAAAAAAAAAAAAAAAAAAAAAAAAAAAAAAAAAAAAAAAAAAAAAAAAAAAAAAAAAAAAAAAAAAAAAAAAAAAAAAAAAAAAAAAAAAAAAAAAAAAAAAAAAAAAAAAAAAAAAAAAAAAAAAAAAAAAAAAAAAAAAAAAAAAAAAAAAAAAAAAAAAAAAAAAAAAAAAAAAAAAAAAAAAAAAAAAAAAAAAAAAAAAAAAAAAAAAAAAAAAAAAAAAAAAAAAAAAAAAAAAAAAAAAAAAAAAAAAAAAAAAAAAAAAAAAAAAAAAAAAAAAAAAAAAAAAAAAAAAAAAAAAAAAAAAAAAAAAAAAAAAAAAAAAAAAAAAAAAAAAAAAAAAAAAAAAAAAAAAAAAAAAAAAAAAAAAAAAAAAAAAAAAAAAAAAAAAAAAAAAAAAAAAAAAAAAAAAAAAAAAAAAAAAAAAAAAAAAAAAAAAAAAAAAAAAAAAAAAAAAAAAAAAAAAAAAAAAAAAAAAAAAAAAAAAAAAAAAAAAAAAAAAAAAAAAAAAAAAAAAAAAAAAAAAAAAAAAAAAAAAAAAAAAAAAAAAAAAAAAAAAAAAAAAAAAAAAAAAAAAAAAAAAAAAAAAAAAAAAAAAAAAAAAAAAAAAAAAAAAAAAAAAAAAAAAAAAAAAAAAAAAAAAAAAAAAAAAAAAAAAAAAAAAAAAAAAAAAAAAAAAAAAAAAAAAAAAAAAAAAAAAAAAAAAAAAAAAAAAAAAAAAAAAAAAAAAAAAAAAAAAAAAAAAAAAAAAAAAAAAAAAAAAAAAAAAAAAAAAAAAAAAAAAAAAAAAAAAAAAAAAAAAAAAAAAAAAAAAAAAAAAAAAAAAAAAAAAAAAAAAAAAAAAAAAAAAAAAAAAAAAAAAAAAAAAAAAAAAAAAAAAAAAAAAAAAAAAAAAAAAAAAAAAAAAAAAAAAAAAAAAAAAAAAAAAAAAAAAAAAAAAAAAAAAAAAAAAAAAAAAAAAAAAAAAAAAAAAAAAAAAAAAAAAAAAAAAAAAAAAAAAAAAAAAAAAAAAAAAAAAAAAAAAAAAAAAAAAAAAAAAAAAAAAAAAAAAAAAAAAAAAAAAAAAAAAAAAAAAAAAAAAAAAAAAAAAAAAAAAAAAAAAAAAAAAAAAAAAAAAAAAAAAAAAAAAAAAAAAAAAAAAAAAAAAAAAAAAAAAAAAAAAAAAAAAAAAAAAAAAAAAAAAAAAAAAAAAAAAAAAAAAAAAAAAAAAAAAAAAAAAAAAAAAAAAAAAAAAAAAAAAAAAAAAAAAAAAAAAAAAAAAAAAAAAAAAAAAAAAAAAAAAAAAAAAAAAAAAAAAAAAAAAAAAAAAAAAAAAAAAAAAAAAAAAAAAAAAAAAAAAAAAAAAAAAAAAAAAAAAAAAAAAAAAAAAAAAAAAAAAAAAAAAAAAAAAAAAAAAAAAAAAAAAAAAAAAAAAAAAAAAAAAAAAAAAAAAAAAAAAAAAAAAAAAAAAAAAAAAAAAAAAAAAAAAAAAAAAAAAAAAAAAAAAAAAAAAAAAAAAAAAAAAAAAAAAAAAAAAAAAAAAAAAAAAAAAAAAAAAAAAAAAAAAAAAAAAAAAAAAAAAAAAAAAAAAAAAAAAAAAAAAAAAAAAAAAAAAAAAAAAAAAAAAAAAAAAAAAAAAAAAAAAAAAAAAAAAAAAAAAAAAAAAAAAAAAAAAAAAAAAAAAAAAAAAAAAAAAAAAAAAAAAAAAAAAAAAAAAAAAAAAAAAAAAAAAAAAAAAAAAAAAAAAAAAAAAAAAAAAAAAAAAAAAAAAAAAAAAAAAAAAAAAAAAAAAAAAAAAAAAAAAAAAAAAAAAAAAAAAAAAAAAAAAAAAAAAAAAAAAAAAAAAAAAAAAAAAAAAAAAAAAAAAAAAAAAAAAAAAAAAAAAAAAAAAAAAAAAAAAAAAAAAAAAAAAAAAAAAAAAAAAAAAAAAAAAAAAAAAAAAAAAAAAAAAAAAAAAAAAAAAAAAAAAAAAAAAAAAAAAAAAAAAAAAAAAAAAAAAAAAAAAAAAAAAAAAAAAAAAAAAAAAAAAAAAAAAAAAAAAAAAAAAAAAAAAAAAAAAAAAAAAAAAAAAAAAAAAAAAAAAAAAAAAAAAAAAAAAAAAAAAAAAAAAAAAAAAAAAAAAAAAAAAAAAAAAAAAAAAAAAAAAAAAAAAAAAAAAAAAAAAAAAAAAAAAAAAAAAAAAAAAAAAAAAAAAAAAAAAAAAAAAAAAAAAAAAAAAAAAAAAAAAAAAAAAAAAAAAAAAAAAAAAAAAAAAAAAAAAAAAAAAAAAAAAAAAAAAAAAAAAAAAAAAAAAAAAAAAAAAAAAAAAAAAAAAAAAAAAAAAAAAAAAAAAAAAAAAAAAAAAAAAAAAAAAAAAAAAAAAAAAAAAAAAAAAAAAAAAAAAAAAAAAAAAAAAAAAAAAAAAAAAAAAAAAAAAAAAAAAAAAAAAAAAAAAAAAAAAAAAAAAAAAAAAAAAAAAAAAAAAAAAAAAAAAAAAAAAAAAAAAAAAAAAAAAAAAAAAAAAAAAAAAAAAAAAAAAAAAAAAAAAAAAAAAAAAAAAAAAAAAAAA=\" type=\"audio/x-wav\" />\n",
              "                    Your browser does not support the audio element.\n",
              "                </audio>\n",
              "              "
            ],
            "text/plain": [
              "<IPython.lib.display.Audio object>"
            ]
          },
          "metadata": {},
          "output_type": "display_data"
        }
      ],
      "source": [
        "import os\n",
        "\n",
        "if __name__ == \"__main__\":\n",
        "    print(\"welcome to robospeaker\")\n",
        "    try:\n",
        "        while True:\n",
        "            x = input(\"enter what you want to speak:\")\n",
        "            if x == \"q\":\n",
        "                os.system(\"bye\")\n",
        "                break\n",
        "            # Save audio to a .wav file\n",
        "            command = f\"espeak -w output.wav '{x}'\"\n",
        "            os.system(command)\n",
        "\n",
        "            # Play the audio using IPython.display.Audio\n",
        "            from IPython.display import Audio\n",
        "            display(Audio(\"output.wav\", autoplay=True))\n",
        "    except KeyboardInterrupt:\n",
        "        print(\"\\nProgram interrupted by user. Exiting...\")"
      ]
    },
    {
      "cell_type": "code",
      "execution_count": null,
      "metadata": {
        "colab": {
          "base_uri": "https://localhost:8080/"
        },
        "id": "Lmn7mw8aoUD1",
        "outputId": "f8590f78-1109-4b54-e0ab-60e3070b7cd0"
      },
      "outputs": [
        {
          "name": "stdout",
          "output_type": "stream",
          "text": [
            "\r0% [Working]\r            \rHit:1 http://archive.ubuntu.com/ubuntu jammy InRelease\n",
            "\r0% [Waiting for headers] [Waiting for headers] [Connected to cloud.r-project.org (3.171.85.15)] [Con\r                                                                                                    \rGet:2 http://archive.ubuntu.com/ubuntu jammy-updates InRelease [128 kB]\n",
            "\r                                                                                                    \rGet:3 http://security.ubuntu.com/ubuntu jammy-security InRelease [129 kB]\n",
            "\r                                                                                                    \rGet:4 https://cloud.r-project.org/bin/linux/ubuntu jammy-cran40/ InRelease [3,626 B]\n",
            "Get:5 http://archive.ubuntu.com/ubuntu jammy-backports InRelease [127 kB]\n",
            "Get:6 https://r2u.stat.illinois.edu/ubuntu jammy InRelease [6,555 B]\n",
            "Hit:7 https://ppa.launchpadcontent.net/deadsnakes/ppa/ubuntu jammy InRelease\n",
            "Hit:8 https://ppa.launchpadcontent.net/graphics-drivers/ppa/ubuntu jammy InRelease\n",
            "Get:9 http://security.ubuntu.com/ubuntu jammy-security/universe amd64 Packages [1,228 kB]\n",
            "Hit:10 https://ppa.launchpadcontent.net/ubuntugis/ppa/ubuntu jammy InRelease\n",
            "Get:11 http://security.ubuntu.com/ubuntu jammy-security/main amd64 Packages [2,561 kB]\n",
            "Get:12 http://archive.ubuntu.com/ubuntu jammy-updates/universe amd64 Packages [1,520 kB]\n",
            "Get:13 http://archive.ubuntu.com/ubuntu jammy-updates/main amd64 Packages [2,861 kB]\n",
            "Get:14 http://archive.ubuntu.com/ubuntu jammy-backports/universe amd64 Packages [35.2 kB]\n",
            "Get:15 https://r2u.stat.illinois.edu/ubuntu jammy/main all Packages [8,622 kB]\n",
            "Get:16 https://r2u.stat.illinois.edu/ubuntu jammy/main amd64 Packages [2,647 kB]\n",
            "Ign:17 https://developer.download.nvidia.com/compute/cuda/repos/ubuntu2204/x86_64  InRelease\n",
            "Ign:17 https://developer.download.nvidia.com/compute/cuda/repos/ubuntu2204/x86_64  InRelease\n",
            "Ign:17 https://developer.download.nvidia.com/compute/cuda/repos/ubuntu2204/x86_64  InRelease\n",
            "Err:17 https://developer.download.nvidia.com/compute/cuda/repos/ubuntu2204/x86_64  InRelease\n",
            "  Could not connect to developer.download.nvidia.com:443 (23.222.16.104), connection timed out Could not connect to developer.download.nvidia.com:443 (23.222.16.147), connection timed out\n",
            "Fetched 19.9 MB in 1min 8s (291 kB/s)\n",
            "Reading package lists... Done\n",
            "W: Skipping acquire of configured file 'main/source/Sources' as repository 'https://r2u.stat.illinois.edu/ubuntu jammy InRelease' does not seem to provide it (sources.list entry misspelt?)\n",
            "W: Failed to fetch https://developer.download.nvidia.com/compute/cuda/repos/ubuntu2204/x86_64/InRelease  Could not connect to developer.download.nvidia.com:443 (23.222.16.104), connection timed out Could not connect to developer.download.nvidia.com:443 (23.222.16.147), connection timed out\n",
            "W: Some index files failed to download. They have been ignored, or old ones used instead.\n",
            "Reading package lists... Done\n",
            "Building dependency tree... Done\n",
            "Reading state information... Done\n",
            "ffmpeg is already the newest version (7:4.4.2-0ubuntu0.22.04.1).\n",
            "The following additional packages will be installed:\n",
            "  espeak-data libespeak1 libportaudio2 libsonic0\n",
            "The following NEW packages will be installed:\n",
            "  espeak espeak-data libespeak1 libportaudio2 libsonic0\n",
            "0 upgraded, 5 newly installed, 0 to remove and 51 not upgraded.\n",
            "Need to get 1,382 kB of archives.\n",
            "After this operation, 3,178 kB of additional disk space will be used.\n",
            "Get:1 http://archive.ubuntu.com/ubuntu jammy/universe amd64 libportaudio2 amd64 19.6.0-1.1 [65.3 kB]\n",
            "Get:2 http://archive.ubuntu.com/ubuntu jammy/main amd64 libsonic0 amd64 0.2.0-11build1 [10.3 kB]\n",
            "Get:3 http://archive.ubuntu.com/ubuntu jammy/universe amd64 espeak-data amd64 1.48.15+dfsg-3 [1,085 kB]\n",
            "Get:4 http://archive.ubuntu.com/ubuntu jammy/universe amd64 libespeak1 amd64 1.48.15+dfsg-3 [156 kB]\n",
            "Get:5 http://archive.ubuntu.com/ubuntu jammy/universe amd64 espeak amd64 1.48.15+dfsg-3 [64.2 kB]\n",
            "Fetched 1,382 kB in 1s (1,656 kB/s)\n",
            "Selecting previously unselected package libportaudio2:amd64.\n",
            "(Reading database ... 124574 files and directories currently installed.)\n",
            "Preparing to unpack .../libportaudio2_19.6.0-1.1_amd64.deb ...\n",
            "Unpacking libportaudio2:amd64 (19.6.0-1.1) ...\n",
            "Selecting previously unselected package libsonic0:amd64.\n",
            "Preparing to unpack .../libsonic0_0.2.0-11build1_amd64.deb ...\n",
            "Unpacking libsonic0:amd64 (0.2.0-11build1) ...\n",
            "Selecting previously unselected package espeak-data:amd64.\n",
            "Preparing to unpack .../espeak-data_1.48.15+dfsg-3_amd64.deb ...\n",
            "Unpacking espeak-data:amd64 (1.48.15+dfsg-3) ...\n",
            "Selecting previously unselected package libespeak1:amd64.\n",
            "Preparing to unpack .../libespeak1_1.48.15+dfsg-3_amd64.deb ...\n",
            "Unpacking libespeak1:amd64 (1.48.15+dfsg-3) ...\n",
            "Selecting previously unselected package espeak.\n",
            "Preparing to unpack .../espeak_1.48.15+dfsg-3_amd64.deb ...\n",
            "Unpacking espeak (1.48.15+dfsg-3) ...\n",
            "Setting up libportaudio2:amd64 (19.6.0-1.1) ...\n",
            "Setting up libsonic0:amd64 (0.2.0-11build1) ...\n",
            "Setting up espeak-data:amd64 (1.48.15+dfsg-3) ...\n",
            "Setting up libespeak1:amd64 (1.48.15+dfsg-3) ...\n",
            "Setting up espeak (1.48.15+dfsg-3) ...\n",
            "Processing triggers for man-db (2.10.2-1) ...\n",
            "Processing triggers for libc-bin (2.35-0ubuntu3.4) ...\n",
            "/sbin/ldconfig.real: /usr/local/lib/libtbbbind_2_5.so.3 is not a symbolic link\n",
            "\n",
            "/sbin/ldconfig.real: /usr/local/lib/libtbbmalloc_proxy.so.2 is not a symbolic link\n",
            "\n",
            "/sbin/ldconfig.real: /usr/local/lib/libhwloc.so.15 is not a symbolic link\n",
            "\n",
            "/sbin/ldconfig.real: /usr/local/lib/libtbb.so.12 is not a symbolic link\n",
            "\n",
            "/sbin/ldconfig.real: /usr/local/lib/libur_adapter_level_zero.so.0 is not a symbolic link\n",
            "\n",
            "/sbin/ldconfig.real: /usr/local/lib/libtbbbind_2_0.so.3 is not a symbolic link\n",
            "\n",
            "/sbin/ldconfig.real: /usr/local/lib/libtcm.so.1 is not a symbolic link\n",
            "\n",
            "/sbin/ldconfig.real: /usr/local/lib/libur_loader.so.0 is not a symbolic link\n",
            "\n",
            "/sbin/ldconfig.real: /usr/local/lib/libur_adapter_opencl.so.0 is not a symbolic link\n",
            "\n",
            "/sbin/ldconfig.real: /usr/local/lib/libtcm_debug.so.1 is not a symbolic link\n",
            "\n",
            "/sbin/ldconfig.real: /usr/local/lib/libtbbmalloc.so.2 is not a symbolic link\n",
            "\n",
            "/sbin/ldconfig.real: /usr/local/lib/libtbbbind.so.3 is not a symbolic link\n",
            "\n",
            "/sbin/ldconfig.real: /usr/local/lib/libumf.so.0 is not a symbolic link\n",
            "\n"
          ]
        }
      ],
      "source": [
        "!apt-get update && apt-get install -y espeak ffmpeg"
      ]
    },
    {
      "cell_type": "code",
      "execution_count": null,
      "metadata": {
        "colab": {
          "background_save": true,
          "base_uri": "https://localhost:8080/"
        },
        "id": "TOcwNi_OoD2E",
        "outputId": "5a83ebf1-052d-4d1b-bb3c-f51648b9104d"
      },
      "outputs": [
        {
          "name": "stdout",
          "output_type": "stream",
          "text": [
            "Welcome to Weather Speaker\n"
          ]
        }
      ],
      "source": [
        "import requests\n",
        "import json\n",
        "import os\n",
        "\n",
        "def speak(text):\n",
        "    \"\"\"Speaks the given text using espeak.\"\"\"\n",
        "    os.system(f'espeak \"{text}\"')\n",
        "\n",
        "if __name__ == \"__main__\":\n",
        "    print(\"Welcome to Weather Speaker\")\n",
        "    while True:\n",
        "        city = input(\"Enter the city (or 'q' to quit): \")\n",
        "        if city.lower() == 'q':\n",
        "            speak(\"Goodbye!\")\n",
        "            break\n",
        "\n",
        "        url = f'http://api.weatherapi.com/v1/current.json?key=5b0abe90c5a1478ea6890715252401&q={city}'\n",
        "        r = requests.get(url)\n",
        "\n",
        "        if r.status_code == 200:\n",
        "            wdic = json.loads(r.text)\n",
        "            temp_c = wdic[\"current\"][\"temp_c\"]\n",
        "            message = f\"The current temperature in {city} is {temp_c} degrees Celsius.\"\n",
        "            speak(message)  # Use the speak function\n",
        "        else:\n",
        "            speak(\"Error fetching weather data. Please try again.\")"
      ]
    },
    {
      "cell_type": "code",
      "execution_count": null,
      "metadata": {
        "colab": {
          "base_uri": "https://localhost:8080/"
        },
        "id": "IbBGQ5rWSTip",
        "outputId": "fe3a7fdd-0f1d-40b4-c94a-e0d935a71642"
      },
      "outputs": [
        {
          "name": "stdout",
          "output_type": "stream",
          "text": [
            "enter the cityagra\n",
            "{\"location\":{\"name\":\"Agra\",\"region\":\"Uttar Pradesh\",\"country\":\"India\",\"lat\":27.1833,\"lon\":78.0167,\"tz_id\":\"Asia/Kolkata\",\"localtime_epoch\":1737710157,\"localtime\":\"2025-01-24 14:45\"},\"current\":{\"last_updated_epoch\":1737710100,\"last_updated\":\"2025-01-24 14:45\",\"temp_c\":22.8,\"temp_f\":73.1,\"is_day\":1,\"condition\":{\"text\":\"Sunny\",\"icon\":\"//cdn.weatherapi.com/weather/64x64/day/113.png\",\"code\":1000},\"wind_mph\":11.9,\"wind_kph\":19.1,\"wind_degree\":318,\"wind_dir\":\"NW\",\"pressure_mb\":1014.0,\"pressure_in\":29.93,\"precip_mm\":0.0,\"precip_in\":0.0,\"humidity\":25,\"cloud\":0,\"feelslike_c\":23.1,\"feelslike_f\":73.5,\"windchill_c\":22.8,\"windchill_f\":73.1,\"heatindex_c\":23.1,\"heatindex_f\":73.5,\"dewpoint_c\":1.7,\"dewpoint_f\":35.1,\"vis_km\":10.0,\"vis_miles\":6.0,\"uv\":2.9,\"gust_mph\":13.7,\"gust_kph\":22.0}}\n",
            "22.8\n"
          ]
        }
      ],
      "source": [
        "import requests\n",
        "import json\n",
        "import os\n",
        "city = input(\"enter the city:\")\n",
        "url=f'http://api.weatherapi.com/v1/current.json?key=5b0abe90c5a1478ea6890715252401&q={city}'\n",
        "r = requests.get(url)\n",
        "print(r.text)\n",
        "wdic = json.loads(r.text)\n",
        "print(wdic[\"current\"][\"temp_c\"])\n",
        "os.system(f)\n"
      ]
    },
    {
      "cell_type": "code",
      "execution_count": null,
      "metadata": {
        "id": "n9KrYE_apB4L"
      },
      "outputs": [],
      "source": [
        "l"
      ]
    }
  ],
  "metadata": {
    "colab": {
      "provenance": [],
      "authorship_tag": "ABX9TyMOKDlmMATuArLJZiARFg6V",
      "include_colab_link": true
    },
    "kernelspec": {
      "display_name": "Python 3",
      "name": "python3"
    },
    "language_info": {
      "name": "python"
    }
  },
  "nbformat": 4,
  "nbformat_minor": 0
}